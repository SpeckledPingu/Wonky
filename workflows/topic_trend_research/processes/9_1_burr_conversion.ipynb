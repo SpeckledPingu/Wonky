{
 "cells": [
  {
   "cell_type": "code",
   "id": "initial_id",
   "metadata": {
    "collapsed": true,
    "ExecuteTime": {
     "end_time": "2025-04-20T22:35:32.769799Z",
     "start_time": "2025-04-20T22:35:32.766087Z"
    }
   },
   "source": [
    "from sentence_transformers import SentenceTransformer\n",
    "import lancedb\n",
    "from tqdm.notebook import tqdm\n",
    "import torch\n",
    "from collections import defaultdict\n",
    "import re\n",
    "import pandas as pd\n",
    "from pathlib import Path\n",
    "import json\n",
    "from datetime import datetime\n",
    "from dotenv import load_dotenv\n",
    "\n",
    "from openai import OpenAI\n",
    "from google import genai\n",
    "from google.genai import types\n",
    "from sklearn.metrics.pairwise import cosine_similarity\n",
    "import os\n",
    "import time\n",
    "load_dotenv('env_var')\n",
    "\n",
    "import wikipediaapi\n",
    "import wikipedia\n",
    "from burr.core import action, State, ApplicationBuilder, ApplicationContext, Action\n",
    "from burr.core.parallelism import MapStates, RunnableGraph\n",
    "\n",
    "from working_folder.workflows.topic_trend_research.prompts.base_prompts import trend_report_prompt, follow_up_prompt, follow_up_query_prompt, \\\n",
    "                                                                                executive_summary_prompt\n",
    "\n",
    "wiki_wiki = wikipediaapi.Wikipedia(user_agent='Wonky', language='en')"
   ],
   "outputs": [],
   "execution_count": 10
  },
  {
   "metadata": {
    "ExecuteTime": {
     "end_time": "2025-04-20T22:34:27.170542Z",
     "start_time": "2025-04-20T22:34:27.144256Z"
    }
   },
   "cell_type": "code",
   "source": [
    "%load_ext burr.integrations.notebook\n",
    "%burr_ui"
   ],
   "id": "3c10e7eacc7ff990",
   "outputs": [
    {
     "data": {
      "text/plain": [
       "<IPython.lib.display.IFrame at 0x10565a710>"
      ],
      "text/html": [
       "\n",
       "        <iframe\n",
       "            width=\"100%\"\n",
       "            height=\"400\"\n",
       "            src=\"http://127.0.0.1:7241\"\n",
       "            frameborder=\"0\"\n",
       "            allowfullscreen\n",
       "            \n",
       "        ></iframe>\n",
       "        "
      ]
     },
     "metadata": {},
     "output_type": "display_data"
    }
   ],
   "execution_count": 2
  },
  {
   "metadata": {
    "ExecuteTime": {
     "end_time": "2025-04-20T22:34:27.493364Z",
     "start_time": "2025-04-20T22:34:27.491836Z"
    }
   },
   "cell_type": "code",
   "source": [
    "# index = lancedb.connect('../wonky_data/indexes/')\n",
    "# table = index.open_table('sections_hybrid')\n",
    "# encoder = SentenceTransformer('nomic-ai/nomic-embed-text-v1.5', device='mps', trust_remote_code=True)"
   ],
   "id": "a159edfbc96165ee",
   "outputs": [],
   "execution_count": 3
  },
  {
   "metadata": {
    "ExecuteTime": {
     "end_time": "2025-04-20T22:34:27.862542Z",
     "start_time": "2025-04-20T22:34:27.860779Z"
    }
   },
   "cell_type": "code",
   "source": [
    "base_folder = Path('../wonky_data/')\n",
    "index_folder = base_folder.joinpath('indexes')\n",
    "\n",
    "# db = lancedb.connect(index_folder)\n",
    "# report_tbl = db.open_table(\"reports\")\n",
    "# section_tbl = db.open_table(\"reports_section\")"
   ],
   "id": "91487cfa0597d0e3",
   "outputs": [],
   "execution_count": 4
  },
  {
   "metadata": {
    "ExecuteTime": {
     "end_time": "2025-04-20T22:35:35.249952Z",
     "start_time": "2025-04-20T22:35:35.238717Z"
    }
   },
   "cell_type": "code",
   "source": [
    "client = OpenAI(base_url=\"http://localhost:1234/v1\", api_key=\"lm-studio\")\n",
    "def call_llm(query, temperature=0.3, seed=42, model=\"gemma-3-4b-it@Q8_0\"):\n",
    "    completion = client.chat.completions.create(\n",
    "        model=model,\n",
    "        messages=[\n",
    "            {\"role\": \"user\", \"content\": query}\n",
    "        ],\n",
    "        temperature=temperature,\n",
    "        seed=seed,\n",
    "    )\n",
    "    return completion.choices[0].message.content\n",
    "\n",
    "model = \"gemini-2.0-flash\"\n",
    "total_tokens = list()\n",
    "\n",
    "def call_llm_flash(query, temperature=0.1, seed=42, max_tokens=7500 ):\n",
    "    client = genai.Client(api_key=os.environ['GEMINI_API_KEY'])\n",
    "    response = client.models.generate_content(\n",
    "        model=model,\n",
    "        contents=[query],\n",
    "        config=types.GenerateContentConfig(\n",
    "            max_output_tokens=max_tokens,\n",
    "            temperature=temperature,\n",
    "            seed=seed\n",
    "        )\n",
    "    )\n",
    "    total_tokens.append({'prompt_tokens':response.usage_metadata.prompt_token_count,\n",
    "                         'completion_tokens':response.usage_metadata.candidates_token_count,\n",
    "                         'total_tokens':response.usage_metadata.total_token_count,\n",
    "                         'timestamp':datetime.now().strftime(\"%Y_%m_%d_%H_%M_%S\")})\n",
    "\n",
    "    return response.text"
   ],
   "id": "884044fd0c13224d",
   "outputs": [],
   "execution_count": 11
  },
  {
   "metadata": {
    "ExecuteTime": {
     "end_time": "2025-04-20T22:35:35.585751Z",
     "start_time": "2025-04-20T22:35:35.576408Z"
    }
   },
   "cell_type": "code",
   "source": [
    "from copy import deepcopy\n",
    "class ParseWikipediaSections():\n",
    "    def __init__(self):\n",
    "        self.parsed_sections = list()\n",
    "        self.current_hierarchy = {'level_0':'', 'level_1':'', 'level_2':'', 'level_3':'', 'level_4':''}\n",
    "\n",
    "    def _recursive_extract(self, sections, level=0):\n",
    "        for s in sections:\n",
    "            # print(\"%s: %s - %s\" % (\"*\" * (level + 1), s.title, s.text[0:40]))\n",
    "            hierarchy_string = list()\n",
    "            for i in range(0,5):\n",
    "                if i == level:\n",
    "                    self.current_hierarchy[f\"level_{i}\"] = s.title\n",
    "                elif i > level:\n",
    "                    self.current_hierarchy[f\"level_{i}\"] = ''\n",
    "\n",
    "            for i in range(0,5):\n",
    "                _hierarchy_header = self.current_hierarchy[f\"level_{i}\"]\n",
    "                if _hierarchy_header != \"\":\n",
    "                    hierarchy_string.append(_hierarchy_header)\n",
    "            hierarchy_string = '|'.join(hierarchy_string)\n",
    "\n",
    "            self.parsed_sections.append({\"level\": level,\n",
    "                                         \"title\": s.title,\n",
    "                                         \"text\": s.text,\n",
    "                                         \"hierarchy\": deepcopy(self.current_hierarchy),\n",
    "                                         \"hierarchy_string\": hierarchy_string})\n",
    "\n",
    "            self._recursive_extract(s.sections, level + 1)\n",
    "\n",
    "    def parse_wikipedia_sections(self, sections):\n",
    "        self._recursive_extract(sections, level=0)\n",
    "        return self.parsed_sections\n",
    "\n",
    "def get_wikipedia_data(page_name):\n",
    "    wikipedia_page = wiki_wiki.page(page_name)\n",
    "    wikipedia_parser = ParseWikipediaSections()\n",
    "    parsed_sections = wikipedia_parser.parse_wikipedia_sections(wikipedia_page.sections)\n",
    "    wikipedia_data = {'title': wikipedia_page.title,\n",
    "                      'url': wikipedia_page.fullurl,\n",
    "                      'sections': parsed_sections}\n",
    "    return wikipedia_data\n",
    "\n",
    "def search_wikipedia_page(query, num_results=10):\n",
    "    wiki_wiki = wikipediaapi.Wikipedia(user_agent='Wonky', language='en')\n",
    "    search_results = wikipedia.search(query, results=num_results, suggestion=False)\n",
    "    print(search_results)\n",
    "    wikipedia_page_results = list()\n",
    "    for search_result in search_results:\n",
    "        wikipedia_page = wiki_wiki.page(search_result)\n",
    "        wikipedia_parser = ParseWikipediaSections()\n",
    "        parsed_sections = wikipedia_parser.parse_wikipedia_sections(wikipedia_page.sections)\n",
    "        try:\n",
    "            wikipedia_data = {'title': wikipedia_page.title,\n",
    "                              'url': wikipedia_page.fullurl,\n",
    "                              'sections': parsed_sections,\n",
    "                              'full_text': wikipedia_page.text}\n",
    "        except Exception as e:\n",
    "            continue\n",
    "        wikipedia_page_results.append(wikipedia_data)\n",
    "        time.sleep(1)\n",
    "    return wikipedia_page_results\n",
    "\n",
    "def format_sections_w_citations(wiki_document, base_citation):\n",
    "    first_section = wiki_document[0]\n",
    "    current_level_1_idx = 1\n",
    "    current_level_2_idx = 1\n",
    "    current_level_1_name = first_section['hierarchy']['level_0']\n",
    "    current_level_2_name = first_section['hierarchy']['level_1']\n",
    "    formatted_sections = list()\n",
    "    first_section['citation'] = f\"{base_citation}({current_level_1_idx})({current_level_2_idx})\"\n",
    "    formatted_sections.append(first_section)\n",
    "    if len(wiki_document) > 1:\n",
    "        for section in wiki_document[1:]:\n",
    "            # if current_level_1_name == '':\n",
    "            #     current_level_1_name = section['hierarchy']['level_0']\n",
    "            # if current_level_2_name == '':\n",
    "            #     current_level_2_name = section['hierarchy']['level_1']\n",
    "            #     current_level_2_idx = 1\n",
    "\n",
    "            if current_level_1_name != section['hierarchy']['level_0']:\n",
    "                current_level_1_name = section['hierarchy']['level_0']\n",
    "                current_level_2_name = section['hierarchy']['level_1']\n",
    "                current_level_1_idx += 1\n",
    "                current_level_2_idx = 1\n",
    "                print(current_level_1_name)\n",
    "            elif (current_level_1_name == section['hierarchy']['level_0']) and (current_level_2_name != section['hierarchy']['level_1']):\n",
    "                current_level_2_name = section['hierarchy']['level_1']\n",
    "                current_level_2_idx += 1\n",
    "            else:\n",
    "                current_level_2_idx += 1\n",
    "\n",
    "            section['citation'] = f\"{base_citation}({current_level_1_idx})({current_level_2_idx})\"\n",
    "            print(section['citation'])\n",
    "            formatted_sections.append(section)\n",
    "            # current_level_1_idx += 1\n",
    "            # current_level_2_idx = 1\n",
    "    return formatted_sections"
   ],
   "id": "e8791ccfe2e010eb",
   "outputs": [],
   "execution_count": 12
  },
  {
   "metadata": {
    "ExecuteTime": {
     "end_time": "2025-04-20T22:35:36.940690Z",
     "start_time": "2025-04-20T22:35:36.937561Z"
    }
   },
   "cell_type": "code",
   "source": [
    "report_folder = Path('wonky_data/data/research_data')\n",
    "report_file_name = \"rural broadband in america_20250416150226.json\"\n",
    "research = [report_folder.joinpath(report_file_name)]\n",
    "# research_project = 'south_america_research_topics'\n",
    "# report_folder = report_folder.joinpath(research_project)\n",
    "# research = list(report_folder.glob('*.json'))\n",
    "\n",
    "context_folder = Path('wonky_data/data/context_research')\n",
    "context_file = [context_folder.joinpath(report_file_name)]\n",
    "research, context_file"
   ],
   "id": "ff636a64d3ead10f",
   "outputs": [
    {
     "data": {
      "text/plain": [
       "([PosixPath('wonky_data/data/research_data/rural broadband in america_20250416150226.json')],\n",
       " [PosixPath('wonky_data/data/context_research/rural broadband in america_20250416150226.json')])"
      ]
     },
     "execution_count": 13,
     "metadata": {},
     "output_type": "execute_result"
    }
   ],
   "execution_count": 13
  },
  {
   "metadata": {
    "ExecuteTime": {
     "end_time": "2025-04-20T22:35:39.065368Z",
     "start_time": "2025-04-20T22:35:38.950130Z"
    }
   },
   "cell_type": "code",
   "source": [
    "with open(research[0],'r') as f:\n",
    "    research_data = json.load(f)\n",
    "\n",
    "with open(context_file[0],'r') as f:\n",
    "    context_data = json.load(f)"
   ],
   "id": "7450d25442000233",
   "outputs": [
    {
     "ename": "FileNotFoundError",
     "evalue": "[Errno 2] No such file or directory: 'wonky_data/data/research_data/rural broadband in america_20250416150226.json'",
     "output_type": "error",
     "traceback": [
      "\u001B[31m---------------------------------------------------------------------------\u001B[39m",
      "\u001B[31mFileNotFoundError\u001B[39m                         Traceback (most recent call last)",
      "\u001B[36mCell\u001B[39m\u001B[36m \u001B[39m\u001B[32mIn[14]\u001B[39m\u001B[32m, line 1\u001B[39m\n\u001B[32m----> \u001B[39m\u001B[32m1\u001B[39m \u001B[38;5;28;01mwith\u001B[39;00m \u001B[38;5;28;43mopen\u001B[39;49m\u001B[43m(\u001B[49m\u001B[43mresearch\u001B[49m\u001B[43m[\u001B[49m\u001B[32;43m0\u001B[39;49m\u001B[43m]\u001B[49m\u001B[43m,\u001B[49m\u001B[33;43m'\u001B[39;49m\u001B[33;43mr\u001B[39;49m\u001B[33;43m'\u001B[39;49m\u001B[43m)\u001B[49m \u001B[38;5;28;01mas\u001B[39;00m f:\n\u001B[32m      2\u001B[39m     research_data = json.load(f)\n\u001B[32m      4\u001B[39m \u001B[38;5;28;01mwith\u001B[39;00m \u001B[38;5;28mopen\u001B[39m(context_file[\u001B[32m0\u001B[39m],\u001B[33m'\u001B[39m\u001B[33mr\u001B[39m\u001B[33m'\u001B[39m) \u001B[38;5;28;01mas\u001B[39;00m f:\n",
      "\u001B[36mFile \u001B[39m\u001B[32m/opt/anaconda3/envs/wonk/lib/python3.11/site-packages/IPython/core/interactiveshell.py:326\u001B[39m, in \u001B[36m_modified_open\u001B[39m\u001B[34m(file, *args, **kwargs)\u001B[39m\n\u001B[32m    319\u001B[39m \u001B[38;5;28;01mif\u001B[39;00m file \u001B[38;5;129;01min\u001B[39;00m {\u001B[32m0\u001B[39m, \u001B[32m1\u001B[39m, \u001B[32m2\u001B[39m}:\n\u001B[32m    320\u001B[39m     \u001B[38;5;28;01mraise\u001B[39;00m \u001B[38;5;167;01mValueError\u001B[39;00m(\n\u001B[32m    321\u001B[39m         \u001B[33mf\u001B[39m\u001B[33m\"\u001B[39m\u001B[33mIPython won\u001B[39m\u001B[33m'\u001B[39m\u001B[33mt let you open fd=\u001B[39m\u001B[38;5;132;01m{\u001B[39;00mfile\u001B[38;5;132;01m}\u001B[39;00m\u001B[33m by default \u001B[39m\u001B[33m\"\u001B[39m\n\u001B[32m    322\u001B[39m         \u001B[33m\"\u001B[39m\u001B[33mas it is likely to crash IPython. If you know what you are doing, \u001B[39m\u001B[33m\"\u001B[39m\n\u001B[32m    323\u001B[39m         \u001B[33m\"\u001B[39m\u001B[33myou can use builtins\u001B[39m\u001B[33m'\u001B[39m\u001B[33m open.\u001B[39m\u001B[33m\"\u001B[39m\n\u001B[32m    324\u001B[39m     )\n\u001B[32m--> \u001B[39m\u001B[32m326\u001B[39m \u001B[38;5;28;01mreturn\u001B[39;00m \u001B[43mio_open\u001B[49m\u001B[43m(\u001B[49m\u001B[43mfile\u001B[49m\u001B[43m,\u001B[49m\u001B[43m \u001B[49m\u001B[43m*\u001B[49m\u001B[43margs\u001B[49m\u001B[43m,\u001B[49m\u001B[43m \u001B[49m\u001B[43m*\u001B[49m\u001B[43m*\u001B[49m\u001B[43mkwargs\u001B[49m\u001B[43m)\u001B[49m\n",
      "\u001B[31mFileNotFoundError\u001B[39m: [Errno 2] No such file or directory: 'wonky_data/data/research_data/rural broadband in america_20250416150226.json'"
     ]
    }
   ],
   "execution_count": 14
  },
  {
   "metadata": {
    "ExecuteTime": {
     "end_time": "2025-04-20T22:35:40.066630Z",
     "start_time": "2025-04-20T22:35:40.065211Z"
    }
   },
   "cell_type": "code",
   "source": "",
   "id": "af9953ad0a0f6e47",
   "outputs": [],
   "execution_count": null
  },
  {
   "metadata": {},
   "cell_type": "markdown",
   "source": [
    "### Burr Outline\n",
    "\n",
    "1. Load the data based on a source file\n",
    "2. Create the trend analysis report\n",
    "3. Create the follow up document for additional context\n",
    "4. Vectorize the wikipedia search results and index them\n",
    "5. Search for the relevant wikipedia articles\n",
    "6. Format the returned wikipedia sections\n",
    "7. Extract new information from wikipedia\n",
    "8. Create new wikipedia trend report\n",
    "9. Merge wikipedia trend reports\n",
    "10. Create an executive summary"
   ],
   "id": "6bfaf60eef5373dd"
  },
  {
   "metadata": {
    "ExecuteTime": {
     "end_time": "2025-04-20T22:35:41.267199Z",
     "start_time": "2025-04-20T22:35:41.260946Z"
    }
   },
   "cell_type": "code",
   "source": [
    "@action(reads=[], writes=[\"report_data\", \"file_name\", \"file_path\"])\n",
    "def load_report_from_file(state: State, file_path: Path) -> State:\n",
    "    with open(file_path,'r') as f:\n",
    "        report_data = json.load(f)\n",
    "\n",
    "    return state.update(report_data=report_data,\n",
    "                        file_path=str(file_path),\n",
    "                        file_name=str(file_path.name))\n",
    "\n",
    "@action(reads=[\"report_data\"], writes=[\"trend_report\"])\n",
    "def create_trend_analysis(state: State, topic: str, focus:str) -> State:\n",
    "    formatted_prompt = trend_report_prompt.format(topic=topic, focus=focus, report_data=state['report_data'])\n",
    "    trend_report = call_llm(formatted_prompt)\n",
    "\n",
    "    return state.update(trend_report=trend_report)\n",
    "\n",
    "@action(reads=[\"trend_report\"], writes=[\"follow_up_report\"])\n",
    "def create_search_follow_up_document(state: State, topic: str, focus: str) -> State:\n",
    "    formatted_prompt = follow_up_prompt.format(topic=topic, focus=focus, trend_report=state['trend_report'])\n",
    "    follow_up_report = call_llm(formatted_prompt)\n",
    "    return state.update(follow_up_report=follow_up_report)\n",
    "\n",
    "@action(reads=[\"follow_up_report\"], writes=[\"follow_up_sources\"])\n",
    "def search_wikipedia(state: State) -> State:\n",
    "    follow_ups = dict()\n",
    "    for section, follow_ups in state['follow_up_report'].items():\n",
    "        formatted_follow_up_prompt = follow_up_query_prompt.format(topic=section, focus=section, trend_report=state['trend_report'],\n",
    "                                                             follow_up=follow_ups)\n",
    "        query = call_llm(formatted_follow_up_prompt)\n",
    "        results = search_wikipedia_page(query, num_results=10)\n",
    "\n",
    "        follow_ups[section] = results\n",
    "\n",
    "    return state.update(follow_up_sources=follow_ups)\n",
    "\n",
    "@action(reads=[\"follow_up_sources\"], writes=[\"temp_index\"])\n",
    "def vectorize_and_index_wikipedia(state: State, temp_index_path: Path) -> State:\n",
    "    # magic here to create temporary database\n",
    "\n",
    "    # create the full document index\n",
    "\n",
    "    # create the section level index\n",
    "\n",
    "    return state.update(temp_index = temp_index_path)\n",
    "\n",
    "@action(reads=[\"temp_index\"], writes=[\"context_sections\"])\n",
    "def search_relevant_wiki_sections(state: State) -> State:\n",
    "    context_sections = list()\n",
    "    # magic to search the index\n",
    "\n",
    "    # Add citations to the information\n",
    "\n",
    "    return state.update(context_sections=context_sections)\n",
    "\n",
    "@action(reads=[\"context_sections\"], writes=[\"wikipedia_trend_report\"])\n",
    "def create_wikipedia_trend_report(state: State, topic: str, focus: str) -> State:\n",
    "    formatted_trend_prompt = trend_report_prompt.format(topic=topic, focus=focus,\n",
    "                                                        context_data=state['context_sections'])\n",
    "    wikipedia_trend_report = call_llm(formatted_trend_prompt)\n",
    "\n",
    "    return state.update(wikipedia_trend_report=wikipedia_trend_report)\n",
    "\n",
    "@action(reads=[\"wikipedia_trend_report\",\"trend_report\"], writes=[\"merged_trend_report\"])\n",
    "def merge_trend_reports(state: State, file_path: Path) -> State:\n",
    "    formatted_prompt = merge_trend_reports.format(trend_report = state['trend_report'],\n",
    "                                                  context_report = state['wikipedia_trend_report'])\n",
    "    merged_trend_report = call_llm(formatted_prompt)\n",
    "    return state.update(merged_trend_report=merged_trend_report)\n",
    "\n",
    "@action(reads=[\"wikipedia_trend_report\",\"report_data\"], writes=[\"executive_summary\"])\n",
    "def create_executive_summary(state: State, topic: str, focus: str) -> State:\n",
    "    formatted_executive_prompt = executive_summary_prompt.format(topic=topic, focus=focus,\n",
    "                                                         report=state['report_data']['report'],\n",
    "                                                         trend_report=state['merged_trend_report'])\n",
    "\n",
    "    executive_summary = call_llm(formatted_executive_prompt)\n",
    "    return state.update(executive_summary=executive_summary)"
   ],
   "id": "b8be796f1c4dfa7c",
   "outputs": [],
   "execution_count": 15
  },
  {
   "metadata": {
    "ExecuteTime": {
     "end_time": "2025-04-20T22:37:03.640300Z",
     "start_time": "2025-04-20T22:37:03.634612Z"
    }
   },
   "cell_type": "code",
   "source": [
    "app = (\n",
    "    ApplicationBuilder()\n",
    "    .with_actions(\n",
    "        load_report_from_file,\n",
    "        create_trend_analysis,\n",
    "        create_search_follow_up_document,\n",
    "        search_wikipedia,\n",
    "        vectorize_and_index_wikipedia,\n",
    "        search_relevant_wiki_sections,\n",
    "        create_wikipedia_trend_report,\n",
    "        merge_trend_reports,\n",
    "        create_executive_summary\n",
    "    )\n",
    "    .with_transitions(\n",
    "        (\"load_report_from_file\", \"create_trend_analysis\"),\n",
    "        (\"create_trend_analysis\", \"create_search_follow_up_document\"),\n",
    "        (\"create_search_follow_up_document\", \"search_wikipedia\"),\n",
    "        (\"search_wikipedia\", \"vectorize_and_index_wikipedia\"),\n",
    "        (\"vectorize_and_index_wikipedia\", \"search_relevant_wiki_sections\"),\n",
    "        (\"search_relevant_wiki_sections\",\"create_wikipedia_trend_report\"),\n",
    "        (\"create_wikipedia_trend_report\", \"merge_trend_reports\"),\n",
    "        (\"merge_trend_reports\", \"create_executive_summary\"))\n",
    "    .with_entrypoint(\"load_report_from_file\")\n",
    "    .with_tracker(\n",
    "        \"local\",\n",
    "        project=f\"research_batch-single_run\",\n",
    "    )\n",
    "    .build()\n",
    ")"
   ],
   "id": "c505967de516b149",
   "outputs": [],
   "execution_count": 19
  },
  {
   "metadata": {
    "ExecuteTime": {
     "end_time": "2025-04-20T22:38:12.155182Z",
     "start_time": "2025-04-20T22:38:11.730564Z"
    }
   },
   "cell_type": "code",
   "source": "app.visualize(\"./graph\", format=\"png\")",
   "id": "51e2c1287109b097",
   "outputs": [
    {
     "data": {
      "image/svg+xml": "<?xml version=\"1.0\" encoding=\"UTF-8\" standalone=\"no\"?>\n<!DOCTYPE svg PUBLIC \"-//W3C//DTD SVG 1.1//EN\"\n \"http://www.w3.org/Graphics/SVG/1.1/DTD/svg11.dtd\">\n<!-- Generated by graphviz version 12.2.1 (0)\n -->\n<!-- Pages: 1 -->\n<svg width=\"622pt\" height=\"635pt\"\n viewBox=\"0.00 0.00 622.17 635.00\" xmlns=\"http://www.w3.org/2000/svg\" xmlns:xlink=\"http://www.w3.org/1999/xlink\">\n<g id=\"graph0\" class=\"graph\" transform=\"scale(1 1) rotate(0) translate(4 631)\">\n<polygon fill=\"white\" stroke=\"none\" points=\"-4,4 -4,-631 618.17,-631 618.17,4 -4,4\"/>\n<!-- load_report_from_file -->\n<g id=\"node1\" class=\"node\">\n<title>load_report_from_file</title>\n<path fill=\"#b4d8e4\" stroke=\"black\" d=\"M435.1,-561.4C435.1,-561.4 309.25,-561.4 309.25,-561.4 303.25,-561.4 297.25,-555.4 297.25,-549.4 297.25,-549.4 297.25,-536.8 297.25,-536.8 297.25,-530.8 303.25,-524.8 309.25,-524.8 309.25,-524.8 435.1,-524.8 435.1,-524.8 441.1,-524.8 447.1,-530.8 447.1,-536.8 447.1,-536.8 447.1,-549.4 447.1,-549.4 447.1,-555.4 441.1,-561.4 435.1,-561.4\"/>\n<text text-anchor=\"middle\" x=\"372.18\" y=\"-537.3\" font-family=\"Helvetica,sans-Serif\" font-size=\"14.00\">load_report_from_file</text>\n</g>\n<!-- create_trend_analysis -->\n<g id=\"node3\" class=\"node\">\n<title>create_trend_analysis</title>\n<path fill=\"#b4d8e4\" stroke=\"black\" d=\"M461.98,-495.8C461.98,-495.8 332.38,-495.8 332.38,-495.8 326.38,-495.8 320.38,-489.8 320.38,-483.8 320.38,-483.8 320.38,-471.2 320.38,-471.2 320.38,-465.2 326.38,-459.2 332.38,-459.2 332.38,-459.2 461.98,-459.2 461.98,-459.2 467.98,-459.2 473.98,-465.2 473.98,-471.2 473.98,-471.2 473.98,-483.8 473.98,-483.8 473.98,-489.8 467.98,-495.8 461.98,-495.8\"/>\n<text text-anchor=\"middle\" x=\"397.18\" y=\"-471.7\" font-family=\"Helvetica,sans-Serif\" font-size=\"14.00\">create_trend_analysis</text>\n</g>\n<!-- load_report_from_file&#45;&gt;create_trend_analysis -->\n<g id=\"edge12\" class=\"edge\">\n<title>load_report_from_file&#45;&gt;create_trend_analysis</title>\n<path fill=\"none\" stroke=\"black\" d=\"M379.14,-524.38C381.31,-518.87 383.75,-512.65 386.13,-506.61\"/>\n<polygon fill=\"black\" stroke=\"black\" points=\"389.29,-508.12 389.69,-497.53 382.78,-505.56 389.29,-508.12\"/>\n</g>\n<!-- input__file_path -->\n<g id=\"node2\" class=\"node\">\n<title>input__file_path</title>\n<polygon fill=\"none\" stroke=\"black\" stroke-dasharray=\"5,2\" points=\"267.85,-627 158.5,-627 158.5,-590.4 267.85,-590.4 267.85,-627\"/>\n<text text-anchor=\"middle\" x=\"213.18\" y=\"-602.9\" font-family=\"Helvetica,sans-Serif\" font-size=\"14.00\">input: file_path</text>\n</g>\n<!-- input__file_path&#45;&gt;load_report_from_file -->\n<g id=\"edge1\" class=\"edge\">\n<title>input__file_path&#45;&gt;load_report_from_file</title>\n<path fill=\"none\" stroke=\"black\" d=\"M257.47,-589.98C276,-582.57 297.72,-573.88 317.26,-566.07\"/>\n<polygon fill=\"black\" stroke=\"black\" points=\"318.46,-569.36 326.44,-562.39 315.86,-562.86 318.46,-569.36\"/>\n</g>\n<!-- merge_trend_reports -->\n<g id=\"node12\" class=\"node\">\n<title>merge_trend_reports</title>\n<path fill=\"#b4d8e4\" stroke=\"black\" d=\"M136.35,-102.2C136.35,-102.2 12,-102.2 12,-102.2 6,-102.2 0,-96.2 0,-90.2 0,-90.2 0,-77.6 0,-77.6 0,-71.6 6,-65.6 12,-65.6 12,-65.6 136.35,-65.6 136.35,-65.6 142.35,-65.6 148.35,-71.6 148.35,-77.6 148.35,-77.6 148.35,-90.2 148.35,-90.2 148.35,-96.2 142.35,-102.2 136.35,-102.2\"/>\n<text text-anchor=\"middle\" x=\"74.18\" y=\"-78.1\" font-family=\"Helvetica,sans-Serif\" font-size=\"14.00\">merge_trend_reports</text>\n</g>\n<!-- input__file_path&#45;&gt;merge_trend_reports -->\n<g id=\"edge9\" class=\"edge\">\n<title>input__file_path&#45;&gt;merge_trend_reports</title>\n<path fill=\"none\" stroke=\"black\" d=\"M184.22,-589.94C152.53,-568.02 106.18,-527.57 106.18,-478.5 106.18,-478.5 106.18,-478.5 106.18,-214.1 106.18,-178.47 94.57,-138.89 85.33,-113.05\"/>\n<polygon fill=\"black\" stroke=\"black\" points=\"88.72,-112.11 81.96,-103.95 82.16,-114.54 88.72,-112.11\"/>\n</g>\n<!-- create_search_follow_up_document -->\n<g id=\"node6\" class=\"node\">\n<title>create_search_follow_up_document</title>\n<path fill=\"#b4d8e4\" stroke=\"black\" d=\"M531.73,-430.2C531.73,-430.2 316.62,-430.2 316.62,-430.2 310.62,-430.2 304.62,-424.2 304.62,-418.2 304.62,-418.2 304.62,-405.6 304.62,-405.6 304.62,-399.6 310.62,-393.6 316.62,-393.6 316.62,-393.6 531.73,-393.6 531.73,-393.6 537.73,-393.6 543.73,-399.6 543.73,-405.6 543.73,-405.6 543.73,-418.2 543.73,-418.2 543.73,-424.2 537.73,-430.2 531.73,-430.2\"/>\n<text text-anchor=\"middle\" x=\"424.18\" y=\"-406.1\" font-family=\"Helvetica,sans-Serif\" font-size=\"14.00\">create_search_follow_up_document</text>\n</g>\n<!-- create_trend_analysis&#45;&gt;create_search_follow_up_document -->\n<g id=\"edge13\" class=\"edge\">\n<title>create_trend_analysis&#45;&gt;create_search_follow_up_document</title>\n<path fill=\"none\" stroke=\"black\" d=\"M404.7,-458.78C407.04,-453.27 409.68,-447.05 412.24,-441.01\"/>\n<polygon fill=\"black\" stroke=\"black\" points=\"415.42,-442.49 416.1,-431.91 408.97,-439.75 415.42,-442.49\"/>\n</g>\n<!-- input__focus -->\n<g id=\"node4\" class=\"node\">\n<title>input__focus</title>\n<polygon fill=\"none\" stroke=\"black\" stroke-dasharray=\"5,2\" points=\"263.48,-561.4 172.88,-561.4 172.88,-524.8 263.48,-524.8 263.48,-561.4\"/>\n<text text-anchor=\"middle\" x=\"218.18\" y=\"-537.3\" font-family=\"Helvetica,sans-Serif\" font-size=\"14.00\">input: focus</text>\n</g>\n<!-- input__focus&#45;&gt;create_trend_analysis -->\n<g id=\"edge2\" class=\"edge\">\n<title>input__focus&#45;&gt;create_trend_analysis</title>\n<path fill=\"none\" stroke=\"black\" d=\"M263.81,-525.89C285.9,-518.04 312.74,-508.5 336.53,-500.05\"/>\n<polygon fill=\"black\" stroke=\"black\" points=\"337.54,-503.4 345.79,-496.76 335.2,-496.81 337.54,-503.4\"/>\n</g>\n<!-- input__focus&#45;&gt;create_search_follow_up_document -->\n<g id=\"edge4\" class=\"edge\">\n<title>input__focus&#45;&gt;create_search_follow_up_document</title>\n<path fill=\"none\" stroke=\"black\" d=\"M234.24,-524.62C251.75,-506.38 281.28,-477.88 311.18,-459.2 326.15,-449.85 343.33,-441.68 359.71,-434.92\"/>\n<polygon fill=\"black\" stroke=\"black\" points=\"360.93,-438.2 368.92,-431.24 358.33,-431.7 360.93,-438.2\"/>\n</g>\n<!-- create_wikipedia_trend_report -->\n<g id=\"node11\" class=\"node\">\n<title>create_wikipedia_trend_report</title>\n<path fill=\"#b4d8e4\" stroke=\"black\" d=\"M414.73,-167.8C414.73,-167.8 235.62,-167.8 235.62,-167.8 229.62,-167.8 223.62,-161.8 223.62,-155.8 223.62,-155.8 223.62,-143.2 223.62,-143.2 223.62,-137.2 229.62,-131.2 235.62,-131.2 235.62,-131.2 414.73,-131.2 414.73,-131.2 420.73,-131.2 426.73,-137.2 426.73,-143.2 426.73,-143.2 426.73,-155.8 426.73,-155.8 426.73,-161.8 420.73,-167.8 414.73,-167.8\"/>\n<text text-anchor=\"middle\" x=\"325.18\" y=\"-143.7\" font-family=\"Helvetica,sans-Serif\" font-size=\"14.00\">create_wikipedia_trend_report</text>\n</g>\n<!-- input__focus&#45;&gt;create_wikipedia_trend_report -->\n<g id=\"edge7\" class=\"edge\">\n<title>input__focus&#45;&gt;create_wikipedia_trend_report</title>\n<path fill=\"none\" stroke=\"black\" d=\"M217.29,-524.55C216.11,-499.7 214.18,-452.85 214.18,-412.9 214.18,-412.9 214.18,-412.9 214.18,-279.7 214.18,-241.8 210.69,-226.54 234.18,-196.8 241.66,-187.32 251.61,-179.61 262.18,-173.39\"/>\n<polygon fill=\"black\" stroke=\"black\" points=\"263.53,-176.64 270.67,-168.81 260.21,-170.48 263.53,-176.64\"/>\n</g>\n<!-- create_executive_summary -->\n<g id=\"node13\" class=\"node\">\n<title>create_executive_summary</title>\n<path fill=\"#b4d8e4\" stroke=\"black\" d=\"M258.23,-36.6C258.23,-36.6 94.13,-36.6 94.13,-36.6 88.12,-36.6 82.13,-30.6 82.13,-24.6 82.13,-24.6 82.13,-12 82.13,-12 82.13,-6 88.13,0 94.13,0 94.13,0 258.23,0 258.23,0 264.23,0 270.23,-6 270.23,-12 270.23,-12 270.23,-24.6 270.23,-24.6 270.23,-30.6 264.23,-36.6 258.23,-36.6\"/>\n<text text-anchor=\"middle\" x=\"176.18\" y=\"-12.5\" font-family=\"Helvetica,sans-Serif\" font-size=\"14.00\">create_executive_summary</text>\n</g>\n<!-- input__focus&#45;&gt;create_executive_summary -->\n<g id=\"edge10\" class=\"edge\">\n<title>input__focus&#45;&gt;create_executive_summary</title>\n<path fill=\"none\" stroke=\"black\" d=\"M208.64,-524.71C196.25,-500.43 176.18,-454.65 176.18,-412.9 176.18,-412.9 176.18,-412.9 176.18,-148.5 176.18,-114.03 176.18,-74.39 176.18,-48.21\"/>\n<polygon fill=\"black\" stroke=\"black\" points=\"179.68,-48.37 176.18,-38.37 172.68,-48.37 179.68,-48.37\"/>\n</g>\n<!-- input__topic -->\n<g id=\"node5\" class=\"node\">\n<title>input__topic</title>\n<polygon fill=\"none\" stroke=\"black\" stroke-dasharray=\"5,2\" points=\"559.6,-561.4 472.75,-561.4 472.75,-524.8 559.6,-524.8 559.6,-561.4\"/>\n<text text-anchor=\"middle\" x=\"516.17\" y=\"-537.3\" font-family=\"Helvetica,sans-Serif\" font-size=\"14.00\">input: topic</text>\n</g>\n<!-- input__topic&#45;&gt;create_trend_analysis -->\n<g id=\"edge3\" class=\"edge\">\n<title>input__topic&#45;&gt;create_trend_analysis</title>\n<path fill=\"none\" stroke=\"black\" d=\"M483.03,-524.38C469.75,-517.29 454.27,-509.01 440.14,-501.46\"/>\n<polygon fill=\"black\" stroke=\"black\" points=\"441.95,-498.46 431.48,-496.83 438.65,-504.63 441.95,-498.46\"/>\n</g>\n<!-- input__topic&#45;&gt;create_search_follow_up_document -->\n<g id=\"edge5\" class=\"edge\">\n<title>input__topic&#45;&gt;create_search_follow_up_document</title>\n<path fill=\"none\" stroke=\"black\" d=\"M512.09,-524.58C507.31,-506.81 498.11,-479.17 483.18,-459.2 477.23,-451.26 469.6,-443.94 461.82,-437.58\"/>\n<polygon fill=\"black\" stroke=\"black\" points=\"463.96,-434.81 453.89,-431.5 459.69,-440.36 463.96,-434.81\"/>\n</g>\n<!-- input__topic&#45;&gt;create_wikipedia_trend_report -->\n<g id=\"edge8\" class=\"edge\">\n<title>input__topic&#45;&gt;create_wikipedia_trend_report</title>\n<path fill=\"none\" stroke=\"black\" d=\"M530.39,-524.48C548.14,-500.66 576.17,-456.18 576.17,-412.9 576.17,-412.9 576.17,-412.9 576.17,-279.7 576.17,-212.73 504.66,-180.44 437.98,-164.89\"/>\n<polygon fill=\"black\" stroke=\"black\" points=\"438.9,-161.51 428.38,-162.78 437.39,-168.35 438.9,-161.51\"/>\n</g>\n<!-- input__topic&#45;&gt;create_executive_summary -->\n<g id=\"edge11\" class=\"edge\">\n<title>input__topic&#45;&gt;create_executive_summary</title>\n<path fill=\"none\" stroke=\"black\" d=\"M541.92,-524.36C570.96,-502.03 614.17,-460.76 614.17,-412.9 614.17,-412.9 614.17,-412.9 614.17,-148.5 614.17,-79.46 411.43,-44.56 281.81,-29.3\"/>\n<polygon fill=\"black\" stroke=\"black\" points=\"282.51,-25.86 272.18,-28.19 281.71,-32.81 282.51,-25.86\"/>\n</g>\n<!-- search_wikipedia -->\n<g id=\"node7\" class=\"node\">\n<title>search_wikipedia</title>\n<path fill=\"#b4d8e4\" stroke=\"black\" d=\"M535.73,-364.6C535.73,-364.6 434.62,-364.6 434.62,-364.6 428.62,-364.6 422.62,-358.6 422.62,-352.6 422.62,-352.6 422.62,-340 422.62,-340 422.62,-334 428.62,-328 434.62,-328 434.62,-328 535.73,-328 535.73,-328 541.73,-328 547.73,-334 547.73,-340 547.73,-340 547.73,-352.6 547.73,-352.6 547.73,-358.6 541.73,-364.6 535.73,-364.6\"/>\n<text text-anchor=\"middle\" x=\"485.18\" y=\"-340.5\" font-family=\"Helvetica,sans-Serif\" font-size=\"14.00\">search_wikipedia</text>\n</g>\n<!-- create_search_follow_up_document&#45;&gt;search_wikipedia -->\n<g id=\"edge14\" class=\"edge\">\n<title>create_search_follow_up_document&#45;&gt;search_wikipedia</title>\n<path fill=\"none\" stroke=\"black\" d=\"M441.17,-393.18C447.12,-386.98 453.92,-379.88 460.38,-373.15\"/>\n<polygon fill=\"black\" stroke=\"black\" points=\"462.83,-375.65 467.23,-366.01 457.78,-370.81 462.83,-375.65\"/>\n</g>\n<!-- vectorize_and_index_wikipedia -->\n<g id=\"node8\" class=\"node\">\n<title>vectorize_and_index_wikipedia</title>\n<path fill=\"#b4d8e4\" stroke=\"black\" d=\"M438.35,-299C438.35,-299 254,-299 254,-299 248,-299 242,-293 242,-287 242,-287 242,-274.4 242,-274.4 242,-268.4 248,-262.4 254,-262.4 254,-262.4 438.35,-262.4 438.35,-262.4 444.35,-262.4 450.35,-268.4 450.35,-274.4 450.35,-274.4 450.35,-287 450.35,-287 450.35,-293 444.35,-299 438.35,-299\"/>\n<text text-anchor=\"middle\" x=\"346.18\" y=\"-274.9\" font-family=\"Helvetica,sans-Serif\" font-size=\"14.00\">vectorize_and_index_wikipedia</text>\n</g>\n<!-- search_wikipedia&#45;&gt;vectorize_and_index_wikipedia -->\n<g id=\"edge15\" class=\"edge\">\n<title>search_wikipedia&#45;&gt;vectorize_and_index_wikipedia</title>\n<path fill=\"none\" stroke=\"black\" d=\"M446.46,-327.58C430.49,-320.28 411.81,-311.73 394.93,-304.01\"/>\n<polygon fill=\"black\" stroke=\"black\" points=\"396.61,-300.93 386.06,-299.95 393.7,-307.29 396.61,-300.93\"/>\n</g>\n<!-- search_relevant_wiki_sections -->\n<g id=\"node10\" class=\"node\">\n<title>search_relevant_wiki_sections</title>\n<path fill=\"#b4d8e4\" stroke=\"black\" d=\"M435.48,-233.4C435.48,-233.4 254.88,-233.4 254.88,-233.4 248.88,-233.4 242.88,-227.4 242.88,-221.4 242.88,-221.4 242.88,-208.8 242.88,-208.8 242.88,-202.8 248.88,-196.8 254.88,-196.8 254.88,-196.8 435.48,-196.8 435.48,-196.8 441.48,-196.8 447.48,-202.8 447.48,-208.8 447.48,-208.8 447.48,-221.4 447.48,-221.4 447.48,-227.4 441.48,-233.4 435.48,-233.4\"/>\n<text text-anchor=\"middle\" x=\"345.18\" y=\"-209.3\" font-family=\"Helvetica,sans-Serif\" font-size=\"14.00\">search_relevant_wiki_sections</text>\n</g>\n<!-- vectorize_and_index_wikipedia&#45;&gt;search_relevant_wiki_sections -->\n<g id=\"edge16\" class=\"edge\">\n<title>vectorize_and_index_wikipedia&#45;&gt;search_relevant_wiki_sections</title>\n<path fill=\"none\" stroke=\"black\" d=\"M345.9,-261.98C345.81,-256.75 345.72,-250.87 345.63,-245.12\"/>\n<polygon fill=\"black\" stroke=\"black\" points=\"349.13,-245.18 345.48,-235.23 342.13,-245.29 349.13,-245.18\"/>\n</g>\n<!-- input__temp_index_path -->\n<g id=\"node9\" class=\"node\">\n<title>input__temp_index_path</title>\n<polygon fill=\"none\" stroke=\"black\" stroke-dasharray=\"5,2\" points=\"404.48,-364.6 241.88,-364.6 241.88,-328 404.48,-328 404.48,-364.6\"/>\n<text text-anchor=\"middle\" x=\"323.18\" y=\"-340.5\" font-family=\"Helvetica,sans-Serif\" font-size=\"14.00\">input: temp_index_path</text>\n</g>\n<!-- input__temp_index_path&#45;&gt;vectorize_and_index_wikipedia -->\n<g id=\"edge6\" class=\"edge\">\n<title>input__temp_index_path&#45;&gt;vectorize_and_index_wikipedia</title>\n<path fill=\"none\" stroke=\"black\" d=\"M329.58,-327.58C331.58,-322.07 333.83,-315.85 336.01,-309.81\"/>\n<polygon fill=\"black\" stroke=\"black\" points=\"339.18,-311.34 339.29,-300.74 332.6,-308.96 339.18,-311.34\"/>\n</g>\n<!-- search_relevant_wiki_sections&#45;&gt;create_wikipedia_trend_report -->\n<g id=\"edge17\" class=\"edge\">\n<title>search_relevant_wiki_sections&#45;&gt;create_wikipedia_trend_report</title>\n<path fill=\"none\" stroke=\"black\" d=\"M339.6,-196.38C337.91,-191.01 336.01,-184.96 334.16,-179.06\"/>\n<polygon fill=\"black\" stroke=\"black\" points=\"337.51,-178.05 331.17,-169.56 330.83,-180.15 337.51,-178.05\"/>\n</g>\n<!-- create_wikipedia_trend_report&#45;&gt;merge_trend_reports -->\n<g id=\"edge18\" class=\"edge\">\n<title>create_wikipedia_trend_report&#45;&gt;merge_trend_reports</title>\n<path fill=\"none\" stroke=\"black\" d=\"M255.26,-130.78C224.11,-122.89 187.24,-113.55 154.92,-105.36\"/>\n<polygon fill=\"black\" stroke=\"black\" points=\"156.17,-102.07 145.62,-103 154.45,-108.85 156.17,-102.07\"/>\n</g>\n<!-- merge_trend_reports&#45;&gt;create_executive_summary -->\n<g id=\"edge19\" class=\"edge\">\n<title>merge_trend_reports&#45;&gt;create_executive_summary</title>\n<path fill=\"none\" stroke=\"black\" d=\"M102.59,-65.18C113.64,-58.29 126.47,-50.29 138.29,-42.93\"/>\n<polygon fill=\"black\" stroke=\"black\" points=\"140,-45.98 146.63,-37.72 136.29,-40.04 140,-45.98\"/>\n</g>\n</g>\n</svg>\n",
      "text/plain": [
       "<graphviz.graphs.Digraph at 0x31881ea50>"
      ]
     },
     "execution_count": 21,
     "metadata": {},
     "output_type": "execute_result"
    }
   ],
   "execution_count": 21
  },
  {
   "metadata": {},
   "cell_type": "code",
   "outputs": [],
   "execution_count": null,
   "source": "",
   "id": "4e4e83b4e7c41310"
  },
  {
   "metadata": {
    "ExecuteTime": {
     "end_time": "2025-04-20T20:36:55.707668Z",
     "start_time": "2025-04-20T20:36:55.705668Z"
    }
   },
   "cell_type": "code",
   "source": [
    "formatted_trend_analysis_prompt = brief_analysis_prompt.format(topic=research_data['topic'],\n",
    "                                                               focus=research_data['focus'],\n",
    "                                                               report=research_data['report'],\n",
    "                                                               sources=research_data['formatted_report_grounding'])"
   ],
   "id": "36fa2e6f9af079d1",
   "outputs": [],
   "execution_count": 12
  },
  {
   "metadata": {
    "ExecuteTime": {
     "end_time": "2025-04-20T20:37:09.564504Z",
     "start_time": "2025-04-20T20:36:55.877392Z"
    }
   },
   "cell_type": "code",
   "source": "trend_report = call_llm_flash(formatted_trend_analysis_prompt)",
   "id": "f94bfe1bb2b5bab5",
   "outputs": [],
   "execution_count": 15
  },
  {
   "metadata": {
    "ExecuteTime": {
     "end_time": "2025-04-20T20:37:09.609117Z",
     "start_time": "2025-04-20T20:37:09.607352Z"
    }
   },
   "cell_type": "code",
   "source": [
    "formatted_follow_up_prompt = follow_up_context_prompt.format(topic=research_data['topic'],\n",
    "                                                             focus=research_data['focus'],\n",
    "                                                             report=research_data['report'],\n",
    "                                                             trend_analysis=trend_report)"
   ],
   "id": "3400e683c70927d4",
   "outputs": [],
   "execution_count": 18
  },
  {
   "metadata": {
    "ExecuteTime": {
     "end_time": "2025-04-20T20:37:11.302305Z",
     "start_time": "2025-04-20T20:37:09.616556Z"
    }
   },
   "cell_type": "code",
   "source": "follow_up_context = call_llm_flash(formatted_follow_up_prompt)",
   "id": "b0db9ef9118f579f",
   "outputs": [],
   "execution_count": 19
  },
  {
   "metadata": {
    "ExecuteTime": {
     "end_time": "2025-04-20T20:37:11.339085Z",
     "start_time": "2025-04-20T20:37:11.336691Z"
    }
   },
   "cell_type": "code",
   "source": [
    "different_followups = re.findall(r'(##[\\s\\S]+?)(?=##|$)', follow_up_context, flags=re.DOTALL)\n",
    "follow_up_groups = dict()\n",
    "for group in different_followups:\n",
    "    group_name = group.split('\\n')[0]\n",
    "    followups = re.findall(r'[\\*-]\\s*(.+?)(?:\\n|$)', group, flags=re.DOTALL)\n",
    "    followups = [x.strip() for x in followups]\n",
    "    follow_up_groups[group_name.strip()] = followups"
   ],
   "id": "65c8c3db5dbbe266",
   "outputs": [],
   "execution_count": 21
  },
  {
   "metadata": {
    "ExecuteTime": {
     "end_time": "2025-04-20T20:37:33.199717Z",
     "start_time": "2025-04-20T20:37:11.417983Z"
    }
   },
   "cell_type": "code",
   "source": [
    "vectorized_sections = list()\n",
    "for context_search in tqdm(context_data):\n",
    "    context_topic = context_search['topic']\n",
    "    context_focus = context_search['focus']\n",
    "    context_query = context_search['query']\n",
    "    for wiki_page in tqdm(context_search['context']):\n",
    "        wiki_page_title = wiki_page['title']\n",
    "        for section_idx, section in tqdm(enumerate(wiki_page['sections'])):\n",
    "            section_copy = deepcopy(section)\n",
    "            section_copy['vector'] = encoder.encode(f\"{wiki_page_title}\\n{section_copy['title']}\\n{' '.join(section_copy['hierarchy_string'].split('|'))}\\n{section_copy['text']}\").tolist()\n",
    "\n",
    "            section_copy['topic'] = context_topic\n",
    "            section_copy['focus'] = context_focus\n",
    "            section_copy['query'] = context_query\n",
    "            section_copy['page_title'] = wiki_page_title\n",
    "            section_copy['section_idx'] = section_idx\n",
    "\n",
    "            vectorized_sections.append(section_copy)\n",
    "            torch.mps.empty_cache()\n"
   ],
   "id": "d349a0f1012c4fb1",
   "outputs": [
    {
     "data": {
      "text/plain": [
       "  0%|          | 0/3 [00:00<?, ?it/s]"
      ],
      "application/vnd.jupyter.widget-view+json": {
       "version_major": 2,
       "version_minor": 0,
       "model_id": "ffed5216c7c94368b6fe633dbb7dced7"
      }
     },
     "metadata": {},
     "output_type": "display_data"
    },
    {
     "data": {
      "text/plain": [
       "  0%|          | 0/8 [00:00<?, ?it/s]"
      ],
      "application/vnd.jupyter.widget-view+json": {
       "version_major": 2,
       "version_minor": 0,
       "model_id": "c1a4ebb78c14497eab48467c45d63945"
      }
     },
     "metadata": {},
     "output_type": "display_data"
    },
    {
     "data": {
      "text/plain": [
       "0it [00:00, ?it/s]"
      ],
      "application/vnd.jupyter.widget-view+json": {
       "version_major": 2,
       "version_minor": 0,
       "model_id": "0242b8dd48b948f7b2f3ea2b4cd1f07d"
      }
     },
     "metadata": {},
     "output_type": "display_data"
    },
    {
     "data": {
      "text/plain": [
       "0it [00:00, ?it/s]"
      ],
      "application/vnd.jupyter.widget-view+json": {
       "version_major": 2,
       "version_minor": 0,
       "model_id": "7acc965be88b4b64aff6811729eba14d"
      }
     },
     "metadata": {},
     "output_type": "display_data"
    },
    {
     "data": {
      "text/plain": [
       "0it [00:00, ?it/s]"
      ],
      "application/vnd.jupyter.widget-view+json": {
       "version_major": 2,
       "version_minor": 0,
       "model_id": "17d40dcff8644a42b3bd21cc9fe0cda6"
      }
     },
     "metadata": {},
     "output_type": "display_data"
    },
    {
     "data": {
      "text/plain": [
       "0it [00:00, ?it/s]"
      ],
      "application/vnd.jupyter.widget-view+json": {
       "version_major": 2,
       "version_minor": 0,
       "model_id": "bce7d02a0b3e4b81b0040e6f4e486812"
      }
     },
     "metadata": {},
     "output_type": "display_data"
    },
    {
     "data": {
      "text/plain": [
       "0it [00:00, ?it/s]"
      ],
      "application/vnd.jupyter.widget-view+json": {
       "version_major": 2,
       "version_minor": 0,
       "model_id": "0660b37d757f4985b6d7a729662bacc6"
      }
     },
     "metadata": {},
     "output_type": "display_data"
    },
    {
     "data": {
      "text/plain": [
       "0it [00:00, ?it/s]"
      ],
      "application/vnd.jupyter.widget-view+json": {
       "version_major": 2,
       "version_minor": 0,
       "model_id": "35dfc36f85284c07a86d72126822e1e8"
      }
     },
     "metadata": {},
     "output_type": "display_data"
    },
    {
     "data": {
      "text/plain": [
       "0it [00:00, ?it/s]"
      ],
      "application/vnd.jupyter.widget-view+json": {
       "version_major": 2,
       "version_minor": 0,
       "model_id": "3ee499c342e74d059f44a765b9680f91"
      }
     },
     "metadata": {},
     "output_type": "display_data"
    },
    {
     "data": {
      "text/plain": [
       "0it [00:00, ?it/s]"
      ],
      "application/vnd.jupyter.widget-view+json": {
       "version_major": 2,
       "version_minor": 0,
       "model_id": "4f7df3f1fc324d2381ee01a84a8cc473"
      }
     },
     "metadata": {},
     "output_type": "display_data"
    },
    {
     "data": {
      "text/plain": [
       "  0%|          | 0/10 [00:00<?, ?it/s]"
      ],
      "application/vnd.jupyter.widget-view+json": {
       "version_major": 2,
       "version_minor": 0,
       "model_id": "5167f4cbc1c8404a8f1877011dde47a2"
      }
     },
     "metadata": {},
     "output_type": "display_data"
    },
    {
     "data": {
      "text/plain": [
       "0it [00:00, ?it/s]"
      ],
      "application/vnd.jupyter.widget-view+json": {
       "version_major": 2,
       "version_minor": 0,
       "model_id": "6dbcd1c335034e55997c14d83c0bfad7"
      }
     },
     "metadata": {},
     "output_type": "display_data"
    },
    {
     "data": {
      "text/plain": [
       "0it [00:00, ?it/s]"
      ],
      "application/vnd.jupyter.widget-view+json": {
       "version_major": 2,
       "version_minor": 0,
       "model_id": "7673fe49f1204880bfce75a97b511cf8"
      }
     },
     "metadata": {},
     "output_type": "display_data"
    },
    {
     "data": {
      "text/plain": [
       "0it [00:00, ?it/s]"
      ],
      "application/vnd.jupyter.widget-view+json": {
       "version_major": 2,
       "version_minor": 0,
       "model_id": "6fab9207bae14a22a815931dd5d674a6"
      }
     },
     "metadata": {},
     "output_type": "display_data"
    },
    {
     "data": {
      "text/plain": [
       "0it [00:00, ?it/s]"
      ],
      "application/vnd.jupyter.widget-view+json": {
       "version_major": 2,
       "version_minor": 0,
       "model_id": "8c5687a3016a4e999578637b27d85801"
      }
     },
     "metadata": {},
     "output_type": "display_data"
    },
    {
     "data": {
      "text/plain": [
       "0it [00:00, ?it/s]"
      ],
      "application/vnd.jupyter.widget-view+json": {
       "version_major": 2,
       "version_minor": 0,
       "model_id": "407abe0eb96e470b8e0cc6b2aa214a96"
      }
     },
     "metadata": {},
     "output_type": "display_data"
    },
    {
     "data": {
      "text/plain": [
       "0it [00:00, ?it/s]"
      ],
      "application/vnd.jupyter.widget-view+json": {
       "version_major": 2,
       "version_minor": 0,
       "model_id": "95688a9cd05e44abb51ffa0089694d81"
      }
     },
     "metadata": {},
     "output_type": "display_data"
    },
    {
     "data": {
      "text/plain": [
       "0it [00:00, ?it/s]"
      ],
      "application/vnd.jupyter.widget-view+json": {
       "version_major": 2,
       "version_minor": 0,
       "model_id": "cb030dbba38e439988e22547ca614fd9"
      }
     },
     "metadata": {},
     "output_type": "display_data"
    },
    {
     "data": {
      "text/plain": [
       "0it [00:00, ?it/s]"
      ],
      "application/vnd.jupyter.widget-view+json": {
       "version_major": 2,
       "version_minor": 0,
       "model_id": "231ec449083947ec956b599326df2c45"
      }
     },
     "metadata": {},
     "output_type": "display_data"
    },
    {
     "data": {
      "text/plain": [
       "0it [00:00, ?it/s]"
      ],
      "application/vnd.jupyter.widget-view+json": {
       "version_major": 2,
       "version_minor": 0,
       "model_id": "d7d464a9f36343ccb23497cc8bcffba1"
      }
     },
     "metadata": {},
     "output_type": "display_data"
    },
    {
     "data": {
      "text/plain": [
       "0it [00:00, ?it/s]"
      ],
      "application/vnd.jupyter.widget-view+json": {
       "version_major": 2,
       "version_minor": 0,
       "model_id": "3ae60b719ee840be9c4653c96686c162"
      }
     },
     "metadata": {},
     "output_type": "display_data"
    },
    {
     "data": {
      "text/plain": [
       "  0%|          | 0/4 [00:00<?, ?it/s]"
      ],
      "application/vnd.jupyter.widget-view+json": {
       "version_major": 2,
       "version_minor": 0,
       "model_id": "90436084d2e44fc0a0482024db50da12"
      }
     },
     "metadata": {},
     "output_type": "display_data"
    },
    {
     "data": {
      "text/plain": [
       "0it [00:00, ?it/s]"
      ],
      "application/vnd.jupyter.widget-view+json": {
       "version_major": 2,
       "version_minor": 0,
       "model_id": "93fa13c20920426d90fc2e6118b5329c"
      }
     },
     "metadata": {},
     "output_type": "display_data"
    },
    {
     "data": {
      "text/plain": [
       "0it [00:00, ?it/s]"
      ],
      "application/vnd.jupyter.widget-view+json": {
       "version_major": 2,
       "version_minor": 0,
       "model_id": "b1d61a0ee74343efb674d918a7d9cfaa"
      }
     },
     "metadata": {},
     "output_type": "display_data"
    },
    {
     "data": {
      "text/plain": [
       "0it [00:00, ?it/s]"
      ],
      "application/vnd.jupyter.widget-view+json": {
       "version_major": 2,
       "version_minor": 0,
       "model_id": "2b38d5b2679b46ffa59ed98659f2ec16"
      }
     },
     "metadata": {},
     "output_type": "display_data"
    },
    {
     "data": {
      "text/plain": [
       "0it [00:00, ?it/s]"
      ],
      "application/vnd.jupyter.widget-view+json": {
       "version_major": 2,
       "version_minor": 0,
       "model_id": "305aa88d5d7d4f27af5ef8cdd5f9fa48"
      }
     },
     "metadata": {},
     "output_type": "display_data"
    }
   ],
   "execution_count": 26
  },
  {
   "metadata": {
    "ExecuteTime": {
     "end_time": "2025-04-20T20:37:33.213240Z",
     "start_time": "2025-04-20T20:37:33.208892Z"
    }
   },
   "cell_type": "code",
   "outputs": [],
   "execution_count": 27,
   "source": "context_index_data = pd.DataFrame(vectorized_sections)",
   "id": "20ff317e15149820"
  },
  {
   "metadata": {
    "ExecuteTime": {
     "end_time": "2025-04-20T20:37:33.233169Z",
     "start_time": "2025-04-20T20:37:33.224035Z"
    }
   },
   "cell_type": "code",
   "outputs": [
    {
     "data": {
      "text/plain": [
       "     level                                             title  \\\n",
       "0        0                                        Background   \n",
       "1        1  Implicit subsidies for local service (1970-1982)   \n",
       "2        1            Breakup of the Bell system (1982-1996)   \n",
       "3        0                                           History   \n",
       "4        1                    Telecommunications Act of 1996   \n",
       "..     ...                                               ...   \n",
       "380      0                                          Overview   \n",
       "381      1                            Upgrading Connectivity   \n",
       "382      1                                 Training Teachers   \n",
       "383      1             Encouraging Private Sector Innovation   \n",
       "384      0                                      Implications   \n",
       "\n",
       "                                                  text  \\\n",
       "0    In the modern sense of offering service to all...   \n",
       "1    In the 1960s the telecommunication monopolies ...   \n",
       "2    There was a push for deregulating the telecomm...   \n",
       "3                                                        \n",
       "4    The Universal Service Fund was first codified ...   \n",
       "..                                                 ...   \n",
       "380                                                      \n",
       "381  The ConnectEd initiative aims to increase inte...   \n",
       "382  In order to improve student outcomes, the Conn...   \n",
       "383  ConnectEd calls on the private sector to provi...   \n",
       "384  The Federal Communications Commission (FCC) ha...   \n",
       "\n",
       "                                             hierarchy  \\\n",
       "0    {'level_0': 'Background', 'level_1': '', 'leve...   \n",
       "1    {'level_0': 'Background', 'level_1': 'Implicit...   \n",
       "2    {'level_0': 'Background', 'level_1': 'Breakup ...   \n",
       "3    {'level_0': 'History', 'level_1': '', 'level_2...   \n",
       "4    {'level_0': 'History', 'level_1': 'Telecommuni...   \n",
       "..                                                 ...   \n",
       "380  {'level_0': 'Overview', 'level_1': '', 'level_...   \n",
       "381  {'level_0': 'Overview', 'level_1': 'Upgrading ...   \n",
       "382  {'level_0': 'Overview', 'level_1': 'Training T...   \n",
       "383  {'level_0': 'Overview', 'level_1': 'Encouragin...   \n",
       "384  {'level_0': 'Implications', 'level_1': '', 'le...   \n",
       "\n",
       "                                      hierarchy_string  \\\n",
       "0                                           Background   \n",
       "1    Background|Implicit subsidies for local servic...   \n",
       "2    Background|Breakup of the Bell system (1982-1996)   \n",
       "3                                              History   \n",
       "4               History|Telecommunications Act of 1996   \n",
       "..                                                 ...   \n",
       "380                                           Overview   \n",
       "381                    Overview|Upgrading Connectivity   \n",
       "382                         Overview|Training Teachers   \n",
       "383     Overview|Encouraging Private Sector Innovation   \n",
       "384                                       Implications   \n",
       "\n",
       "                                                vector  \\\n",
       "0    [-0.33777323365211487, 1.4030901193618774, -3....   \n",
       "1    [0.506664514541626, 1.5709733963012695, -3.488...   \n",
       "2    [0.26263627409935, 1.5298961400985718, -2.9283...   \n",
       "3    [-0.06453355401754379, 1.4757651090621948, -4....   \n",
       "4    [-0.4172077178955078, 1.0427643060684204, -3.6...   \n",
       "..                                                 ...   \n",
       "380  [-0.5523691773414612, 1.02926766872406, -3.697...   \n",
       "381  [-0.5633025169372559, 1.5199469327926636, -3.3...   \n",
       "382  [-0.8425822257995605, 1.0219800472259521, -3.1...   \n",
       "383  [-0.8617445826530457, 2.194448947906494, -3.43...   \n",
       "384  [-0.5892829298973083, 2.2445569038391113, -2.9...   \n",
       "\n",
       "                          topic  \\\n",
       "0    Rural Broadband in America   \n",
       "1    Rural Broadband in America   \n",
       "2    Rural Broadband in America   \n",
       "3    Rural Broadband in America   \n",
       "4    Rural Broadband in America   \n",
       "..                          ...   \n",
       "380  Rural Broadband in America   \n",
       "381  Rural Broadband in America   \n",
       "382  Rural Broadband in America   \n",
       "383  Rural Broadband in America   \n",
       "384  Rural Broadband in America   \n",
       "\n",
       "                                                 focus  \\\n",
       "0    Historical, current, and future challenges for...   \n",
       "1    Historical, current, and future challenges for...   \n",
       "2    Historical, current, and future challenges for...   \n",
       "3    Historical, current, and future challenges for...   \n",
       "4    Historical, current, and future challenges for...   \n",
       "..                                                 ...   \n",
       "380  Historical, current, and future challenges for...   \n",
       "381  Historical, current, and future challenges for...   \n",
       "382  Historical, current, and future challenges for...   \n",
       "383  Historical, current, and future challenges for...   \n",
       "384  Historical, current, and future challenges for...   \n",
       "\n",
       "                                                 query  \\\n",
       "0           \"Universal Service Fund\" \"rural broadband\"   \n",
       "1           \"Universal Service Fund\" \"rural broadband\"   \n",
       "2           \"Universal Service Fund\" \"rural broadband\"   \n",
       "3           \"Universal Service Fund\" \"rural broadband\"   \n",
       "4           \"Universal Service Fund\" \"rural broadband\"   \n",
       "..                                                 ...   \n",
       "380  \"Broadband Technology Opportunities Program\" \"...   \n",
       "381  \"Broadband Technology Opportunities Program\" \"...   \n",
       "382  \"Broadband Technology Opportunities Program\" \"...   \n",
       "383  \"Broadband Technology Opportunities Program\" \"...   \n",
       "384  \"Broadband Technology Opportunities Program\" \"...   \n",
       "\n",
       "                 page_title  section_idx  \n",
       "0    Universal Service Fund            0  \n",
       "1    Universal Service Fund            1  \n",
       "2    Universal Service Fund            2  \n",
       "3    Universal Service Fund            3  \n",
       "4    Universal Service Fund            4  \n",
       "..                      ...          ...  \n",
       "380    ConnectEd Initiative            3  \n",
       "381    ConnectEd Initiative            4  \n",
       "382    ConnectEd Initiative            5  \n",
       "383    ConnectEd Initiative            6  \n",
       "384    ConnectEd Initiative            7  \n",
       "\n",
       "[385 rows x 11 columns]"
      ],
      "text/html": [
       "<div>\n",
       "<style scoped>\n",
       "    .dataframe tbody tr th:only-of-type {\n",
       "        vertical-align: middle;\n",
       "    }\n",
       "\n",
       "    .dataframe tbody tr th {\n",
       "        vertical-align: top;\n",
       "    }\n",
       "\n",
       "    .dataframe thead th {\n",
       "        text-align: right;\n",
       "    }\n",
       "</style>\n",
       "<table border=\"1\" class=\"dataframe\">\n",
       "  <thead>\n",
       "    <tr style=\"text-align: right;\">\n",
       "      <th></th>\n",
       "      <th>level</th>\n",
       "      <th>title</th>\n",
       "      <th>text</th>\n",
       "      <th>hierarchy</th>\n",
       "      <th>hierarchy_string</th>\n",
       "      <th>vector</th>\n",
       "      <th>topic</th>\n",
       "      <th>focus</th>\n",
       "      <th>query</th>\n",
       "      <th>page_title</th>\n",
       "      <th>section_idx</th>\n",
       "    </tr>\n",
       "  </thead>\n",
       "  <tbody>\n",
       "    <tr>\n",
       "      <th>0</th>\n",
       "      <td>0</td>\n",
       "      <td>Background</td>\n",
       "      <td>In the modern sense of offering service to all...</td>\n",
       "      <td>{'level_0': 'Background', 'level_1': '', 'leve...</td>\n",
       "      <td>Background</td>\n",
       "      <td>[-0.33777323365211487, 1.4030901193618774, -3....</td>\n",
       "      <td>Rural Broadband in America</td>\n",
       "      <td>Historical, current, and future challenges for...</td>\n",
       "      <td>\"Universal Service Fund\" \"rural broadband\"</td>\n",
       "      <td>Universal Service Fund</td>\n",
       "      <td>0</td>\n",
       "    </tr>\n",
       "    <tr>\n",
       "      <th>1</th>\n",
       "      <td>1</td>\n",
       "      <td>Implicit subsidies for local service (1970-1982)</td>\n",
       "      <td>In the 1960s the telecommunication monopolies ...</td>\n",
       "      <td>{'level_0': 'Background', 'level_1': 'Implicit...</td>\n",
       "      <td>Background|Implicit subsidies for local servic...</td>\n",
       "      <td>[0.506664514541626, 1.5709733963012695, -3.488...</td>\n",
       "      <td>Rural Broadband in America</td>\n",
       "      <td>Historical, current, and future challenges for...</td>\n",
       "      <td>\"Universal Service Fund\" \"rural broadband\"</td>\n",
       "      <td>Universal Service Fund</td>\n",
       "      <td>1</td>\n",
       "    </tr>\n",
       "    <tr>\n",
       "      <th>2</th>\n",
       "      <td>1</td>\n",
       "      <td>Breakup of the Bell system (1982-1996)</td>\n",
       "      <td>There was a push for deregulating the telecomm...</td>\n",
       "      <td>{'level_0': 'Background', 'level_1': 'Breakup ...</td>\n",
       "      <td>Background|Breakup of the Bell system (1982-1996)</td>\n",
       "      <td>[0.26263627409935, 1.5298961400985718, -2.9283...</td>\n",
       "      <td>Rural Broadband in America</td>\n",
       "      <td>Historical, current, and future challenges for...</td>\n",
       "      <td>\"Universal Service Fund\" \"rural broadband\"</td>\n",
       "      <td>Universal Service Fund</td>\n",
       "      <td>2</td>\n",
       "    </tr>\n",
       "    <tr>\n",
       "      <th>3</th>\n",
       "      <td>0</td>\n",
       "      <td>History</td>\n",
       "      <td></td>\n",
       "      <td>{'level_0': 'History', 'level_1': '', 'level_2...</td>\n",
       "      <td>History</td>\n",
       "      <td>[-0.06453355401754379, 1.4757651090621948, -4....</td>\n",
       "      <td>Rural Broadband in America</td>\n",
       "      <td>Historical, current, and future challenges for...</td>\n",
       "      <td>\"Universal Service Fund\" \"rural broadband\"</td>\n",
       "      <td>Universal Service Fund</td>\n",
       "      <td>3</td>\n",
       "    </tr>\n",
       "    <tr>\n",
       "      <th>4</th>\n",
       "      <td>1</td>\n",
       "      <td>Telecommunications Act of 1996</td>\n",
       "      <td>The Universal Service Fund was first codified ...</td>\n",
       "      <td>{'level_0': 'History', 'level_1': 'Telecommuni...</td>\n",
       "      <td>History|Telecommunications Act of 1996</td>\n",
       "      <td>[-0.4172077178955078, 1.0427643060684204, -3.6...</td>\n",
       "      <td>Rural Broadband in America</td>\n",
       "      <td>Historical, current, and future challenges for...</td>\n",
       "      <td>\"Universal Service Fund\" \"rural broadband\"</td>\n",
       "      <td>Universal Service Fund</td>\n",
       "      <td>4</td>\n",
       "    </tr>\n",
       "    <tr>\n",
       "      <th>...</th>\n",
       "      <td>...</td>\n",
       "      <td>...</td>\n",
       "      <td>...</td>\n",
       "      <td>...</td>\n",
       "      <td>...</td>\n",
       "      <td>...</td>\n",
       "      <td>...</td>\n",
       "      <td>...</td>\n",
       "      <td>...</td>\n",
       "      <td>...</td>\n",
       "      <td>...</td>\n",
       "    </tr>\n",
       "    <tr>\n",
       "      <th>380</th>\n",
       "      <td>0</td>\n",
       "      <td>Overview</td>\n",
       "      <td></td>\n",
       "      <td>{'level_0': 'Overview', 'level_1': '', 'level_...</td>\n",
       "      <td>Overview</td>\n",
       "      <td>[-0.5523691773414612, 1.02926766872406, -3.697...</td>\n",
       "      <td>Rural Broadband in America</td>\n",
       "      <td>Historical, current, and future challenges for...</td>\n",
       "      <td>\"Broadband Technology Opportunities Program\" \"...</td>\n",
       "      <td>ConnectEd Initiative</td>\n",
       "      <td>3</td>\n",
       "    </tr>\n",
       "    <tr>\n",
       "      <th>381</th>\n",
       "      <td>1</td>\n",
       "      <td>Upgrading Connectivity</td>\n",
       "      <td>The ConnectEd initiative aims to increase inte...</td>\n",
       "      <td>{'level_0': 'Overview', 'level_1': 'Upgrading ...</td>\n",
       "      <td>Overview|Upgrading Connectivity</td>\n",
       "      <td>[-0.5633025169372559, 1.5199469327926636, -3.3...</td>\n",
       "      <td>Rural Broadband in America</td>\n",
       "      <td>Historical, current, and future challenges for...</td>\n",
       "      <td>\"Broadband Technology Opportunities Program\" \"...</td>\n",
       "      <td>ConnectEd Initiative</td>\n",
       "      <td>4</td>\n",
       "    </tr>\n",
       "    <tr>\n",
       "      <th>382</th>\n",
       "      <td>1</td>\n",
       "      <td>Training Teachers</td>\n",
       "      <td>In order to improve student outcomes, the Conn...</td>\n",
       "      <td>{'level_0': 'Overview', 'level_1': 'Training T...</td>\n",
       "      <td>Overview|Training Teachers</td>\n",
       "      <td>[-0.8425822257995605, 1.0219800472259521, -3.1...</td>\n",
       "      <td>Rural Broadband in America</td>\n",
       "      <td>Historical, current, and future challenges for...</td>\n",
       "      <td>\"Broadband Technology Opportunities Program\" \"...</td>\n",
       "      <td>ConnectEd Initiative</td>\n",
       "      <td>5</td>\n",
       "    </tr>\n",
       "    <tr>\n",
       "      <th>383</th>\n",
       "      <td>1</td>\n",
       "      <td>Encouraging Private Sector Innovation</td>\n",
       "      <td>ConnectEd calls on the private sector to provi...</td>\n",
       "      <td>{'level_0': 'Overview', 'level_1': 'Encouragin...</td>\n",
       "      <td>Overview|Encouraging Private Sector Innovation</td>\n",
       "      <td>[-0.8617445826530457, 2.194448947906494, -3.43...</td>\n",
       "      <td>Rural Broadband in America</td>\n",
       "      <td>Historical, current, and future challenges for...</td>\n",
       "      <td>\"Broadband Technology Opportunities Program\" \"...</td>\n",
       "      <td>ConnectEd Initiative</td>\n",
       "      <td>6</td>\n",
       "    </tr>\n",
       "    <tr>\n",
       "      <th>384</th>\n",
       "      <td>0</td>\n",
       "      <td>Implications</td>\n",
       "      <td>The Federal Communications Commission (FCC) ha...</td>\n",
       "      <td>{'level_0': 'Implications', 'level_1': '', 'le...</td>\n",
       "      <td>Implications</td>\n",
       "      <td>[-0.5892829298973083, 2.2445569038391113, -2.9...</td>\n",
       "      <td>Rural Broadband in America</td>\n",
       "      <td>Historical, current, and future challenges for...</td>\n",
       "      <td>\"Broadband Technology Opportunities Program\" \"...</td>\n",
       "      <td>ConnectEd Initiative</td>\n",
       "      <td>7</td>\n",
       "    </tr>\n",
       "  </tbody>\n",
       "</table>\n",
       "<p>385 rows × 11 columns</p>\n",
       "</div>"
      ]
     },
     "execution_count": 28,
     "metadata": {},
     "output_type": "execute_result"
    }
   ],
   "execution_count": 28,
   "source": "context_index_data",
   "id": "cf2d4725eff64d"
  },
  {
   "metadata": {
    "ExecuteTime": {
     "end_time": "2025-04-20T21:59:30.857918Z",
     "start_time": "2025-04-20T21:59:30.842908Z"
    }
   },
   "cell_type": "code",
   "source": "temp_research_table = index.create_table('temp_research', data=context_index_data, mode='overwrite')",
   "id": "fb0e28bfc941bbba",
   "outputs": [],
   "execution_count": 351
  },
  {
   "metadata": {
    "ExecuteTime": {
     "end_time": "2025-04-20T21:59:31.371847Z",
     "start_time": "2025-04-20T21:59:30.986091Z"
    }
   },
   "cell_type": "code",
   "source": "temp_research_table.create_fts_index(['text','title'], replace=True)",
   "id": "ff2690e29c5f814f",
   "outputs": [],
   "execution_count": 352
  },
  {
   "metadata": {
    "ExecuteTime": {
     "end_time": "2025-04-20T21:59:31.870706Z",
     "start_time": "2025-04-20T21:59:31.441933Z"
    }
   },
   "cell_type": "code",
   "source": [
    "context_results = dict()\n",
    "all_context_documents = list()\n",
    "for group, followup_group in follow_up_groups.items():\n",
    "    all_search_results = list()\n",
    "    for follow_up in followup_group:\n",
    "        follow_up_vector = encoder.encode(follow_up).tolist()\n",
    "        torch.mps.empty_cache()\n",
    "\n",
    "        follow_up_search_vector = temp_research_table.search(follow_up_vector).distance_type('cosine').limit(20).to_pandas()\n",
    "        follow_up_search_fts = temp_research_table.search(follow_up).limit(20).to_pandas()\n",
    "        follow_up_search = pd.concat([follow_up_search_vector, follow_up_search_fts])\n",
    "        all_search_results.append(follow_up_search)\n",
    "    all_search_results = pd.concat(all_search_results)\n",
    "    all_search_results = all_search_results.drop_duplicates(subset=['page_title','section_idx'], keep='first')\n",
    "    all_search_results['section_start'] = all_search_results.groupby(['page_title','hierarchy_string'])['section_idx'].transform('min')\n",
    "    all_search_results = all_search_results.sort_values(by=['page_title','section_start','section_idx'])\n",
    "    context_results[group] = all_search_results\n",
    "    all_context_documents.append(all_search_results)\n",
    "\n",
    "\n",
    "all_context_documents = pd.concat(all_context_documents)\n",
    "all_context_documents = all_context_documents.drop_duplicates(subset=['page_title','section_idx'], keep='first')\n",
    "all_context_documents['section_start'] = all_context_documents.groupby(['page_title','hierarchy_string'])['section_idx'].transform('min')\n",
    "all_context_documents = all_context_documents.sort_values(by=['page_title','section_start','section_idx'])"
   ],
   "id": "22d3b8570a71ad2f",
   "outputs": [],
   "execution_count": 354
  },
  {
   "metadata": {
    "ExecuteTime": {
     "end_time": "2025-04-20T21:59:31.899493Z",
     "start_time": "2025-04-20T21:59:31.896712Z"
    }
   },
   "cell_type": "code",
   "source": [
    "all_context_documents = all_context_documents.drop_duplicates(subset=['page_title','text'])\n",
    "all_context_documents = all_context_documents[all_context_documents['text'].str.strip() != '']"
   ],
   "id": "422a407bb0a84a9",
   "outputs": [],
   "execution_count": 355
  },
  {
   "metadata": {
    "ExecuteTime": {
     "end_time": "2025-04-20T21:59:31.928592Z",
     "start_time": "2025-04-20T21:59:31.925880Z"
    }
   },
   "cell_type": "code",
   "source": "",
   "id": "51ddd768e899a53f",
   "outputs": [],
   "execution_count": 356
  },
  {
   "metadata": {
    "ExecuteTime": {
     "end_time": "2025-04-20T21:59:37.268153Z",
     "start_time": "2025-04-20T21:59:37.249120Z"
    }
   },
   "cell_type": "code",
   "source": [
    "formatted_context_sections = list()\n",
    "all_context_grounding = list()\n",
    "for _page_title, _group in all_context_documents.groupby(['page_title']):\n",
    "    # group_text = '\\n\\n'.join(_group['text'])\n",
    "    formatted_wiki_text = format_sections_w_citations(_group.to_dict(orient='records'), _page_title[0])\n",
    "    group_text = \"\"\n",
    "    for section in formatted_wiki_text:\n",
    "        formatted_context_sections.append(deepcopy(section))\n",
    "        _formatted_section = f\"\\n- {section['text']} ({section['citation']})\"\n",
    "        group_text += _formatted_section\n",
    "    group_text = group_text.strip()\n",
    "    all_context_grounding.append(f\"#### Title: {_page_title[0]}\\n\\n{group_text}\")\n",
    "\n",
    "context_grounding = '\\n\\n'.join(all_context_grounding).strip()\n",
    "print(len(context_grounding.split(' ')))\n",
    "# all_context_grounding.append(context_grounding)"
   ],
   "id": "6437e66d5e996089",
   "outputs": [
    {
     "name": "stdout",
     "output_type": "stream",
     "text": [
      "Products and technology\n",
      "Alvarion(2)(1)\n",
      "Commercial development\n",
      "Alvarion(3)(1)\n",
      "Broadband universal service(1)(2)\n",
      "Broadband universal service(1)(3)\n",
      "Implementation\n",
      "Broadband universal service(2)(1)\n",
      "Broadband universal service(2)(2)\n",
      "Broadband universal service(2)(3)\n",
      "Broadband universal service(2)(4)\n",
      "Broadband universal service(2)(5)\n",
      "Broadband universal service(2)(6)\n",
      "See also\n",
      "Broadband universal service(3)(1)\n",
      "External links\n",
      "Broadband universal service(4)(1)\n",
      "Timeline\n",
      "ConnectEd Initiative(2)(1)\n",
      "Funding\n",
      "ConnectEd Initiative(3)(1)\n",
      "Overview\n",
      "ConnectEd Initiative(4)(1)\n",
      "ConnectEd Initiative(4)(2)\n",
      "ConnectEd Initiative(4)(3)\n",
      "Implications\n",
      "ConnectEd Initiative(5)(1)\n",
      "Digital divide in the United States(1)(2)\n",
      "Digital divide in the United States(1)(3)\n",
      "Digital divide in the United States(1)(4)\n",
      "Digital divide in the United States(1)(5)\n",
      "Digital divide in the United States(1)(6)\n",
      "Digital divide in the United States(1)(7)\n",
      "Digital divide in the United States(1)(8)\n",
      "Means of connectivity\n",
      "Digital divide in the United States(2)(1)\n",
      "Digital divide in the United States(2)(2)\n",
      "Purpose of connectivity\n",
      "Digital divide in the United States(3)(1)\n",
      "Lack of connectivity\n",
      "Digital divide in the United States(4)(1)\n",
      "Overcoming the digital divide in the United States\n",
      "Digital divide in the United States(5)(1)\n",
      "Digital divide in the United States(5)(2)\n",
      "Digital divide in the United States(5)(3)\n",
      "Digital divide in the United States(5)(4)\n",
      "Digital divide in the United States(5)(5)\n",
      "Digital divide in the United States(5)(6)\n",
      "See also\n",
      "Digital divide in the United States(6)(1)\n",
      "Rural Area of Critical Economic Concern\n",
      "Florida Rural Broadband Alliance(2)(1)\n",
      "Middle Mile Project\n",
      "Florida Rural Broadband Alliance(3)(1)\n",
      "External links\n",
      "Florida Rural Broadband Alliance(4)(1)\n",
      "Availability\n",
      "Internet access(2)(1)\n",
      "Internet access(2)(2)\n",
      "Internet access(2)(3)\n",
      "Internet access(2)(4)\n",
      "Technologies\n",
      "Internet access(3)(1)\n",
      "Internet access(3)(2)\n",
      "Internet access(3)(3)\n",
      "Internet access(3)(4)\n",
      "Internet access(3)(5)\n",
      "Internet access(3)(6)\n",
      "Internet access(3)(7)\n",
      "Internet access(3)(8)\n",
      "Internet access(3)(9)\n",
      "Internet access(3)(10)\n",
      "Internet access(3)(11)\n",
      "Internet access(3)(12)\n",
      "Internet access(3)(13)\n",
      "Internet access(3)(14)\n",
      "Internet access(3)(15)\n",
      "Internet access(3)(16)\n",
      "Internet access(3)(17)\n",
      "Internet access(3)(18)\n",
      "Internet access(3)(19)\n",
      "Internet access(3)(20)\n",
      "Internet access(3)(21)\n",
      "Pricing and spending\n",
      "Internet access(4)(1)\n",
      "Digital divide\n",
      "Internet access(5)(1)\n",
      "Internet access(5)(2)\n",
      "Internet access(5)(3)\n",
      "Internet access(5)(4)\n",
      "Internet access(5)(5)\n",
      "Internet access(5)(6)\n",
      "Natural disasters and access\n",
      "Internet access(6)(1)\n",
      "Internet in the United States(1)(2)\n",
      "Internet in the United States(1)(3)\n",
      "Internet in the United States(1)(4)\n",
      "Internet in the United States(1)(5)\n",
      "Internet in the United States(1)(6)\n",
      "Broadband providers\n",
      "Internet in the United States(2)(1)\n",
      "Government policy and programs\n",
      "Internet in the United States(3)(1)\n",
      "Internet in the United States(3)(2)\n",
      "Internet in the United States(3)(3)\n",
      "Internet in the United States(3)(4)\n",
      "Internet in the United States(3)(5)\n",
      "Internet in the United States(3)(6)\n",
      "Internet in the United States(3)(7)\n",
      "Internet in the United States(3)(8)\n",
      "Internet in the United States(3)(9)\n",
      "See also\n",
      "Internet in the United States(4)(1)\n",
      "External links\n",
      "Internet in the United States(5)(1)\n",
      "Government and business experience\n",
      "Julius Genachowski(2)(1)\n",
      "Obama campaign and transition\n",
      "Julius Genachowski(3)(1)\n",
      "Tenure as FCC Chairman\n",
      "Julius Genachowski(4)(1)\n",
      "Julius Genachowski(4)(2)\n",
      "Julius Genachowski(4)(3)\n",
      "Julius Genachowski(4)(4)\n",
      "Julius Genachowski(4)(5)\n",
      "Julius Genachowski(4)(6)\n",
      "Julius Genachowski(4)(7)\n",
      "Julius Genachowski(4)(8)\n",
      "Programs\n",
      "NTCA - The Rural Broadband Association(2)(1)\n",
      "Organization\n",
      "North Florida Broadband Authority(2)(1)\n",
      "Middle Mile Project\n",
      "North Florida Broadband Authority(3)(1)\n",
      "Political positions of Susan Collins(1)(2)\n",
      "Social issues\n",
      "Political positions of Susan Collins(2)(1)\n",
      "Political positions of Susan Collins(2)(2)\n",
      "Political positions of Susan Collins(2)(3)\n",
      "Political positions of Susan Collins(2)(4)\n",
      "Political positions of Susan Collins(2)(5)\n",
      "Political positions of Susan Collins(2)(6)\n",
      "Economic issues\n",
      "Political positions of Susan Collins(3)(1)\n",
      "Education\n",
      "Political positions of Susan Collins(4)(1)\n",
      "Healthcare\n",
      "Political positions of Susan Collins(5)(1)\n",
      "Environmental issues\n",
      "Political positions of Susan Collins(6)(1)\n",
      "Other issues\n",
      "Political positions of Susan Collins(7)(1)\n",
      "Notable legislation\n",
      "Political positions of Susan Collins(8)(1)\n",
      "In the United States\n",
      "Rural internet(2)(1)\n",
      "In Canada\n",
      "Rural internet(3)(1)\n",
      "In the United Kingdom\n",
      "Rural internet(4)(1)\n",
      "In India\n",
      "Rural internet(5)(1)\n",
      "Internet of Things\n",
      "Rural internet(6)(1)\n",
      "Innovation and solutions\n",
      "Rural internet(7)(1)\n",
      "See also\n",
      "Rural internet(8)(1)\n",
      "External links\n",
      "Rural internet(9)(1)\n",
      "Universal Service Fund(1)(2)\n",
      "History\n",
      "Universal Service Fund(2)(1)\n",
      "Universal Service Fund(2)(2)\n",
      "Components\n",
      "Universal Service Fund(3)(1)\n",
      "Universal Service Fund(3)(2)\n",
      "Universal Service Fund(3)(3)\n",
      "Universal Service Fund(3)(4)\n",
      "Universal Service Fund(3)(5)\n",
      "Universal Service Fund(3)(6)\n",
      "Universal Service Fund(3)(7)\n",
      "Universal Service Fund(3)(8)\n",
      "Administration\n",
      "Universal Service Fund(4)(1)\n",
      "Universal Service Fund(4)(2)\n",
      "Universal Service Fund(4)(3)\n",
      "Universal Service Fund(4)(4)\n",
      "Funding\n",
      "Universal Service Fund(5)(1)\n",
      "State universal service funds\n",
      "Universal Service Fund(6)(1)\n",
      "Waste and fraud\n",
      "Universal Service Fund(7)(1)\n",
      "Proposed changes\n",
      "Universal Service Fund(8)(1)\n",
      "Universal Service Fund(8)(2)\n",
      "Universal Service Fund(8)(3)\n",
      "Universal Service Fund(8)(4)\n",
      "Court cases\n",
      "Universal Service Fund(9)(1)\n",
      "See also\n",
      "Universal Service Fund(10)(1)\n",
      "41763\n"
     ]
    }
   ],
   "execution_count": 357
  },
  {
   "metadata": {
    "ExecuteTime": {
     "end_time": "2025-04-20T21:59:43.892621Z",
     "start_time": "2025-04-20T21:59:43.890179Z"
    }
   },
   "cell_type": "code",
   "source": [
    "areas_of_interest = list()\n",
    "for follow_up_type, follow_up_points in follow_up_groups.items():\n",
    "    points_to_follow_up = ['- ' + x for x in follow_up_points]\n",
    "    points_to_follow_up = '\\n'.join(points_to_follow_up)\n",
    "    areas_of_interest.append(points_to_follow_up)"
   ],
   "id": "f48c583ea3f4688c",
   "outputs": [],
   "execution_count": 361
  },
  {
   "metadata": {
    "ExecuteTime": {
     "end_time": "2025-04-20T21:59:48.953332Z",
     "start_time": "2025-04-20T21:59:48.950609Z"
    }
   },
   "cell_type": "code",
   "source": [
    "formatted_prompts = list()\n",
    "formatted_extraction_prompt = extract_context_information_prompt.format(topic=context_topic,\n",
    "                                                                            focus=context_focus,\n",
    "                                                                            areas_of_interest=_area_of_interest,\n",
    "                                                                            trend_analysis=trend_report,\n",
    "                                                                            articles=context_grounding)\n",
    "formatted_prompts.append(formatted_extraction_prompt)"
   ],
   "id": "5de87b21ffd47cad",
   "outputs": [],
   "execution_count": 363
  },
  {
   "metadata": {
    "ExecuteTime": {
     "end_time": "2025-04-20T22:00:15.259492Z",
     "start_time": "2025-04-20T21:59:52.998338Z"
    }
   },
   "cell_type": "code",
   "source": [
    "follow_up_extractions = list()\n",
    "for _follow_up_prompt in tqdm(formatted_prompts):\n",
    "    extraction = call_llm_flash(_follow_up_prompt, max_tokens=7500)\n",
    "    follow_up_extractions.append(extraction)"
   ],
   "id": "c7c506ea0bfca580",
   "outputs": [
    {
     "data": {
      "text/plain": [
       "  0%|          | 0/1 [00:00<?, ?it/s]"
      ],
      "application/vnd.jupyter.widget-view+json": {
       "version_major": 2,
       "version_minor": 0,
       "model_id": "fded304c2db14f7b89c11c2b1465cc66"
      }
     },
     "metadata": {},
     "output_type": "display_data"
    }
   ],
   "execution_count": 365
  },
  {
   "metadata": {
    "ExecuteTime": {
     "end_time": "2025-04-20T22:00:15.333854Z",
     "start_time": "2025-04-20T22:00:15.332455Z"
    }
   },
   "cell_type": "code",
   "source": "all_follow_up_extractions = '\\n\\n----------\\n\\n'.join(follow_up_extractions)",
   "id": "f7d426cabc63a28f",
   "outputs": [],
   "execution_count": 367
  },
  {
   "metadata": {
    "ExecuteTime": {
     "end_time": "2025-04-20T22:00:15.513494Z",
     "start_time": "2025-04-20T22:00:15.510361Z"
    }
   },
   "cell_type": "code",
   "source": [
    "formatted_trend_interpolation_prompt = trend_interpolation_prompt.format(topic=context_topic,\n",
    "                                                                         focus=context_focus,\n",
    "                                                                         trend_analysis=trend_report,\n",
    "                                                                         notes=all_follow_up_extractions)\n",
    "len(formatted_extraction_prompt.split(' '))"
   ],
   "id": "cc0ce91c0cfe3ddc",
   "outputs": [
    {
     "data": {
      "text/plain": [
       "43559"
      ]
     },
     "execution_count": 373,
     "metadata": {},
     "output_type": "execute_result"
    }
   ],
   "execution_count": 373
  },
  {
   "metadata": {
    "ExecuteTime": {
     "end_time": "2025-04-20T22:00:49.621406Z",
     "start_time": "2025-04-20T22:00:15.585717Z"
    }
   },
   "cell_type": "code",
   "source": "expanded_trend_report = call_llm_flash(formatted_trend_interpolation_prompt, max_tokens=10000)",
   "id": "4303afc1501c9a2f",
   "outputs": [],
   "execution_count": 375
  },
  {
   "metadata": {
    "ExecuteTime": {
     "end_time": "2025-04-20T22:00:49.821870Z",
     "start_time": "2025-04-20T22:00:49.820342Z"
    }
   },
   "cell_type": "code",
   "source": [
    "merged_trend_formatted_prompt = merged_trend_report_prompt.format(topic=context_topic,\n",
    "                                                                  focus=context_focus,\n",
    "                                                                  initial_report=trend_report,\n",
    "                                                                  additional_report=expanded_trend_report)"
   ],
   "id": "c8ecac0f4e9f2f5a",
   "outputs": [],
   "execution_count": 381
  },
  {
   "metadata": {
    "ExecuteTime": {
     "end_time": "2025-04-20T22:01:23.721122Z",
     "start_time": "2025-04-20T22:00:49.848561Z"
    }
   },
   "cell_type": "code",
   "source": "merged_trend_report = call_llm_flash(merged_trend_formatted_prompt, max_tokens=10000)",
   "id": "351941c7dc68dc39",
   "outputs": [],
   "execution_count": 382
  },
  {
   "metadata": {},
   "cell_type": "code",
   "outputs": [],
   "execution_count": null,
   "source": "",
   "id": "99bafe1fe53e750d"
  },
  {
   "metadata": {
    "ExecuteTime": {
     "end_time": "2025-04-20T22:01:23.803102Z",
     "start_time": "2025-04-20T22:01:23.800937Z"
    }
   },
   "cell_type": "code",
   "source": [
    "full_research_folder = Path('wonky_data/data/full_research')\n",
    "full_research_folder = full_research_folder.joinpath(research[0].stem)\n",
    "full_research_folder.mkdir(parents=True, exist_ok=True)\n",
    "\n",
    "full_research_documents_folder = full_research_folder.joinpath('documents')\n",
    "full_research_documents_folder.mkdir(parents=True, exist_ok=True)\n",
    "\n",
    "full_research_trace_folder = full_research_folder.joinpath('trace')\n",
    "full_research_trace_folder.mkdir(parents=True, exist_ok=True)"
   ],
   "id": "db966fcb2b50098d",
   "outputs": [],
   "execution_count": 384
  },
  {
   "metadata": {
    "ExecuteTime": {
     "end_time": "2025-04-20T22:01:23.831169Z",
     "start_time": "2025-04-20T22:01:23.829531Z"
    }
   },
   "cell_type": "code",
   "source": "report_file_name",
   "id": "95322e6873e3ba34",
   "outputs": [
    {
     "data": {
      "text/plain": [
       "'rural broadband in america_20250416150226.json'"
      ]
     },
     "execution_count": 385,
     "metadata": {},
     "output_type": "execute_result"
    }
   ],
   "execution_count": 385
  },
  {
   "metadata": {
    "ExecuteTime": {
     "end_time": "2025-04-20T22:01:23.863190Z",
     "start_time": "2025-04-20T22:01:23.856055Z"
    }
   },
   "cell_type": "code",
   "source": [
    "context_grounding_save_out = dict()\n",
    "for _area_of_interest, _context in context_results.items():\n",
    "    _cleaned_context = _context.copy()\n",
    "    _cleaned_context['vector'] = _cleaned_context['vector'].apply(lambda x: x.tolist())\n",
    "    context_grounding_save_out[_area_of_interest] = _cleaned_context.to_dict(orient='records')"
   ],
   "id": "77ded10f454238ca",
   "outputs": [],
   "execution_count": 386
  },
  {
   "metadata": {
    "ExecuteTime": {
     "end_time": "2025-04-20T22:01:24.068345Z",
     "start_time": "2025-04-20T22:01:24.066798Z"
    }
   },
   "cell_type": "code",
   "source": [
    "formatted_executive_summary_prompt = executive_summary_prompt.format(topic=research_data['topic'],\n",
    "                                                                     focus=research_data['focus'],\n",
    "                                                                     trend_report=merged_trend_report,\n",
    "                                                                     report=research_data['report'])"
   ],
   "id": "496ec50e5f9c8abd",
   "outputs": [],
   "execution_count": 389
  },
  {
   "metadata": {
    "ExecuteTime": {
     "end_time": "2025-04-20T22:01:28.528616Z",
     "start_time": "2025-04-20T22:01:24.091516Z"
    }
   },
   "cell_type": "code",
   "source": "executive_summary = call_llm_flash(formatted_executive_summary_prompt, max_tokens=10000)",
   "id": "1d6d48f19b7ab3d3",
   "outputs": [],
   "execution_count": 390
  },
  {
   "metadata": {
    "ExecuteTime": {
     "end_time": "2025-04-20T22:01:28.590992Z",
     "start_time": "2025-04-20T22:01:28.587924Z"
    }
   },
   "cell_type": "code",
   "source": [
    "trace_data = {\"trend_report\":trend_report,\n",
    "                     \"report\":research_data['report'],\n",
    "                     \"follow_up_context\":follow_up_context,\n",
    "                     \"expanded_trend_report\":expanded_trend_report,\n",
    "                     \"trend_research\":context_grounding_save_out,\n",
    "                     \"topic\":research_data['topic'],\n",
    "                     \"focus\":research_data['focus'],\n",
    "                     \"source_file_name\":report_file_name,\n",
    "                     \"executive_summary\":executive_summary,\n",
    "              \"followup_extractions\":all_follow_up_extractions,\n",
    "              \"merged_trend_report\":merged_trend_report}\n",
    "\n",
    "documents_to_save = {\"trend_report\":trend_report,\n",
    "                     \"report\":research_data['report'],\n",
    "                     \"follow_up_context\":follow_up_context,\n",
    "                     \"expanded_trend_report\":expanded_trend_report,\n",
    "                     \"source_file_name\":report_file_name,\n",
    "                     \"executive_summary\":executive_summary,\n",
    "                     \"followup_extractions\":all_follow_up_extractions,\n",
    "                     \"merged_trend_report\":merged_trend_report}"
   ],
   "id": "da32c25b0799c3fc",
   "outputs": [],
   "execution_count": 392
  },
  {
   "metadata": {
    "ExecuteTime": {
     "end_time": "2025-04-20T22:01:28.750604Z",
     "start_time": "2025-04-20T22:01:28.617764Z"
    }
   },
   "cell_type": "code",
   "source": [
    "with open(full_research_trace_folder.joinpath('research_data.json'),'w') as f:\n",
    "    json.dump(trace_data,f)"
   ],
   "id": "d52cff4ce282c3fe",
   "outputs": [],
   "execution_count": 393
  },
  {
   "metadata": {
    "ExecuteTime": {
     "end_time": "2025-04-20T22:01:28.803468Z",
     "start_time": "2025-04-20T22:01:28.800969Z"
    }
   },
   "cell_type": "code",
   "source": [
    "for document_type, document in documents_to_save.items():\n",
    "    with open(full_research_documents_folder.joinpath(document_type+'.md'),'w') as f:\n",
    "        f.write(document)"
   ],
   "id": "6a220e4bcff994e9",
   "outputs": [],
   "execution_count": 394
  },
  {
   "metadata": {
    "ExecuteTime": {
     "end_time": "2025-04-20T22:01:28.830814Z",
     "start_time": "2025-04-20T22:01:28.829199Z"
    }
   },
   "cell_type": "code",
   "source": "print(f\"topic: {trace_data['topic']} with a focus on: {trace_data['focus']}\")",
   "id": "561c2d0dd41a791e",
   "outputs": [
    {
     "name": "stdout",
     "output_type": "stream",
     "text": [
      "topic: Rural Broadband in America with a focus on: Historical, current, and future challenges for rural broadband and connectivity in America\n"
     ]
    }
   ],
   "execution_count": 395
  },
  {
   "metadata": {},
   "cell_type": "code",
   "outputs": [],
   "execution_count": null,
   "source": "",
   "id": "41cbd2cc3efa08b1"
  }
 ],
 "metadata": {
  "kernelspec": {
   "display_name": "Python 3",
   "language": "python",
   "name": "python3"
  },
  "language_info": {
   "codemirror_mode": {
    "name": "ipython",
    "version": 2
   },
   "file_extension": ".py",
   "mimetype": "text/x-python",
   "name": "python",
   "nbconvert_exporter": "python",
   "pygments_lexer": "ipython2",
   "version": "2.7.6"
  }
 },
 "nbformat": 4,
 "nbformat_minor": 5
}
