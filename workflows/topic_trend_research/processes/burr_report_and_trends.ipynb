{
 "cells": [
  {
   "cell_type": "code",
   "id": "initial_id",
   "metadata": {
    "collapsed": true,
    "ExecuteTime": {
     "end_time": "2025-04-26T17:41:03.697867Z",
     "start_time": "2025-04-26T17:41:00.735272Z"
    }
   },
   "source": [
    "from sentence_transformers import SentenceTransformer\n",
    "import torch\n",
    "import lancedb\n",
    "from lancedb.rerankers import LinearCombinationReranker, RRFReranker\n",
    "from openai import OpenAI\n",
    "import re\n",
    "from pathlib import Path\n",
    "import json\n",
    "\n",
    "from google import genai\n",
    "from google.genai import types\n",
    "from dotenv import load_dotenv\n",
    "\n",
    "load_dotenv('env_var')\n",
    "\n",
    "from burr.core import action, State, ApplicationBuilder, ApplicationContext, Action\n",
    "from burr.core.parallelism import MapStates, RunnableGraph"
   ],
   "outputs": [],
   "execution_count": 1
  },
  {
   "metadata": {
    "ExecuteTime": {
     "end_time": "2025-04-26T18:44:20.665894Z",
     "start_time": "2025-04-26T18:44:20.592466Z"
    }
   },
   "cell_type": "code",
   "source": [
    "# %load_ext burr.integrations.notebook\n",
    "# %burr_ui"
   ],
   "id": "7f38c4ffdfd935c1",
   "outputs": [
    {
     "name": "stdout",
     "output_type": "stream",
     "text": [
      "The burr.integrations.notebook extension is already loaded. To reload it, use:\n",
      "  %reload_ext burr.integrations.notebook\n"
     ]
    },
    {
     "name": "stderr",
     "output_type": "stream",
     "text": [
      "huggingface/tokenizers: The current process just got forked, after parallelism has already been used. Disabling parallelism to avoid deadlocks...\n",
      "To disable this warning, you can either:\n",
      "\t- Avoid using `tokenizers` before the fork if possible\n",
      "\t- Explicitly set the environment variable TOKENIZERS_PARALLELISM=(true | false)\n"
     ]
    },
    {
     "data": {
      "text/plain": [
       "<IPython.lib.display.IFrame at 0x3e23ab6d0>"
      ],
      "text/html": [
       "\n",
       "        <iframe\n",
       "            width=\"100%\"\n",
       "            height=\"400\"\n",
       "            src=\"http://127.0.0.1:7241\"\n",
       "            frameborder=\"0\"\n",
       "            allowfullscreen\n",
       "            \n",
       "        ></iframe>\n",
       "        "
      ]
     },
     "metadata": {},
     "output_type": "display_data"
    }
   ],
   "execution_count": 113
  },
  {
   "metadata": {},
   "cell_type": "markdown",
   "source": "# Research Report Burr",
   "id": "910a0ecd32381dfb"
  },
  {
   "metadata": {
    "ExecuteTime": {
     "end_time": "2025-04-26T17:41:09.373667Z",
     "start_time": "2025-04-26T17:41:09.369081Z"
    }
   },
   "cell_type": "code",
   "source": [
    "extraction_prompt = \"\"\"\n",
    "Documents:\n",
    "{documents}\n",
    "\n",
    "\n",
    "Task: Identify the relevant sections to the topic, question, and focus. The topic that the question relates to is {topic} and the focus of interest is {focus}. The only thing you are to provide are a list of the citations. The different documents begin with the report number and the title of the report. This report number is the report_id in the citation pattern.\n",
    "\n",
    "The title is only to provide context for what the report is about. You must not reference it.\n",
    "\n",
    "Do not include any introductory phrases (e.g., 'Okay,' 'Sure,' 'Here's').\n",
    "Do not include any concluding remarks or follow-up questions.\n",
    "Respond only with the requested information.\n",
    "Avoid any conversational filler.\n",
    "Do not engage in dialogue. Only provide the answer.\n",
    "Focus solely on fulfilling the request.\n",
    "\n",
    "Question: {question}\n",
    "\n",
    "Instructions:\n",
    "- Identify only the sections that provide useful information for answering the provided question.\n",
    "- The citation pattern follows the pattern '([report_id]([section_number]))' as provided in the citation field of the documents. Do not use the brackets in your response, those are only there to indicate what values are in the citation.\n",
    "- If no relevant sections are found for a question, indicate \"No relevant sections found.\"\n",
    "- Once the relevant sections are found, provide the citation pattern in a comma separated list.\n",
    "- Do not introduce your answer, ask follow up questions, or provide a summary or outro. Only provide the list.\n",
    "- Citations for relevant information must be provided with both the report_id and section_number where the information is from.\n",
    "- A citation for a section can refer to multiple passages above it. Do not create new citations just because a paragraph or passage does not have a citation immediately after the passage. It'll be found at the end of the section.\n",
    "\n",
    "Relevant Sections:\n",
    "\"\"\"\n",
    "\n",
    "query_expansion_prompt = \"\"\"Task: I have a question about {topic}. I am focusing my research on finding information related the question: {question}. The general direction of this research is based on my focus that I have set forth for broader research: {focus}.\n",
    "\n",
    "Instructions:\n",
    "- Write at most two paragraphs that provides an answer to my question in the context of my topic and focus.\n",
    "- Provide both general terminology and any specific, domain relevant, terms in your answer. This will help me understand the topic and focus on both a high level communicable level and details that provide crucial examples.\n",
    "- Your answer should not be long. This is meant to get me started, not be a final answer on the subject.\n",
    "\n",
    "Response Instructions:\n",
    "- Do not include any introductory phrases (e.g., 'Okay,' 'Sure,' 'Here's').\n",
    "- Do not include any concluding remarks or follow-up questions.\n",
    "- Respond only with the requested information.\n",
    "- Avoid any conversational filler.\n",
    "- Do not engage in dialogue. Only provide the answer.\n",
    "- Focus solely on fulfilling the request.\n",
    "\n",
    "Answer: \"\"\"\n",
    "\n",
    "search_expansion_prompt = \"\"\"\n",
    "Task: Generate 3 focused search questions for me to begin my research with.\n",
    "\n",
    "Topic: {topic}\n",
    "Focus: {focus}\n",
    "\n",
    "Instructions:\n",
    "- Create 3 questions that address the issues that should begin strongly relevant research with.\n",
    "- Questions should directly address the intersection of the Topic and Focus.\n",
    "- Prioritize questions that can be answered with factual information by Congressional Research Services reports.\n",
    "\n",
    "- Do not include any introductory phrases (e.g., 'Okay,' 'Sure,' 'Here's').\n",
    "- Do not include any concluding remarks or follow-up questions.\n",
    "- Respond only with the requested information.\n",
    "- Avoid any conversational filler.\n",
    "- Do not engage in dialogue. Only provide the answer.\n",
    "- Focus solely on fulfilling the request.\n",
    "\n",
    "Questions:\n",
    "1.\n",
    "2.\n",
    "3.\n",
    "\"\"\"\n",
    "\n",
    "report_prompt = \"\"\"\n",
    "Sources:\n",
    "{sources}\n",
    "\n",
    "Using the topic, {topic}, and the focus of research write a research report, while only using the sources of information, extract the relevant information from the sources and organize it into a well structured report that provides all the relevant details, context for the details, all the scenarios and situations discussed in the sources (if there are any). If there are case studies provided, extract that information too.\n",
    "\n",
    "Instructions:\n",
    "- You must not add any information, details, or hypotheticals to the report unless they are explicitly discussed in my sources.\n",
    "- Carefully analyze what the major themes, topics, and situations of the sources are and which are relevant to the focus of my research on my topic.\n",
    "- It is critical that you do not invent sources.\n",
    "- It is critical that you provide the citation for each statement, fact, and scenario that you write about in your report.\n",
    "- Work hierarchically for structuring your report. The main structure of your report should be organized into main sections by theme, followed by subsections containing the important facts, scenarios, any discussion from the sources about that topic, and a final summarization.\n",
    "- Be thorough and avoid simplification. These are complex topics.\n",
    "- Do not include any introductory phrases (e.g., 'Okay,' 'Sure,' 'Here's').\n",
    "- Do not include any concluding remarks or follow-up questions.\n",
    "- Respond only with the requested information.\n",
    "- Avoid any conversational filler.\n",
    "- Do not engage in dialogue. Only provide the answer.\n",
    "- Focus solely on fulfilling the request.\n",
    "- Provide the report between the tags: <report>...</report>\n",
    "\n",
    "Report:\n",
    "\"\"\""
   ],
   "id": "2edb35c18ae58fb4",
   "outputs": [],
   "execution_count": 3
  },
  {
   "metadata": {
    "ExecuteTime": {
     "end_time": "2025-04-26T17:41:09.422181Z",
     "start_time": "2025-04-26T17:41:09.386007Z"
    }
   },
   "cell_type": "code",
   "source": [
    "def format_documents(documents):\n",
    "    formatted_texts = []\n",
    "    report_ids = list(set([record['id'] for record in documents]))\n",
    "    for id in report_ids:\n",
    "        report_sections = [section for section in documents if section['id'] == id]\n",
    "        report_sections = sorted(report_sections, key=lambda section: section['section_start'])\n",
    "        report_text = [text['text'] for text in report_sections]\n",
    "        report_text = [re.sub('\\n+', '\\n', _text) for _text in report_text]\n",
    "        report_text = [re.sub(' +', ' ', _text) for _text in report_text]\n",
    "        report_text = [re.sub(r'(\\[.*?\\])','', _text) for _text in report_text]\n",
    "        report_text = [_text.replace('\\\\','') for _text in report_text]\n",
    "        report_text = [re.sub(r'(\\[.*?\\])','', _text) for _text in report_text]\n",
    "        report_text = [re.sub(r'(\\n?-{10,})','', _text) for _text in report_text]\n",
    "        report_text = [re.sub(r'(\\n.*?#_Toc.*?\\n)','', _text) for _text in report_text]\n",
    "        report_text = [re.sub(r'(- \\n)','', _text) for _text in report_text]\n",
    "        report_text = [re.sub(r'\\n{2,}','\\n', _text) for _text in report_text]\n",
    "        report_text = [_text.strip() for _text in report_text]\n",
    "        report_text = '\\n-----\\n'.join(report_text)\n",
    "        report_header = f\"\"\"**{report_sections[0]['id']}:** {report_sections[0]['title']}\"\"\"\n",
    "        formatted_texts.append(f\"\"\"{report_header}\\n{report_text}\"\"\".strip())\n",
    "    # print(formatted_texts[0])\n",
    "    return '\\n=======\\n'.join(formatted_texts)\n",
    "\n",
    "client = OpenAI(base_url=\"http://localhost:1234/v1\", api_key=\"lm-studio\")\n",
    "def call_llm(query, temperature=0.35, seed=42, model=\"gemma-3-4b-it-qat\"):\n",
    "    completion = client.chat.completions.create(\n",
    "        model=model,\n",
    "        messages=[\n",
    "            {\"role\": \"user\", \"content\": query}\n",
    "        ],\n",
    "        temperature=temperature,\n",
    "        seed=seed,\n",
    "    )\n",
    "    return completion.choices[0].message.content\n",
    "\n",
    "model = \"gemini-2.0-flash\"\n",
    "total_tokens = list()\n",
    "\n",
    "def call_llm_flash(query, temperature=0.1, seed=42, max_tokens=7500 ):\n",
    "    client = genai.Client(api_key=os.environ['GEMINI_API_KEY'])\n",
    "    response = client.models.generate_content(\n",
    "        model=model,\n",
    "        contents=[query],\n",
    "        config=types.GenerateContentConfig(\n",
    "            max_output_tokens=max_tokens,\n",
    "            temperature=temperature,\n",
    "            seed=seed\n",
    "        )\n",
    "    )\n",
    "    total_tokens.append({'prompt_tokens':response.usage_metadata.prompt_token_count,\n",
    "                         'completion_tokens':response.usage_metadata.candidates_token_count,\n",
    "                         'total_tokens':response.usage_metadata.total_token_count,\n",
    "                         'timestamp':datetime.now().strftime(\"%Y_%m_%d_%H_%M_%S\")})\n",
    "\n",
    "    return response.text"
   ],
   "id": "2c7c142d02a084cc",
   "outputs": [],
   "execution_count": 4
  },
  {
   "metadata": {
    "ExecuteTime": {
     "end_time": "2025-04-26T17:41:09.430042Z",
     "start_time": "2025-04-26T17:41:09.427953Z"
    }
   },
   "cell_type": "code",
   "source": [
    "@action(reads=[], writes=['search_expansion_prompt'])\n",
    "def search_expansion_prompt_format(state: State, topic: str, focus: str, prompts: dict) -> State:\n",
    "    formatted_prompt = prompts['search_expansion_prompt'].format(topic=topic,\n",
    "                                                                 focus=focus)\n",
    "    return state.update(search_expansion_prompt=formatted_prompt)\n",
    "\n",
    "@action(reads=['search_expansion_prompt'], writes=['search_expansion'])\n",
    "def search_expansion(state: State) -> State:\n",
    "    expansion_prompt = state['search_expansion_prompt']\n",
    "    # search_expansion = call_llm(expansion_prompt, model=\"gemma-3-12b-it-qat\")\n",
    "    search_expansion = call_llm_flash(expansion_prompt)\n",
    "    search_expansion = re.findall(r'\\d+\\. (.+?\\?)', search_expansion)\n",
    "    return state.update(search_expansion=search_expansion)"
   ],
   "id": "bfc7ac4e375e85fd",
   "outputs": [],
   "execution_count": 5
  },
  {
   "metadata": {
    "ExecuteTime": {
     "end_time": "2025-04-26T17:41:09.437078Z",
     "start_time": "2025-04-26T17:41:09.435092Z"
    }
   },
   "cell_type": "code",
   "source": [
    "@action(reads=['search_expansion'], writes=['query_expansion'])\n",
    "def query_expansion(state: State, topic: str, focus: str, prompts: dict) -> State:\n",
    "    queries = list()\n",
    "    for question in state['search_expansion']:\n",
    "        expansion_prompt = prompts['query_expansion_prompt'].format(topic=topic,\n",
    "                                                         focus=focus,\n",
    "                                                         question=question)\n",
    "        # query_expansion = call_llm(expansion_prompt, model=\"gemma-3-12b-it-qat\")\n",
    "        query_expansion = call_llm_flash(expansion_prompt)\n",
    "        queries.append({'question': question, 'query': query_expansion})\n",
    "    return state.update(query_expansion=queries)"
   ],
   "id": "cb8c87626529ed94",
   "outputs": [],
   "execution_count": 6
  },
  {
   "metadata": {
    "ExecuteTime": {
     "end_time": "2025-04-26T17:41:09.444980Z",
     "start_time": "2025-04-26T17:41:09.441636Z"
    }
   },
   "cell_type": "code",
   "source": [
    "@action(reads=['query_expansion'], writes=[\"query_expansion\"])\n",
    "def embed_text(state: State) -> State:\n",
    "    query_expansions = list()\n",
    "    for expansion in state['query_expansion']:\n",
    "        embedding = encoder.encode(expansion['query'],\n",
    "                                   padding=False,\n",
    "                                   show_progress_bar=False).tolist()\n",
    "        expansion['vector'] = embedding\n",
    "        query_expansions.append(expansion)\n",
    "        torch.mps.empty_cache()\n",
    "    return state.update(query_expansion=query_expansions)\n",
    "\n",
    "@action(reads=[\"query_expansion\"], writes=[\"documents\"])\n",
    "def retrieve_documents(state: State, number_of_results: int, index_locations: dict) -> State:\n",
    "    index = lancedb.connect(index_locations['index_path'])\n",
    "    table = index.open_table(index_locations['index_table'])\n",
    "    expansions = state['query_expansion']\n",
    "    search_results = list()\n",
    "    for expansion in expansions:\n",
    "        query_embedding = expansion[\"vector\"]\n",
    "        sanitized_query = ' '.join(re.findall(r'(\\w+)', expansion['query']))\n",
    "        results = table.search(query_type='hybrid') \\\n",
    "            .vector(query_embedding) \\\n",
    "            .text(sanitized_query) \\\n",
    "            .limit(number_of_results) \\\n",
    "            .select(['id','title','text','summary','section_start','section_end']) \\\n",
    "            .to_pandas()\n",
    "\n",
    "        if 'score' in results.columns:\n",
    "            results['report_score'] = results.groupby('id')['score'].transform('max')\n",
    "        elif '_distance' in results.columns:\n",
    "            results['score'] = 1 - results['_distance']\n",
    "            results['report_score'] = results.groupby('id')['score'].transform('max')\n",
    "        elif '_relevance_score' in results.columns:\n",
    "            results['report_score'] = results['_relevance_score']\n",
    "        results = results.sort_values(['report_score','section_start'], ascending=[False,True])\n",
    "        search_results.append(results.to_dict(orient='records'))\n",
    "\n",
    "    return state.update(documents=search_results)"
   ],
   "id": "762cd5e8391a671b",
   "outputs": [],
   "execution_count": 7
  },
  {
   "metadata": {
    "ExecuteTime": {
     "end_time": "2025-04-26T17:41:09.452403Z",
     "start_time": "2025-04-26T17:41:09.450078Z"
    }
   },
   "cell_type": "code",
   "source": [
    "@action(reads=[\"query_expansion\", \"documents\"], writes=[\"extraction_prompt\"])\n",
    "def build_extraction_prompt(state: State, topic: str, focus: str, prompts: dict) -> State:\n",
    "    extraction_prompts = list()\n",
    "    for _expansion, _documents in zip(state['query_expansion'], state['documents']):\n",
    "        formatted_documents = format_documents(_documents)\n",
    "        # print(_expansion)\n",
    "        prompt = prompts['relevant_documents_prompt'].format(question=_expansion['question'],\n",
    "                                          topic=topic,\n",
    "                                          focus=focus,\n",
    "                                          documents=formatted_documents)\n",
    "        extraction_prompts.append(prompt)\n",
    "    return state.update(extraction_prompt=extraction_prompts)\n",
    "\n",
    "\n",
    "@action(reads=[\"extraction_prompt\"], writes=[\"extraction\"])\n",
    "def generate_extraction(state: State) -> State:\n",
    "    extractions = list()\n",
    "    for _expansion_prompt in state['extraction_prompt']:\n",
    "        # extraction = call_llm(_expansion_prompt)\n",
    "        extraction = call_llm_flash(_expansion_prompt)\n",
    "        extractions.append(extraction)\n",
    "    return state.update(extraction=extractions)"
   ],
   "id": "7d315441c996827c",
   "outputs": [],
   "execution_count": 8
  },
  {
   "metadata": {
    "ExecuteTime": {
     "end_time": "2025-04-26T17:41:09.460Z",
     "start_time": "2025-04-26T17:41:09.457308Z"
    }
   },
   "cell_type": "code",
   "source": [
    "@action(reads=[\"extraction\",\"documents\"], writes=[\"report_grounding\", \"relevant_citations\"])\n",
    "def merge_grounding(state: State) -> State:\n",
    "    retrieved_documents = list()\n",
    "    for result_set in state['documents']:\n",
    "        retrieved_documents.extend(result_set)\n",
    "    retrieved_documents = pd.DataFrame(retrieved_documents)\n",
    "    retrieved_documents = retrieved_documents.drop_duplicates(subset=['id','section_start'], keep='first')\n",
    "    retrieved_documents = retrieved_documents.sort_values(by=['id','section_start'], ascending=[False,True])\n",
    "    retrieved_documents = retrieved_documents.to_dict(orient='records')\n",
    "\n",
    "    relevant_citations = \"\"\n",
    "    for extraction in state['extraction']:\n",
    "        relevant_citations += f\", {extraction}\"\n",
    "    relevant_citations = sorted(list(set(re.findall(r'(\\w+\\(\\d+\\))', relevant_citations))))\n",
    "\n",
    "    relevant_sections = list()\n",
    "    for row in retrieved_documents:\n",
    "        for citation in relevant_citations:\n",
    "            if citation in row['text']:\n",
    "                relevant_sections.append(row)\n",
    "                break\n",
    "\n",
    "    relevant_sections = pd.DataFrame(relevant_sections)\n",
    "    relevant_sections = relevant_sections.drop_duplicates(subset=['id','section_start'], keep='first')\n",
    "    relevant_sections = relevant_sections.sort_values(by=['id','section_start'], ascending=[False,True])\n",
    "    relevant_sections = relevant_sections.to_dict(orient='records')\n",
    "\n",
    "    return state.update(report_grounding=relevant_sections, relevant_citations=relevant_citations)"
   ],
   "id": "af2637a1c28fd64b",
   "outputs": [],
   "execution_count": 9
  },
  {
   "metadata": {
    "ExecuteTime": {
     "end_time": "2025-04-26T17:41:09.466970Z",
     "start_time": "2025-04-26T17:41:09.464628Z"
    }
   },
   "cell_type": "code",
   "source": [
    "@action(reads=[\"report_grounding\"], writes=[\"formatted_report_grounding\", \"report_prompt\"])\n",
    "def format_report_prompt(state: State, topic: str, focus: str, prompts: dict) -> State:\n",
    "    grounding = state['report_grounding']\n",
    "    formatted_grounding = format_documents(grounding)\n",
    "    formatted_prompt = prompts['report_prompt'].format(topic=topic,focus=focus, sources=formatted_grounding)\n",
    "    return state.update(formatted_report_grounding=formatted_grounding, report_prompt=formatted_prompt)\n",
    "\n",
    "@action(reads=[\"report_prompt\"], writes=[\"report\"])\n",
    "def generate_report(state: State) -> State:\n",
    "    # report = call_llm(state['report_prompt'], model=\"gemma-3-4b-it-qat\")\n",
    "    report = call_llm_flash(state['report_prompt'])\n",
    "    report = report.replace('$','\\\\$')\n",
    "    extracted_report = re.search(r'<report>(.*?)</report>', report, flags=re.DOTALL)\n",
    "    if extracted_report:\n",
    "        report = extracted_report.group(1)\n",
    "    return state.update(report=report)"
   ],
   "id": "542be34ba46832e3",
   "outputs": [],
   "execution_count": 10
  },
  {
   "metadata": {
    "ExecuteTime": {
     "end_time": "2025-04-26T17:41:09.477080Z",
     "start_time": "2025-04-26T17:41:09.471745Z"
    }
   },
   "cell_type": "code",
   "source": [
    "report_generation_app = (\n",
    "    ApplicationBuilder()\n",
    "    .with_actions(\n",
    "        search_expansion_prompt_format,\n",
    "        search_expansion,\n",
    "        query_expansion,\n",
    "        embed_text,\n",
    "        retrieve_documents,\n",
    "        build_extraction_prompt,\n",
    "        generate_extraction,\n",
    "        merge_grounding,\n",
    "        format_report_prompt,\n",
    "        generate_report\n",
    "    )\n",
    "    .with_transitions(\n",
    "        (\"search_expansion_prompt_format\", \"search_expansion\"),\n",
    "        (\"search_expansion\", \"query_expansion\"),\n",
    "        (\"query_expansion\", \"embed_text\"),\n",
    "        (\"embed_text\", \"retrieve_documents\"),\n",
    "        (\"retrieve_documents\", \"build_extraction_prompt\"),\n",
    "        (\"build_extraction_prompt\",\"generate_extraction\"),\n",
    "        (\"generate_extraction\",\"merge_grounding\"),\n",
    "        (\"merge_grounding\", \"format_report_prompt\"),\n",
    "        (\"format_report_prompt\", \"generate_report\"))\n",
    "    .with_entrypoint(\"search_expansion_prompt_format\")\n",
    "    .with_tracker(\n",
    "        \"local\",\n",
    "        project=f\"research_batch-single_run\",\n",
    "    )\n",
    "    .build()\n",
    ")"
   ],
   "id": "6ebd0cca098143ec",
   "outputs": [],
   "execution_count": 11
  },
  {
   "metadata": {
    "ExecuteTime": {
     "end_time": "2025-04-26T17:41:11.900938Z",
     "start_time": "2025-04-26T17:41:09.482498Z"
    }
   },
   "cell_type": "code",
   "source": [
    "index = lancedb.connect('../wonky_data/indexes/')\n",
    "table = index.open_table('sections_hybrid')\n",
    "encoder = SentenceTransformer('nomic-ai/nomic-embed-text-v1.5', device='mps',trust_remote_code=True)\n",
    "\n",
    "pipeline_prompts = {\"relevant_documents_prompt\":extraction_prompt,\n",
    "                  \"query_expansion_prompt\":query_expansion_prompt,\n",
    "                  \"search_expansion_prompt\":search_expansion_prompt,\n",
    "                  \"report_prompt\":report_prompt}\n",
    "\n",
    "index_locations = {'index_path':'../wonky_data/indexes/',\n",
    "                   'index_table':'sections_hybrid'}\n",
    "\n",
    "topic = \"Rural Broadband in America\"\n",
    "focus = \"Historical, current, and future challenges for rural broadband and connectivity in America\"\n"
   ],
   "id": "53d0ac49f10e4fb5",
   "outputs": [
    {
     "name": "stderr",
     "output_type": "stream",
     "text": [
      "!!!!!!!!!!!!megablocks not available, using torch.matmul instead\n",
      "<All keys matched successfully>\n"
     ]
    }
   ],
   "execution_count": 12
  },
  {
   "metadata": {
    "ExecuteTime": {
     "end_time": "2025-04-26T17:41:43.995717Z",
     "start_time": "2025-04-26T17:41:11.908380Z"
    }
   },
   "cell_type": "code",
   "source": [
    "report_action, report_result, report_state = report_generation_app.run(\n",
    "    halt_after=[\"generate_report\"],\n",
    "    inputs={\n",
    "        \"topic\": topic,\n",
    "        \"focus\": focus,\n",
    "        \"number_of_results\": 10,\n",
    "        \"prompts\": pipeline_prompts,\n",
    "        \"index_locations\": index_locations\n",
    "    }\n",
    ")"
   ],
   "id": "531e987b80d45e50",
   "outputs": [],
   "execution_count": 13
  },
  {
   "metadata": {
    "ExecuteTime": {
     "end_time": "2025-04-26T17:41:44.022540Z",
     "start_time": "2025-04-26T17:41:44.019930Z"
    }
   },
   "cell_type": "code",
   "source": "report_data = report_state.get_all()",
   "id": "77db90847e933058",
   "outputs": [],
   "execution_count": 14
  },
  {
   "metadata": {
    "ExecuteTime": {
     "end_time": "2025-04-26T17:41:44.036331Z",
     "start_time": "2025-04-26T17:41:44.034820Z"
    }
   },
   "cell_type": "code",
   "source": [
    "report_data['topic'] = topic\n",
    "report_data['focus'] = focus"
   ],
   "id": "50c48fad8ba4941d",
   "outputs": [],
   "execution_count": 15
  },
  {
   "metadata": {
    "ExecuteTime": {
     "end_time": "2025-04-26T17:41:44.050444Z",
     "start_time": "2025-04-26T17:41:44.048109Z"
    }
   },
   "cell_type": "code",
   "source": "report_data.keys()",
   "id": "360de6af007eab1",
   "outputs": [
    {
     "data": {
      "text/plain": [
       "dict_keys(['__SEQUENCE_ID', 'search_expansion_prompt', '__PRIOR_STEP', 'search_expansion', 'query_expansion', 'documents', 'extraction_prompt', 'extraction', 'report_grounding', 'relevant_citations', 'formatted_report_grounding', 'report_prompt', 'report', 'topic', 'focus'])"
      ]
     },
     "execution_count": 16,
     "metadata": {},
     "output_type": "execute_result"
    }
   ],
   "execution_count": 16
  },
  {
   "metadata": {
    "ExecuteTime": {
     "end_time": "2025-04-26T17:41:44.067806Z",
     "start_time": "2025-04-26T17:41:44.065886Z"
    }
   },
   "cell_type": "code",
   "source": [
    "save_path = Path('wonky_data')\n",
    "trace_data = save_path.joinpath('data/research_data')\n",
    "document_data = save_path.joinpath('documents')\n",
    "\n",
    "from datetime import datetime\n",
    "short_name = re.findall(r'(\\w+)', topic)\n",
    "short_name = ' '.join([x.lower() for x in short_name[:5]])\n",
    "short_name = f\"{short_name}_{datetime.now().strftime('%Y%m%d%H%M%S')}\""
   ],
   "id": "94bdae9ae2723802",
   "outputs": [],
   "execution_count": 17
  },
  {
   "metadata": {
    "ExecuteTime": {
     "end_time": "2025-04-26T17:41:44.091984Z",
     "start_time": "2025-04-26T17:41:44.086383Z"
    }
   },
   "cell_type": "code",
   "source": [
    "with open(trace_data.joinpath(short_name + '.json'), 'w') as f:\n",
    "    json.dump(report_data, f)"
   ],
   "id": "a1e943a935af9820",
   "outputs": [],
   "execution_count": 18
  },
  {
   "metadata": {
    "ExecuteTime": {
     "end_time": "2025-04-26T17:41:44.103316Z",
     "start_time": "2025-04-26T17:41:44.101549Z"
    }
   },
   "cell_type": "code",
   "source": [
    "with open(document_data.joinpath(short_name + '.md'), 'w') as f:\n",
    "    f.write(report_data['report'])"
   ],
   "id": "5f42fd258ebe7627",
   "outputs": [],
   "execution_count": 19
  },
  {
   "metadata": {},
   "cell_type": "markdown",
   "source": "# Wikipedia Burr",
   "id": "644ecb9af96bdef0"
  },
  {
   "metadata": {
    "ExecuteTime": {
     "end_time": "2025-04-26T17:41:44.169455Z",
     "start_time": "2025-04-26T17:41:44.112330Z"
    }
   },
   "cell_type": "code",
   "source": [
    "from sentence_transformers import SentenceTransformer\n",
    "import lancedb\n",
    "from tqdm.notebook import tqdm\n",
    "import torch\n",
    "import re\n",
    "import pandas as pd\n",
    "import json\n",
    "from datetime import datetime\n",
    "from dotenv import load_dotenv\n",
    "\n",
    "from openai import OpenAI\n",
    "from google import genai\n",
    "from google.genai import types\n",
    "from sklearn.metrics.pairwise import cosine_similarity\n",
    "import os\n",
    "import time\n",
    "load_dotenv('env_var')\n",
    "\n",
    "import wikipediaapi\n",
    "import wikipedia\n",
    "from burr.core import action, State, ApplicationBuilder, ApplicationContext, Action\n",
    "from burr.core.parallelism import MapStates, RunnableGraph\n",
    "\n",
    "from working_folder.workflows.topic_trend_research.processes.report_prompts import trend_report_prompt, follow_up_prompt, follow_up_query_prompt, \\\n",
    "                                                                                executive_summary_prompt\n",
    "\n",
    "wiki_wiki = wikipediaapi.Wikipedia(user_agent='Wonky', language='en')"
   ],
   "id": "5102aa617788229e",
   "outputs": [],
   "execution_count": 20
  },
  {
   "metadata": {
    "ExecuteTime": {
     "end_time": "2025-04-26T17:41:44.181993Z",
     "start_time": "2025-04-26T17:41:44.179946Z"
    }
   },
   "cell_type": "code",
   "source": [
    "wikipedia_query_prompt = \"\"\"I have an article that I'm reading and I want to follow up on it with reading through some wikipedia articles. I'm not sure what to search on wikipedia, so please provide me 2 or 3 short queries that I can put into their search. Provide them as just a list of the queries that I can run.\n",
    "\n",
    "The queries should cover specific sections of the article AND have topical phrases that are about the entire document that must be in every query. The topical phrases can be inferred from the title of the document.\n",
    "\n",
    "Do not include any introductory phrases (e.g., 'Okay,' 'Sure,' 'Here's').\n",
    "Do not include any concluding remarks or follow-up questions.\n",
    "Respond only with the requested information.\n",
    "Avoid any conversational filler.\n",
    "Do not engage in dialogue. Only provide the answer.\n",
    "Focus solely on fulfilling the request.\n",
    "\n",
    "Do not introduce your response or provide any follow up questions or conclusion. The list should be a numbered list:\n",
    "\n",
    "Here is the article I'm reading:\n",
    "\n",
    "{report}\"\"\""
   ],
   "id": "62182b6c1f206163",
   "outputs": [],
   "execution_count": 21
  },
  {
   "metadata": {
    "ExecuteTime": {
     "end_time": "2025-04-26T17:41:44.195339Z",
     "start_time": "2025-04-26T17:41:44.191615Z"
    }
   },
   "cell_type": "code",
   "source": [
    "from copy import deepcopy\n",
    "class ParseWikipediaSections():\n",
    "    def __init__(self):\n",
    "        self.parsed_sections = list()\n",
    "        self.current_hierarchy = {'level_0':'', 'level_1':'', 'level_2':'', 'level_3':'', 'level_4':''}\n",
    "\n",
    "    def _recursive_extract(self, sections, level=0):\n",
    "        for s in sections:\n",
    "            # print(\"%s: %s - %s\" % (\"*\" * (level + 1), s.title, s.text[0:40]))\n",
    "            hierarchy_string = list()\n",
    "            for i in range(0,5):\n",
    "                if i == level:\n",
    "                    self.current_hierarchy[f\"level_{i}\"] = s.title\n",
    "                elif i > level:\n",
    "                    self.current_hierarchy[f\"level_{i}\"] = ''\n",
    "\n",
    "            for i in range(0,5):\n",
    "                _hierarchy_header = self.current_hierarchy[f\"level_{i}\"]\n",
    "                if _hierarchy_header != \"\":\n",
    "                    hierarchy_string.append(_hierarchy_header)\n",
    "            hierarchy_string = '|'.join(hierarchy_string)\n",
    "\n",
    "            self.parsed_sections.append({\"level\": level,\n",
    "                                         \"title\": s.title,\n",
    "                                         \"text\": s.text,\n",
    "                                         \"hierarchy\": deepcopy(self.current_hierarchy),\n",
    "                                         \"hierarchy_string\": hierarchy_string})\n",
    "\n",
    "            self._recursive_extract(s.sections, level + 1)\n",
    "\n",
    "    def parse_wikipedia_sections(self, sections):\n",
    "        self._recursive_extract(sections, level=0)\n",
    "        return self.parsed_sections\n",
    "\n",
    "def get_wikipedia_data(page_name):\n",
    "    wiki_wiki = wikipediaapi.Wikipedia(user_agent='Wonky', language='en')\n",
    "    wikipedia_page = wiki_wiki.page(page_name)\n",
    "    wikipedia_parser = ParseWikipediaSections()\n",
    "    parsed_sections = wikipedia_parser.parse_wikipedia_sections(wikipedia_page.sections)\n",
    "    wikipedia_data = {'title': wikipedia_page.title,\n",
    "                      'url': wikipedia_page.fullurl,\n",
    "                      'sections': parsed_sections}\n",
    "    return wikipedia_data\n",
    "\n",
    "def search_wikipedia_page(query, num_results=10):\n",
    "    wiki_wiki = wikipediaapi.Wikipedia(user_agent='Wonky', language='en')\n",
    "    search_results = wikipedia.search(query, results=num_results, suggestion=False)\n",
    "    print(search_results)\n",
    "    wikipedia_page_results = list()\n",
    "    for search_result in search_results:\n",
    "        wikipedia_page = wiki_wiki.page(search_result)\n",
    "        wikipedia_parser = ParseWikipediaSections()\n",
    "        parsed_sections = wikipedia_parser.parse_wikipedia_sections(wikipedia_page.sections)\n",
    "        try:\n",
    "            wikipedia_data = {'title': wikipedia_page.title,\n",
    "                              'url': wikipedia_page.fullurl,\n",
    "                              'sections': parsed_sections,\n",
    "                              'full_text': wikipedia_page.text}\n",
    "        except Exception as e:\n",
    "            continue\n",
    "        wikipedia_page_results.append(wikipedia_data)\n",
    "        time.sleep(1)\n",
    "    return wikipedia_page_results"
   ],
   "id": "b8484b4f884b951e",
   "outputs": [],
   "execution_count": 22
  },
  {
   "metadata": {
    "ExecuteTime": {
     "end_time": "2025-04-26T17:41:44.208648Z",
     "start_time": "2025-04-26T17:41:44.206423Z"
    }
   },
   "cell_type": "code",
   "source": [
    "@action(reads=[], writes=[\"formatted_search_expansion_prompt\"])\n",
    "def format_search_expansion_prompt(state: State, prompts: dict, report: str) -> State:\n",
    "    formatted_prompt = prompts['search_expansion_prompt'].format(report=report)\n",
    "    return state.update(formatted_search_expansion_prompt=formatted_prompt)\n",
    "\n",
    "@action(reads=[\"formatted_search_expansion_prompt\"], writes=[\"search_expansions\"])\n",
    "def generate_searches(state: State) -> State:\n",
    "    # search_expansions = call_llm(state['formatted_search_expansion_prompt'])\n",
    "    search_expansions = call_llm_flash(state['formatted_search_expansion_prompt'])\n",
    "    search_expansions = re.findall(r'\\d+\\.(.+)', search_expansions)\n",
    "    search_expansions = [x.strip() for x in search_expansions]\n",
    "    return state.update(search_expansions=search_expansions)"
   ],
   "id": "db1f297e5cc26bab",
   "outputs": [],
   "execution_count": 23
  },
  {
   "metadata": {
    "ExecuteTime": {
     "end_time": "2025-04-26T17:41:44.219832Z",
     "start_time": "2025-04-26T17:41:44.218011Z"
    }
   },
   "cell_type": "code",
   "source": [
    "@action(reads=[\"search_expansions\"], writes=[\"wiki_research\"])\n",
    "def search_wikipedia(state: State, topic: str, focus: str, report: str, report_name: str, num_results: int) -> State:\n",
    "    wiki_research = list()\n",
    "    for search in state['search_expansions']:\n",
    "        wiki_articles = search_wikipedia_page(search, num_results=num_results)\n",
    "        wiki_research.append({'topic': topic,\n",
    "                              'focus': focus,\n",
    "                              'report': report,\n",
    "                              'context': wiki_articles,\n",
    "                              'source_report': report_name,\n",
    "                              'search': search\n",
    "                              })\n",
    "    return state.update(wiki_research=wiki_research)"
   ],
   "id": "f96e520f79ca1e07",
   "outputs": [],
   "execution_count": 24
  },
  {
   "metadata": {
    "ExecuteTime": {
     "end_time": "2025-04-26T17:41:44.231876Z",
     "start_time": "2025-04-26T17:41:44.229378Z"
    }
   },
   "cell_type": "code",
   "source": [
    "@action(reads=[\"wiki_research\"], writes=[\"vectorized_wiki_research\"])\n",
    "def vectorize_wikipedia_data(state: State, topic: str, focus: str) -> State:\n",
    "    vectorized_sections = list()\n",
    "    for search_results in tqdm(state['wiki_research']):\n",
    "        context_topic = topic\n",
    "        context_focus = focus\n",
    "        context_query = search_results['search']\n",
    "        for wiki_page in tqdm(search_results['context']):\n",
    "            wiki_page_title = wiki_page['title']\n",
    "            for section_idx, section in tqdm(enumerate(wiki_page['sections'])):\n",
    "                section_copy = deepcopy(section)\n",
    "                section_copy['vector'] = encoder.encode(f\"{wiki_page_title}\\n{section_copy['title']}\\n{' '.join(section_copy['hierarchy_string'].split('|'))}\\n{section_copy['text']}\").tolist()\n",
    "\n",
    "                section_copy['topic'] = context_topic\n",
    "                section_copy['focus'] = context_focus\n",
    "                section_copy['query'] = context_query\n",
    "                section_copy['page_title'] = wiki_page_title\n",
    "                section_copy['section_idx'] = section_idx\n",
    "\n",
    "                vectorized_sections.append(section_copy)\n",
    "                torch.mps.empty_cache()\n",
    "    return state.update(vectorized_wiki_research=vectorized_sections)"
   ],
   "id": "c1aab7fe1a9a864d",
   "outputs": [],
   "execution_count": 25
  },
  {
   "metadata": {
    "ExecuteTime": {
     "end_time": "2025-04-26T17:41:44.244672Z",
     "start_time": "2025-04-26T17:41:44.242743Z"
    }
   },
   "cell_type": "code",
   "source": [
    "@action(reads=[\"vectorized_wiki_research\"], writes=[])\n",
    "def index_wikipedia_articles(state: State, index_location: str, index_table: str) -> State:\n",
    "    research_df = pd.DataFrame(state['vectorized_wiki_research'])\n",
    "    index = lancedb.connect(index_location)\n",
    "    research_table = index.create_table('wiki_research', data=research_df, mode='overwrite')\n",
    "    research_table.create_fts_index(['text','query','page_title'], replace=True)\n",
    "    return state"
   ],
   "id": "20d738a61ba9ae9f",
   "outputs": [],
   "execution_count": 26
  },
  {
   "metadata": {
    "ExecuteTime": {
     "end_time": "2025-04-26T17:41:44.258132Z",
     "start_time": "2025-04-26T17:41:44.254429Z"
    }
   },
   "cell_type": "code",
   "source": [
    "wiki_search_app = (\n",
    "    ApplicationBuilder()\n",
    "    .with_actions(\n",
    "        format_search_expansion_prompt,\n",
    "        generate_searches,\n",
    "        search_wikipedia,\n",
    "        vectorize_wikipedia_data,\n",
    "        index_wikipedia_articles\n",
    "    )\n",
    "    .with_transitions(\n",
    "        (\"format_search_expansion_prompt\", \"generate_searches\"),\n",
    "        (\"generate_searches\", \"search_wikipedia\"),\n",
    "        (\"search_wikipedia\", \"vectorize_wikipedia_data\"),\n",
    "        (\"vectorize_wikipedia_data\", \"index_wikipedia_articles\")\n",
    "    )\n",
    "    .with_entrypoint(\"format_search_expansion_prompt\")\n",
    "    .with_tracker(\n",
    "        \"local\",\n",
    "        project=f\"research_batch-single_run\",\n",
    "    )\n",
    "    .build()\n",
    ")"
   ],
   "id": "24ae0f2fc32b93e0",
   "outputs": [],
   "execution_count": 27
  },
  {
   "metadata": {
    "ExecuteTime": {
     "end_time": "2025-04-26T17:41:44.600550Z",
     "start_time": "2025-04-26T17:41:44.268238Z"
    }
   },
   "cell_type": "code",
   "source": "wiki_search_app.visualize(\"./graph\", format=\"png\")",
   "id": "636695ec36b42f59",
   "outputs": [
    {
     "name": "stderr",
     "output_type": "stream",
     "text": [
      "huggingface/tokenizers: The current process just got forked, after parallelism has already been used. Disabling parallelism to avoid deadlocks...\n",
      "To disable this warning, you can either:\n",
      "\t- Avoid using `tokenizers` before the fork if possible\n",
      "\t- Explicitly set the environment variable TOKENIZERS_PARALLELISM=(true | false)\n",
      "huggingface/tokenizers: The current process just got forked, after parallelism has already been used. Disabling parallelism to avoid deadlocks...\n",
      "To disable this warning, you can either:\n",
      "\t- Avoid using `tokenizers` before the fork if possible\n",
      "\t- Explicitly set the environment variable TOKENIZERS_PARALLELISM=(true | false)\n"
     ]
    },
    {
     "data": {
      "image/svg+xml": "<?xml version=\"1.0\" encoding=\"UTF-8\" standalone=\"no\"?>\n<!DOCTYPE svg PUBLIC \"-//W3C//DTD SVG 1.1//EN\"\n \"http://www.w3.org/Graphics/SVG/1.1/DTD/svg11.dtd\">\n<!-- Generated by graphviz version 12.2.1 (0)\n -->\n<!-- Pages: 1 -->\n<svg width=\"774pt\" height=\"373pt\"\n viewBox=\"0.00 0.00 773.72 372.60\" xmlns=\"http://www.w3.org/2000/svg\" xmlns:xlink=\"http://www.w3.org/1999/xlink\">\n<g id=\"graph0\" class=\"graph\" transform=\"scale(1 1) rotate(0) translate(4 368.6)\">\n<polygon fill=\"white\" stroke=\"none\" points=\"-4,4 -4,-368.6 769.72,-368.6 769.72,4 -4,4\"/>\n<!-- format_search_expansion_prompt -->\n<g id=\"node1\" class=\"node\">\n<title>format_search_expansion_prompt</title>\n<path fill=\"#b4d8e4\" stroke=\"black\" d=\"M307.23,-299C307.23,-299 103.38,-299 103.38,-299 97.38,-299 91.38,-293 91.38,-287 91.38,-287 91.38,-274.4 91.38,-274.4 91.38,-268.4 97.38,-262.4 103.38,-262.4 103.38,-262.4 307.23,-262.4 307.23,-262.4 313.23,-262.4 319.23,-268.4 319.23,-274.4 319.23,-274.4 319.23,-287 319.23,-287 319.23,-293 313.23,-299 307.23,-299\"/>\n<text text-anchor=\"middle\" x=\"205.3\" y=\"-274.9\" font-family=\"Helvetica,sans-Serif\" font-size=\"14.00\">format_search_expansion_prompt</text>\n</g>\n<!-- generate_searches -->\n<g id=\"node4\" class=\"node\">\n<title>generate_searches</title>\n<path fill=\"#b4d8e4\" stroke=\"black\" d=\"M306.85,-233.4C306.85,-233.4 193.75,-233.4 193.75,-233.4 187.75,-233.4 181.75,-227.4 181.75,-221.4 181.75,-221.4 181.75,-208.8 181.75,-208.8 181.75,-202.8 187.75,-196.8 193.75,-196.8 193.75,-196.8 306.85,-196.8 306.85,-196.8 312.85,-196.8 318.85,-202.8 318.85,-208.8 318.85,-208.8 318.85,-221.4 318.85,-221.4 318.85,-227.4 312.85,-233.4 306.85,-233.4\"/>\n<text text-anchor=\"middle\" x=\"250.3\" y=\"-209.3\" font-family=\"Helvetica,sans-Serif\" font-size=\"14.00\">generate_searches</text>\n</g>\n<!-- format_search_expansion_prompt&#45;&gt;generate_searches -->\n<g id=\"edge12\" class=\"edge\">\n<title>format_search_expansion_prompt&#45;&gt;generate_searches</title>\n<path fill=\"none\" stroke=\"black\" d=\"M217.84,-261.98C222.03,-256.06 226.8,-249.31 231.37,-242.85\"/>\n<polygon fill=\"black\" stroke=\"black\" points=\"234.04,-245.14 236.96,-234.96 228.32,-241.1 234.04,-245.14\"/>\n</g>\n<!-- input__report -->\n<g id=\"node2\" class=\"node\">\n<title>input__report</title>\n<polygon fill=\"none\" stroke=\"black\" stroke-dasharray=\"5,2\" points=\"382.1,-364.6 288.5,-364.6 288.5,-328 382.1,-328 382.1,-364.6\"/>\n<text text-anchor=\"middle\" x=\"335.3\" y=\"-340.5\" font-family=\"Helvetica,sans-Serif\" font-size=\"14.00\">input: report</text>\n</g>\n<!-- input__report&#45;&gt;format_search_expansion_prompt -->\n<g id=\"edge1\" class=\"edge\">\n<title>input__report&#45;&gt;format_search_expansion_prompt</title>\n<path fill=\"none\" stroke=\"black\" d=\"M299.09,-327.58C284.3,-320.35 267.01,-311.89 251.34,-304.22\"/>\n<polygon fill=\"black\" stroke=\"black\" points=\"253.2,-301.24 242.68,-299.99 250.12,-307.52 253.2,-301.24\"/>\n</g>\n<!-- search_wikipedia -->\n<g id=\"node5\" class=\"node\">\n<title>search_wikipedia</title>\n<path fill=\"#b4d8e4\" stroke=\"black\" d=\"M444.85,-167.8C444.85,-167.8 343.75,-167.8 343.75,-167.8 337.75,-167.8 331.75,-161.8 331.75,-155.8 331.75,-155.8 331.75,-143.2 331.75,-143.2 331.75,-137.2 337.75,-131.2 343.75,-131.2 343.75,-131.2 444.85,-131.2 444.85,-131.2 450.85,-131.2 456.85,-137.2 456.85,-143.2 456.85,-143.2 456.85,-155.8 456.85,-155.8 456.85,-161.8 450.85,-167.8 444.85,-167.8\"/>\n<text text-anchor=\"middle\" x=\"394.3\" y=\"-143.7\" font-family=\"Helvetica,sans-Serif\" font-size=\"14.00\">search_wikipedia</text>\n</g>\n<!-- input__report&#45;&gt;search_wikipedia -->\n<g id=\"edge6\" class=\"edge\">\n<title>input__report&#45;&gt;search_wikipedia</title>\n<path fill=\"none\" stroke=\"black\" d=\"M337.01,-327.83C340.22,-299.5 348.46,-242.14 366.3,-196.8 368.81,-190.42 372.17,-183.91 375.69,-177.86\"/>\n<polygon fill=\"black\" stroke=\"black\" points=\"378.56,-179.87 380.84,-169.52 372.6,-176.19 378.56,-179.87\"/>\n</g>\n<!-- input__prompts -->\n<g id=\"node3\" class=\"node\">\n<title>input__prompts</title>\n<polygon fill=\"none\" stroke=\"black\" stroke-dasharray=\"5,2\" points=\"259.23,-364.6 151.38,-364.6 151.38,-328 259.23,-328 259.23,-364.6\"/>\n<text text-anchor=\"middle\" x=\"205.3\" y=\"-340.5\" font-family=\"Helvetica,sans-Serif\" font-size=\"14.00\">input: prompts</text>\n</g>\n<!-- input__prompts&#45;&gt;format_search_expansion_prompt -->\n<g id=\"edge2\" class=\"edge\">\n<title>input__prompts&#45;&gt;format_search_expansion_prompt</title>\n<path fill=\"none\" stroke=\"black\" d=\"M205.3,-327.58C205.3,-322.35 205.3,-316.47 205.3,-310.72\"/>\n<polygon fill=\"black\" stroke=\"black\" points=\"208.8,-310.83 205.3,-300.83 201.8,-310.83 208.8,-310.83\"/>\n</g>\n<!-- generate_searches&#45;&gt;search_wikipedia -->\n<g id=\"edge13\" class=\"edge\">\n<title>generate_searches&#45;&gt;search_wikipedia</title>\n<path fill=\"none\" stroke=\"black\" d=\"M290.41,-196.38C307.04,-189.04 326.51,-180.44 344.07,-172.69\"/>\n<polygon fill=\"black\" stroke=\"black\" points=\"345.04,-176.08 352.77,-168.84 342.21,-169.68 345.04,-176.08\"/>\n</g>\n<!-- vectorize_wikipedia_data -->\n<g id=\"node10\" class=\"node\">\n<title>vectorize_wikipedia_data</title>\n<path fill=\"#b4d8e4\" stroke=\"black\" d=\"M468.48,-102.2C468.48,-102.2 320.12,-102.2 320.12,-102.2 314.12,-102.2 308.12,-96.2 308.12,-90.2 308.12,-90.2 308.12,-77.6 308.12,-77.6 308.12,-71.6 314.12,-65.6 320.12,-65.6 320.12,-65.6 468.48,-65.6 468.48,-65.6 474.48,-65.6 480.48,-71.6 480.48,-77.6 480.48,-77.6 480.48,-90.2 480.48,-90.2 480.48,-96.2 474.48,-102.2 468.48,-102.2\"/>\n<text text-anchor=\"middle\" x=\"394.3\" y=\"-78.1\" font-family=\"Helvetica,sans-Serif\" font-size=\"14.00\">vectorize_wikipedia_data</text>\n</g>\n<!-- search_wikipedia&#45;&gt;vectorize_wikipedia_data -->\n<g id=\"edge14\" class=\"edge\">\n<title>search_wikipedia&#45;&gt;vectorize_wikipedia_data</title>\n<path fill=\"none\" stroke=\"black\" d=\"M394.3,-130.78C394.3,-125.55 394.3,-119.67 394.3,-113.92\"/>\n<polygon fill=\"black\" stroke=\"black\" points=\"397.8,-114.03 394.3,-104.03 390.8,-114.03 397.8,-114.03\"/>\n</g>\n<!-- input__num_results -->\n<g id=\"node6\" class=\"node\">\n<title>input__num_results</title>\n<polygon fill=\"none\" stroke=\"black\" stroke-dasharray=\"5,2\" points=\"507.6,-233.4 375,-233.4 375,-196.8 507.6,-196.8 507.6,-233.4\"/>\n<text text-anchor=\"middle\" x=\"441.3\" y=\"-209.3\" font-family=\"Helvetica,sans-Serif\" font-size=\"14.00\">input: num_results</text>\n</g>\n<!-- input__num_results&#45;&gt;search_wikipedia -->\n<g id=\"edge3\" class=\"edge\">\n<title>input__num_results&#45;&gt;search_wikipedia</title>\n<path fill=\"none\" stroke=\"black\" d=\"M428.21,-196.38C423.83,-190.46 418.84,-183.71 414.07,-177.25\"/>\n<polygon fill=\"black\" stroke=\"black\" points=\"416.98,-175.3 408.22,-169.34 411.35,-179.46 416.98,-175.3\"/>\n</g>\n<!-- input__focus -->\n<g id=\"node7\" class=\"node\">\n<title>input__focus</title>\n<polygon fill=\"none\" stroke=\"black\" stroke-dasharray=\"5,2\" points=\"163.6,-233.4 73,-233.4 73,-196.8 163.6,-196.8 163.6,-233.4\"/>\n<text text-anchor=\"middle\" x=\"118.3\" y=\"-209.3\" font-family=\"Helvetica,sans-Serif\" font-size=\"14.00\">input: focus</text>\n</g>\n<!-- input__focus&#45;&gt;search_wikipedia -->\n<g id=\"edge4\" class=\"edge\">\n<title>input__focus&#45;&gt;search_wikipedia</title>\n<path fill=\"none\" stroke=\"black\" d=\"M163.87,-199.13C166.71,-198.31 169.54,-197.53 172.3,-196.8 221.33,-183.87 277.21,-172.23 320.65,-163.86\"/>\n<polygon fill=\"black\" stroke=\"black\" points=\"321.04,-167.35 330.21,-162.03 319.73,-160.47 321.04,-167.35\"/>\n</g>\n<!-- input__focus&#45;&gt;vectorize_wikipedia_data -->\n<g id=\"edge9\" class=\"edge\">\n<title>input__focus&#45;&gt;vectorize_wikipedia_data</title>\n<path fill=\"none\" stroke=\"black\" d=\"M156.1,-196.41C205.51,-173.28 292.11,-132.74 346.16,-107.43\"/>\n<polygon fill=\"black\" stroke=\"black\" points=\"347.57,-110.64 355.15,-103.23 344.61,-104.3 347.57,-110.64\"/>\n</g>\n<!-- input__report_name -->\n<g id=\"node8\" class=\"node\">\n<title>input__report_name</title>\n<polygon fill=\"none\" stroke=\"black\" stroke-dasharray=\"5,2\" points=\"661.1,-233.4 525.5,-233.4 525.5,-196.8 661.1,-196.8 661.1,-233.4\"/>\n<text text-anchor=\"middle\" x=\"593.3\" y=\"-209.3\" font-family=\"Helvetica,sans-Serif\" font-size=\"14.00\">input: report_name</text>\n</g>\n<!-- input__report_name&#45;&gt;search_wikipedia -->\n<g id=\"edge5\" class=\"edge\">\n<title>input__report_name&#45;&gt;search_wikipedia</title>\n<path fill=\"none\" stroke=\"black\" d=\"M537.87,-196.38C513.92,-188.73 485.72,-179.72 460.67,-171.71\"/>\n<polygon fill=\"black\" stroke=\"black\" points=\"461.81,-168.4 451.22,-168.69 459.68,-175.07 461.81,-168.4\"/>\n</g>\n<!-- input__topic -->\n<g id=\"node9\" class=\"node\">\n<title>input__topic</title>\n<polygon fill=\"none\" stroke=\"black\" stroke-dasharray=\"5,2\" points=\"765.72,-233.4 678.88,-233.4 678.88,-196.8 765.72,-196.8 765.72,-233.4\"/>\n<text text-anchor=\"middle\" x=\"722.3\" y=\"-209.3\" font-family=\"Helvetica,sans-Serif\" font-size=\"14.00\">input: topic</text>\n</g>\n<!-- input__topic&#45;&gt;search_wikipedia -->\n<g id=\"edge7\" class=\"edge\">\n<title>input__topic&#45;&gt;search_wikipedia</title>\n<path fill=\"none\" stroke=\"black\" d=\"M678.47,-198.99C675.72,-198.2 672.98,-197.47 670.3,-196.8 602.81,-180.02 524.5,-167.53 468.58,-159.78\"/>\n<polygon fill=\"black\" stroke=\"black\" points=\"469.23,-156.33 458.85,-158.45 468.28,-163.27 469.23,-156.33\"/>\n</g>\n<!-- input__topic&#45;&gt;vectorize_wikipedia_data -->\n<g id=\"edge8\" class=\"edge\">\n<title>input__topic&#45;&gt;vectorize_wikipedia_data</title>\n<path fill=\"none\" stroke=\"black\" d=\"M678.4,-196.81C619.29,-173.52 514.08,-132.08 449.62,-106.69\"/>\n<polygon fill=\"black\" stroke=\"black\" points=\"451.24,-103.57 440.66,-103.16 448.68,-110.08 451.24,-103.57\"/>\n</g>\n<!-- index_wikipedia_articles -->\n<g id=\"node11\" class=\"node\">\n<title>index_wikipedia_articles</title>\n<path fill=\"#b4d8e4\" stroke=\"black\" d=\"M297.85,-36.6C297.85,-36.6 154.75,-36.6 154.75,-36.6 148.75,-36.6 142.75,-30.6 142.75,-24.6 142.75,-24.6 142.75,-12 142.75,-12 142.75,-6 148.75,0 154.75,0 154.75,0 297.85,0 297.85,0 303.85,0 309.85,-6 309.85,-12 309.85,-12 309.85,-24.6 309.85,-24.6 309.85,-30.6 303.85,-36.6 297.85,-36.6\"/>\n<text text-anchor=\"middle\" x=\"226.3\" y=\"-12.5\" font-family=\"Helvetica,sans-Serif\" font-size=\"14.00\">index_wikipedia_articles</text>\n</g>\n<!-- vectorize_wikipedia_data&#45;&gt;index_wikipedia_articles -->\n<g id=\"edge15\" class=\"edge\">\n<title>vectorize_wikipedia_data&#45;&gt;index_wikipedia_articles</title>\n<path fill=\"none\" stroke=\"black\" d=\"M347.5,-65.18C327.74,-57.7 304.54,-48.92 283.76,-41.05\"/>\n<polygon fill=\"black\" stroke=\"black\" points=\"285.14,-37.83 274.55,-37.57 282.67,-44.38 285.14,-37.83\"/>\n</g>\n<!-- input__index_location -->\n<g id=\"node12\" class=\"node\">\n<title>input__index_location</title>\n<polygon fill=\"none\" stroke=\"black\" stroke-dasharray=\"5,2\" points=\"144.6,-102.2 0,-102.2 0,-65.6 144.6,-65.6 144.6,-102.2\"/>\n<text text-anchor=\"middle\" x=\"72.3\" y=\"-78.1\" font-family=\"Helvetica,sans-Serif\" font-size=\"14.00\">input: index_location</text>\n</g>\n<!-- input__index_location&#45;&gt;index_wikipedia_articles -->\n<g id=\"edge10\" class=\"edge\">\n<title>input__index_location&#45;&gt;index_wikipedia_articles</title>\n<path fill=\"none\" stroke=\"black\" d=\"M115.2,-65.18C133.06,-57.81 153.99,-49.16 172.84,-41.38\"/>\n<polygon fill=\"black\" stroke=\"black\" points=\"174.06,-44.66 181.97,-37.61 171.39,-38.19 174.06,-44.66\"/>\n</g>\n<!-- input__index_table -->\n<g id=\"node13\" class=\"node\">\n<title>input__index_table</title>\n<polygon fill=\"none\" stroke=\"black\" stroke-dasharray=\"5,2\" points=\"289.98,-102.2 162.62,-102.2 162.62,-65.6 289.98,-65.6 289.98,-102.2\"/>\n<text text-anchor=\"middle\" x=\"226.3\" y=\"-78.1\" font-family=\"Helvetica,sans-Serif\" font-size=\"14.00\">input: index_table</text>\n</g>\n<!-- input__index_table&#45;&gt;index_wikipedia_articles -->\n<g id=\"edge11\" class=\"edge\">\n<title>input__index_table&#45;&gt;index_wikipedia_articles</title>\n<path fill=\"none\" stroke=\"black\" d=\"M226.3,-65.18C226.3,-59.95 226.3,-54.07 226.3,-48.32\"/>\n<polygon fill=\"black\" stroke=\"black\" points=\"229.8,-48.43 226.3,-38.43 222.8,-48.43 229.8,-48.43\"/>\n</g>\n</g>\n</svg>\n",
      "text/plain": [
       "<graphviz.graphs.Digraph at 0x33ef1b0d0>"
      ]
     },
     "execution_count": 28,
     "metadata": {},
     "output_type": "execute_result"
    }
   ],
   "execution_count": 28
  },
  {
   "metadata": {
    "ExecuteTime": {
     "end_time": "2025-04-26T17:41:44.616207Z",
     "start_time": "2025-04-26T17:41:44.612920Z"
    }
   },
   "cell_type": "code",
   "source": [
    "with open(trace_data.joinpath(short_name + '.json'), 'r') as f:\n",
    "    report_data = json.load(f)"
   ],
   "id": "d17c2a4e97a3f03a",
   "outputs": [],
   "execution_count": 29
  },
  {
   "metadata": {
    "ExecuteTime": {
     "end_time": "2025-04-26T17:42:53.311929Z",
     "start_time": "2025-04-26T17:41:44.627885Z"
    }
   },
   "cell_type": "code",
   "source": [
    "wiki_action, wiki_result, wiki_state = wiki_search_app.run(\n",
    "    halt_after=[\"index_wikipedia_articles\"],\n",
    "    inputs={\n",
    "        \"topic\": report_data['topic'],\n",
    "        \"focus\": report_data['focus'],\n",
    "        \"num_results\": 10,\n",
    "        \"report\": report_data['report'],\n",
    "        \"report_name\": short_name,\n",
    "        \"prompts\": {\"search_expansion_prompt\":wikipedia_query_prompt},\n",
    "        \"index_location\": index_locations['index_path'],\n",
    "        \"index_table\": 'tmp_index'\n",
    "\n",
    "    }\n",
    ")"
   ],
   "id": "d96580c53ff6c070",
   "outputs": [
    {
     "name": "stdout",
     "output_type": "stream",
     "text": [
      "['Digital divide', 'Rural internet', 'Global digital divide', 'Internet access', 'Digital divide in the United States', 'Internet in Canada', 'Broadband universal service', 'NTCA - The Rural Broadband Association', 'Digital divide in Malaysia', 'Internet in Africa']\n",
      "['Universal Service Fund', 'Internet in the United States', 'Broadband universal service', 'Universal service', 'Universal Service Provision Fund', 'National broadband plan', 'Lifeline (FCC program)', 'NTCA - The Rural Broadband Association', 'Bharat Broadband Network', 'National Broadband Initiative (Malaysia)']\n",
      "['Internet in the United States', 'Broadband mapping in the United States', 'National broadband plan', 'Rural internet', 'Beth Ford', 'National Digital Inclusion Alliance', 'National Broadband Plan (United States)', 'Internet access', 'Internet in China', 'Digital divide']\n"
     ]
    },
    {
     "data": {
      "text/plain": [
       "  0%|          | 0/3 [00:00<?, ?it/s]"
      ],
      "application/vnd.jupyter.widget-view+json": {
       "version_major": 2,
       "version_minor": 0,
       "model_id": "1416ada46d4547cc89fdc828b0a3c240"
      }
     },
     "metadata": {},
     "output_type": "display_data"
    },
    {
     "data": {
      "text/plain": [
       "  0%|          | 0/10 [00:00<?, ?it/s]"
      ],
      "application/vnd.jupyter.widget-view+json": {
       "version_major": 2,
       "version_minor": 0,
       "model_id": "86018a4cf91643e29c81da1f3b292da4"
      }
     },
     "metadata": {},
     "output_type": "display_data"
    },
    {
     "data": {
      "text/plain": [
       "0it [00:00, ?it/s]"
      ],
      "application/vnd.jupyter.widget-view+json": {
       "version_major": 2,
       "version_minor": 0,
       "model_id": "0d7147b4047b45f3b227d6d8bad2e52e"
      }
     },
     "metadata": {},
     "output_type": "display_data"
    },
    {
     "data": {
      "text/plain": [
       "0it [00:00, ?it/s]"
      ],
      "application/vnd.jupyter.widget-view+json": {
       "version_major": 2,
       "version_minor": 0,
       "model_id": "afe702aeea5e401ab40bd0323dea6966"
      }
     },
     "metadata": {},
     "output_type": "display_data"
    },
    {
     "data": {
      "text/plain": [
       "0it [00:00, ?it/s]"
      ],
      "application/vnd.jupyter.widget-view+json": {
       "version_major": 2,
       "version_minor": 0,
       "model_id": "60d4b80a7f33441e9ff6909101c0259e"
      }
     },
     "metadata": {},
     "output_type": "display_data"
    },
    {
     "data": {
      "text/plain": [
       "0it [00:00, ?it/s]"
      ],
      "application/vnd.jupyter.widget-view+json": {
       "version_major": 2,
       "version_minor": 0,
       "model_id": "a0edb701b1644a5f92d7499c42f424f9"
      }
     },
     "metadata": {},
     "output_type": "display_data"
    },
    {
     "data": {
      "text/plain": [
       "0it [00:00, ?it/s]"
      ],
      "application/vnd.jupyter.widget-view+json": {
       "version_major": 2,
       "version_minor": 0,
       "model_id": "7d5a260bf25745558bb34268976e64ce"
      }
     },
     "metadata": {},
     "output_type": "display_data"
    },
    {
     "data": {
      "text/plain": [
       "0it [00:00, ?it/s]"
      ],
      "application/vnd.jupyter.widget-view+json": {
       "version_major": 2,
       "version_minor": 0,
       "model_id": "02e2767eab4f4e589c34002ccf51a501"
      }
     },
     "metadata": {},
     "output_type": "display_data"
    },
    {
     "data": {
      "text/plain": [
       "0it [00:00, ?it/s]"
      ],
      "application/vnd.jupyter.widget-view+json": {
       "version_major": 2,
       "version_minor": 0,
       "model_id": "1fc2407847714edc87835236809de2d5"
      }
     },
     "metadata": {},
     "output_type": "display_data"
    },
    {
     "data": {
      "text/plain": [
       "0it [00:00, ?it/s]"
      ],
      "application/vnd.jupyter.widget-view+json": {
       "version_major": 2,
       "version_minor": 0,
       "model_id": "02337d65f2b644798c2ad02278554ff8"
      }
     },
     "metadata": {},
     "output_type": "display_data"
    },
    {
     "data": {
      "text/plain": [
       "0it [00:00, ?it/s]"
      ],
      "application/vnd.jupyter.widget-view+json": {
       "version_major": 2,
       "version_minor": 0,
       "model_id": "6b26e551485543b8a6939da9d78d8318"
      }
     },
     "metadata": {},
     "output_type": "display_data"
    },
    {
     "data": {
      "text/plain": [
       "0it [00:00, ?it/s]"
      ],
      "application/vnd.jupyter.widget-view+json": {
       "version_major": 2,
       "version_minor": 0,
       "model_id": "f3daa8b2aee74c5891c11336c46a6e2f"
      }
     },
     "metadata": {},
     "output_type": "display_data"
    },
    {
     "data": {
      "text/plain": [
       "  0%|          | 0/10 [00:00<?, ?it/s]"
      ],
      "application/vnd.jupyter.widget-view+json": {
       "version_major": 2,
       "version_minor": 0,
       "model_id": "a8b6c5dfe26745cf95ba355180b4ecf1"
      }
     },
     "metadata": {},
     "output_type": "display_data"
    },
    {
     "data": {
      "text/plain": [
       "0it [00:00, ?it/s]"
      ],
      "application/vnd.jupyter.widget-view+json": {
       "version_major": 2,
       "version_minor": 0,
       "model_id": "9d2d93ea963e452db0f19f7fe4efec18"
      }
     },
     "metadata": {},
     "output_type": "display_data"
    },
    {
     "data": {
      "text/plain": [
       "0it [00:00, ?it/s]"
      ],
      "application/vnd.jupyter.widget-view+json": {
       "version_major": 2,
       "version_minor": 0,
       "model_id": "37e8f0297d51422aa12320078940605e"
      }
     },
     "metadata": {},
     "output_type": "display_data"
    },
    {
     "data": {
      "text/plain": [
       "0it [00:00, ?it/s]"
      ],
      "application/vnd.jupyter.widget-view+json": {
       "version_major": 2,
       "version_minor": 0,
       "model_id": "47dfe3ae588c4c7c90f66ad71910d292"
      }
     },
     "metadata": {},
     "output_type": "display_data"
    },
    {
     "data": {
      "text/plain": [
       "0it [00:00, ?it/s]"
      ],
      "application/vnd.jupyter.widget-view+json": {
       "version_major": 2,
       "version_minor": 0,
       "model_id": "4c90cc982b72494299089897771d1c80"
      }
     },
     "metadata": {},
     "output_type": "display_data"
    },
    {
     "data": {
      "text/plain": [
       "0it [00:00, ?it/s]"
      ],
      "application/vnd.jupyter.widget-view+json": {
       "version_major": 2,
       "version_minor": 0,
       "model_id": "c055f8186b824503919c84c2d740f0ab"
      }
     },
     "metadata": {},
     "output_type": "display_data"
    },
    {
     "data": {
      "text/plain": [
       "0it [00:00, ?it/s]"
      ],
      "application/vnd.jupyter.widget-view+json": {
       "version_major": 2,
       "version_minor": 0,
       "model_id": "27282b4b48c946a0a0f10581da7afe7d"
      }
     },
     "metadata": {},
     "output_type": "display_data"
    },
    {
     "data": {
      "text/plain": [
       "0it [00:00, ?it/s]"
      ],
      "application/vnd.jupyter.widget-view+json": {
       "version_major": 2,
       "version_minor": 0,
       "model_id": "1556400d618f44628305613aa8649028"
      }
     },
     "metadata": {},
     "output_type": "display_data"
    },
    {
     "data": {
      "text/plain": [
       "0it [00:00, ?it/s]"
      ],
      "application/vnd.jupyter.widget-view+json": {
       "version_major": 2,
       "version_minor": 0,
       "model_id": "2758d348b73b47dda12b00624862c6ba"
      }
     },
     "metadata": {},
     "output_type": "display_data"
    },
    {
     "data": {
      "text/plain": [
       "0it [00:00, ?it/s]"
      ],
      "application/vnd.jupyter.widget-view+json": {
       "version_major": 2,
       "version_minor": 0,
       "model_id": "1db6adaa8dbc4dc88307d36af616e74e"
      }
     },
     "metadata": {},
     "output_type": "display_data"
    },
    {
     "data": {
      "text/plain": [
       "0it [00:00, ?it/s]"
      ],
      "application/vnd.jupyter.widget-view+json": {
       "version_major": 2,
       "version_minor": 0,
       "model_id": "a41bd3b92f69454ca2a2696a33fa57bc"
      }
     },
     "metadata": {},
     "output_type": "display_data"
    },
    {
     "data": {
      "text/plain": [
       "  0%|          | 0/10 [00:00<?, ?it/s]"
      ],
      "application/vnd.jupyter.widget-view+json": {
       "version_major": 2,
       "version_minor": 0,
       "model_id": "46f9560757054f888e66b2f563b0c68a"
      }
     },
     "metadata": {},
     "output_type": "display_data"
    },
    {
     "data": {
      "text/plain": [
       "0it [00:00, ?it/s]"
      ],
      "application/vnd.jupyter.widget-view+json": {
       "version_major": 2,
       "version_minor": 0,
       "model_id": "3d90a73af49a47af9682ebdd486e01d8"
      }
     },
     "metadata": {},
     "output_type": "display_data"
    },
    {
     "data": {
      "text/plain": [
       "0it [00:00, ?it/s]"
      ],
      "application/vnd.jupyter.widget-view+json": {
       "version_major": 2,
       "version_minor": 0,
       "model_id": "75472e3a05fe4e6cb60a4db3aa34da24"
      }
     },
     "metadata": {},
     "output_type": "display_data"
    },
    {
     "data": {
      "text/plain": [
       "0it [00:00, ?it/s]"
      ],
      "application/vnd.jupyter.widget-view+json": {
       "version_major": 2,
       "version_minor": 0,
       "model_id": "89b969f18b754de1bcd395db9733f8e7"
      }
     },
     "metadata": {},
     "output_type": "display_data"
    },
    {
     "data": {
      "text/plain": [
       "0it [00:00, ?it/s]"
      ],
      "application/vnd.jupyter.widget-view+json": {
       "version_major": 2,
       "version_minor": 0,
       "model_id": "b65bc15e8619469c9986e92060efa0da"
      }
     },
     "metadata": {},
     "output_type": "display_data"
    },
    {
     "data": {
      "text/plain": [
       "0it [00:00, ?it/s]"
      ],
      "application/vnd.jupyter.widget-view+json": {
       "version_major": 2,
       "version_minor": 0,
       "model_id": "61690765a22445fa82b207e32a4b707c"
      }
     },
     "metadata": {},
     "output_type": "display_data"
    },
    {
     "data": {
      "text/plain": [
       "0it [00:00, ?it/s]"
      ],
      "application/vnd.jupyter.widget-view+json": {
       "version_major": 2,
       "version_minor": 0,
       "model_id": "03c047088edd4f57a3d6af1b7c6d7e3d"
      }
     },
     "metadata": {},
     "output_type": "display_data"
    },
    {
     "data": {
      "text/plain": [
       "0it [00:00, ?it/s]"
      ],
      "application/vnd.jupyter.widget-view+json": {
       "version_major": 2,
       "version_minor": 0,
       "model_id": "0f60643cf3624790bd8d25222b88ebae"
      }
     },
     "metadata": {},
     "output_type": "display_data"
    },
    {
     "data": {
      "text/plain": [
       "0it [00:00, ?it/s]"
      ],
      "application/vnd.jupyter.widget-view+json": {
       "version_major": 2,
       "version_minor": 0,
       "model_id": "1d09bc1daa9b4b24a6f125001174f1bf"
      }
     },
     "metadata": {},
     "output_type": "display_data"
    },
    {
     "data": {
      "text/plain": [
       "0it [00:00, ?it/s]"
      ],
      "application/vnd.jupyter.widget-view+json": {
       "version_major": 2,
       "version_minor": 0,
       "model_id": "a33159c410a24805bd6fe1a1e5386b7d"
      }
     },
     "metadata": {},
     "output_type": "display_data"
    },
    {
     "data": {
      "text/plain": [
       "0it [00:00, ?it/s]"
      ],
      "application/vnd.jupyter.widget-view+json": {
       "version_major": 2,
       "version_minor": 0,
       "model_id": "2aa98ebbfaf04447895ac520f2d07c18"
      }
     },
     "metadata": {},
     "output_type": "display_data"
    }
   ],
   "execution_count": 30
  },
  {
   "metadata": {
    "ExecuteTime": {
     "end_time": "2025-04-26T17:42:53.467576Z",
     "start_time": "2025-04-26T17:42:53.465944Z"
    }
   },
   "cell_type": "code",
   "source": "wiki_data = wiki_state.get_all()",
   "id": "cdab6fed62f2a9c5",
   "outputs": [],
   "execution_count": 31
  },
  {
   "metadata": {
    "ExecuteTime": {
     "end_time": "2025-04-26T17:42:53.865665Z",
     "start_time": "2025-04-26T17:42:53.622637Z"
    }
   },
   "cell_type": "code",
   "source": [
    "with open(trace_data.joinpath(short_name + '_wikipedia.json'), 'w') as f:\n",
    "    json.dump(wiki_data, f)"
   ],
   "id": "6933bc09ec2efe0a",
   "outputs": [],
   "execution_count": 32
  },
  {
   "metadata": {
    "ExecuteTime": {
     "end_time": "2025-04-26T17:42:54.016553Z",
     "start_time": "2025-04-26T17:42:54.015337Z"
    }
   },
   "cell_type": "code",
   "source": "",
   "id": "da73f89d9f6c5beb",
   "outputs": [],
   "execution_count": null
  },
  {
   "metadata": {
    "ExecuteTime": {
     "end_time": "2025-04-26T17:42:54.168366Z",
     "start_time": "2025-04-26T17:42:54.167200Z"
    }
   },
   "cell_type": "code",
   "source": "",
   "id": "9e0ed23400d4e884",
   "outputs": [],
   "execution_count": null
  },
  {
   "metadata": {},
   "cell_type": "markdown",
   "source": "# Trend Report Burr",
   "id": "e1b36aec23f282b1"
  },
  {
   "metadata": {
    "ExecuteTime": {
     "end_time": "2025-04-26T18:25:12.330807Z",
     "start_time": "2025-04-26T18:25:12.326645Z"
    }
   },
   "cell_type": "code",
   "source": [
    "def format_sections_w_citations(wiki_document, base_citation):\n",
    "    first_section = wiki_document[0]\n",
    "    current_level_1_idx = 1\n",
    "    current_level_2_idx = 1\n",
    "    current_level_1_name = first_section['hierarchy']['level_0']\n",
    "    current_level_2_name = first_section['hierarchy']['level_1']\n",
    "    formatted_sections = list()\n",
    "    base_citation = '_'.join(re.findall(r'(\\w+)', base_citation))\n",
    "\n",
    "    first_section['citation'] = f\"{base_citation}({current_level_1_idx})({current_level_2_idx})\"\n",
    "    formatted_sections.append(first_section)\n",
    "    if len(wiki_document) > 1:\n",
    "        for section in wiki_document[1:]:\n",
    "            # if current_level_1_name == '':\n",
    "            #     current_level_1_name = section['hierarchy']['level_0']\n",
    "            # if current_level_2_name == '':\n",
    "            #     current_level_2_name = section['hierarchy']['level_1']\n",
    "            #     current_level_2_idx = 1\n",
    "\n",
    "            if current_level_1_name != section['hierarchy']['level_0']:\n",
    "                current_level_1_name = section['hierarchy']['level_0']\n",
    "                current_level_2_name = section['hierarchy']['level_1']\n",
    "                current_level_1_idx += 1\n",
    "                current_level_2_idx = 1\n",
    "                # print(current_level_1_name)\n",
    "            elif (current_level_1_name == section['hierarchy']['level_0']) and (current_level_2_name != section['hierarchy']['level_1']):\n",
    "                current_level_2_name = section['hierarchy']['level_1']\n",
    "                current_level_2_idx += 1\n",
    "            else:\n",
    "                current_level_2_idx += 1\n",
    "\n",
    "            section['citation'] = f\"{base_citation}({current_level_1_idx})({current_level_2_idx})\"\n",
    "            # print(section['citation'])\n",
    "            formatted_sections.append(section)\n",
    "            # current_level_1_idx += 1\n",
    "            # current_level_2_idx = 1\n",
    "    return formatted_sections"
   ],
   "id": "5961652a11dcefb7",
   "outputs": [],
   "execution_count": 63
  },
  {
   "metadata": {
    "ExecuteTime": {
     "end_time": "2025-04-26T18:25:15.896336Z",
     "start_time": "2025-04-26T18:25:15.893437Z"
    }
   },
   "cell_type": "code",
   "source": [
    "trend_analysis_prompt = \"\"\"\n",
    "***Report:***\n",
    "{report}\n",
    "\n",
    "***Sources for the report:***\n",
    "{sources}\n",
    "\n",
    "-----\n",
    "Write a trend report on the topic: {topic}, with a primary focus on: {focus}. Identify the overall trends that concern:\n",
    "- Evolving states of the status quo\n",
    "- Challenges faced historically and/or currently\n",
    "- Initiatives and solutions to challenges\n",
    "- Outlook\n",
    "- Drivers of change, challenges, and/or solutions.\n",
    "\n",
    "Organize your trend analysis by each trend being a section with the name of the trend formatted as a markdown header '##' and sub-points as a markdown numbered, or bullet pointed, list.\n",
    "\n",
    "Your analysis should provide the citations from the source material for the different statements providing information about the trend, or claims about the trend. The citation format can be found in the report text and in the sources in the format of '(report_name(section_number))'.\n",
    "\n",
    "Only use information that is directly corroborated by the sources of information.\n",
    "\n",
    "Do not include any introductory phrases (e.g., 'Okay,' 'Sure,' 'Here's').\n",
    "Do not include any concluding remarks or follow-up questions.\n",
    "Respond only with the requested information.\n",
    "Avoid any conversational filler.\n",
    "Do not engage in dialogue. Only provide the answer.\n",
    "Focus solely on fulfilling the request.\n",
    "\n",
    "Trends:\n",
    "\"\"\""
   ],
   "id": "8bc4d49c31e09c35",
   "outputs": [],
   "execution_count": 64
  },
  {
   "metadata": {
    "ExecuteTime": {
     "end_time": "2025-04-26T18:25:16.066064Z",
     "start_time": "2025-04-26T18:25:16.064245Z"
    }
   },
   "cell_type": "code",
   "source": [
    "follow_up_context_prompt = \"\"\"\n",
    "## Report:\n",
    "{report}\n",
    "\n",
    "## Trend Analysis:\n",
    "{trend_analysis}\n",
    "\n",
    "-----\n",
    "\n",
    "Identify the specific context needed to give contextual information on historical conditions, drivers of trends, status quo, outlook for the future, challenges being faced, and initiatives from the report, trend analysis, topic: {topic} and a focus on: {focus}. This context must be the specific context needed to retrieve additional contextual information on historical conditions, drivers of trends, status quo, outlook for the future, challenges being faced, and initiatives.\n",
    "\n",
    "Respond with phrases that will identify the documents and information within the documents that adds context to the report, trend analysis, topic, and focus. Just respond with the requested list. The sections provided below MUST start with a '#' and the bullet points MUST use '-' as the markdown list bullet point. You must provide a list beneath each section.\n",
    "\n",
    "Do not include any introductory phrases (e.g., 'Okay,' 'Sure,' 'Here's').\n",
    "Do not include any concluding remarks or follow-up questions.\n",
    "Respond only with the requested information.\n",
    "Avoid any conversational filler.\n",
    "Do not engage in dialogue. Only provide the answer.\n",
    "Focus solely on fulfilling the request.\n",
    "\n",
    "-----\n",
    "\n",
    "## Historical Conditions:\n",
    "\n",
    "## Status Quo:\n",
    "\n",
    "## Drivers of Trends:\n",
    "\n",
    "## Challenges faced historically and/or currently:\n",
    "\n",
    "## Initiatives and solutions to challenges:\n",
    "\n",
    "## Outlook:\n",
    "\n",
    "\"\"\""
   ],
   "id": "804ba1543654968e",
   "outputs": [],
   "execution_count": 65
  },
  {
   "metadata": {
    "ExecuteTime": {
     "end_time": "2025-04-26T19:11:44.905351Z",
     "start_time": "2025-04-26T19:11:44.902041Z"
    }
   },
   "cell_type": "code",
   "source": [
    "extract_contextual_information_wikipedia = \"\"\"Extract relevant information from the article that provides context and key details about the topic: Rural Broadband in America, that has  a primary focus driven by: Historical, current, and future challenges for rural broadband and connectivity in America, or is good context for what is in the Trend Analysis.\n",
    "\n",
    "Use the areas of interest for context on what is important for you to extract. It is absolutely critical that you do not introduce yourself, your response, or provide a conclusion or outro. Just respond with the extracted information.\n",
    "\n",
    "Under no circumstances are you to reference or repeat information in the Trend Analysis.\n",
    "\n",
    "-----\n",
    "\n",
    "# Areas of Interest:\n",
    "{areas_of_interest}\n",
    "\n",
    "# Trend Analysis:\n",
    "{trend_analysis}\n",
    "\n",
    "-----\n",
    "\n",
    "# Article:\n",
    "{article}\n",
    "\n",
    "-----\n",
    "\n",
    "The sections of the article may not have relevant information to anything in the trend analysis or anything in the area of interest. If no relevant information is in the article, only respond with \"No relevant information\".\n",
    "\n",
    "Only use what is available to extract the necessary context. Extract the key details that provide relevant context and information in the scope of the areas of interest or are relevant context to the trend analysis. At the end of each section, you will find the citation for that section in the form of (document_id(section_number)(subsection_number)). For each piece of information you extract, provide the source citation for it. This is an absolute must.\n",
    "\n",
    "When extracting multiple pieces of information from the same section, condense them into a single bullet point unless they relate to distinct areas in areas of interest.\n",
    "\n",
    "Do not include any introductory phrases (e.g., 'Okay,' 'Sure,' 'Here's').\n",
    "Do not include any concluding remarks or follow-up questions.\n",
    "Respond only with the requested information.\n",
    "Avoid any conversational filler.\n",
    "Do not engage in dialogue. Only provide the response.\n",
    "Focus solely on fulfilling the request.\n",
    "\n",
    "ONLY use the information from the Article for your response. Do NOT respond with any information from the Trend Analysis. Under no circumstance provide information from the Trend Analysis. Only information from the Article is intended to be extracted.\n",
    "\n",
    "When responding, align the information extracted with these fields that structure the areas of interest:\n",
    "\n",
    "## Historical Conditions:\n",
    "\n",
    "## Status Quo:\n",
    "\n",
    "## Drivers of Trends:\n",
    "\n",
    "## Challenges faced historically and/or currently:\n",
    "\n",
    "## Initiatives and solutions to challenges:\n",
    "\n",
    "## Outlook:\n",
    "\n",
    "-----\n",
    "\n",
    "# Extracted Information:\n",
    "\"\"\""
   ],
   "id": "3ceca2f2784a1d18",
   "outputs": [],
   "execution_count": 149
  },
  {
   "metadata": {
    "ExecuteTime": {
     "end_time": "2025-04-26T19:20:15.950682Z",
     "start_time": "2025-04-26T19:20:15.947419Z"
    }
   },
   "cell_type": "code",
   "source": [
    "extract_contextual_information_wikipedia = \"\"\"Extract relevant information from the article that provides context and key details about the topic: Rural Broadband in America, that has  a primary focus driven by: Historical, current, and future challenges for rural broadband and connectivity in America, and areas of interest that provide useful context.\n",
    "\n",
    "Use the areas of interest for context on what is important for you to extract. It is absolutely critical that you do not introduce yourself, your response, or provide a conclusion or outro. Just respond with the extracted information.\n",
    "\n",
    "-----\n",
    "\n",
    "# Areas of Interest:\n",
    "{areas_of_interest}\n",
    "\n",
    "-----\n",
    "\n",
    "# Article:\n",
    "{article}\n",
    "\n",
    "-----\n",
    "\n",
    "The sections of the article may not have relevant information to anything in the area of interest. If no relevant information is in the article, only respond with \"No relevant information\".\n",
    "\n",
    "Only use what is available to extract the necessary context. Extract the key details that provide relevant context and information in the scope of the areas of interest or are relevant context to the trend analysis. At the end of each section, you will find the citation for that section in the form of (document_id(section_number)(subsection_number)). For each piece of information you extract, provide the source citation for it. This is an absolute must.\n",
    "\n",
    "When extracting multiple pieces of information from the same section, condense them into a single bullet point unless they relate to distinct areas in areas of interest.\n",
    "\n",
    "Do not include any introductory phrases (e.g., 'Okay,' 'Sure,' 'Here's').\n",
    "Do not include any concluding remarks or follow-up questions.\n",
    "Respond only with the requested information.\n",
    "Avoid any conversational filler.\n",
    "Do not engage in dialogue. Only provide the response.\n",
    "Focus solely on fulfilling the request.\n",
    "\n",
    "ONLY use the information from the Article for your response. Only information from the Article is intended to be extracted.\n",
    "\n",
    "For all information you extract, organize it under the appropriate header provided below. If no information is available for that header, then do not provide that header.\n",
    "\n",
    "## Historical Conditions:\n",
    "\n",
    "## Status Quo:\n",
    "\n",
    "## Drivers of Trends:\n",
    "\n",
    "## Challenges faced historically and/or currently:\n",
    "\n",
    "## Initiatives and solutions to challenges:\n",
    "\n",
    "## Outlook:\n",
    "\"\"\""
   ],
   "id": "5753a605888203ba",
   "outputs": [],
   "execution_count": 166
  },
  {
   "metadata": {
    "ExecuteTime": {
     "end_time": "2025-04-26T19:20:17.793649Z",
     "start_time": "2025-04-26T19:20:17.790784Z"
    }
   },
   "cell_type": "code",
   "source": [
    "trend_interpolation_prompt = \"\"\"Write a trend report based on a trend analysis that captures the general trends about the topic: {topic} with the focus being: {focus}. Use the set of notes on relevant information to the trend report.\n",
    "\n",
    "The current trend analysis provides only partial information about the topic and the focus. Using just the relevant information from the notes, write an additional trend report based on the notes provided. Do not use the material in the existing trend report for writing this new analysis, unless the new information from the notes directly relates to a claim or statement in it. When using information from the existing trend analysis you must provide the citation of the claim or statement from the existing trend analysis.\n",
    "\n",
    "Do not provide opinions, interpretation, introduction, conclusion, or any sort of introduction to your response. Only write a new report.\n",
    "\n",
    "Structure the new report to use the same sections and section headers as the provided trend analysis. If there is no information to add to an existing section of the trend analysis, write that no new information was found.\n",
    "\n",
    "The information used to write the new the trend report *must* only come from the notes. Do not add any information that has not been provided in the notes or the trend analysis. Add as much contextual information as is available to your report with a focus on completeness of information over brevity. It's vital that the report is grounded on facts in the notes.\n",
    "\n",
    "Next, add a section at the end with any case studies that are in the notes. Separate these by a title for each case study and provide the current conditions, situation of the case study, and how it relates to a specific trend in the trend report. Clearly label this in a separate section for each trend with the header \"## Case Studies:\" Only include case studies that have information on what was the problem, solution, and outcome for the case study.\n",
    "\n",
    "Do not include any introductory phrases (e.g., 'Okay,' 'Sure,' 'Here's').\n",
    "Do not include any concluding remarks or follow-up questions.\n",
    "Respond only with the requested information.\n",
    "Avoid any conversational filler.\n",
    "Do not engage in dialogue. Only provide the answer.\n",
    "Focus solely on fulfilling the request.\n",
    "\n",
    "\n",
    "# Trend Analysis:\n",
    "{trend_analysis}\n",
    "\n",
    "# Notes:\n",
    "{notes}\n",
    "\n",
    "# Trend Report:\n",
    "\"\"\""
   ],
   "id": "ba2aff2a5f791f2f",
   "outputs": [],
   "execution_count": 167
  },
  {
   "metadata": {
    "ExecuteTime": {
     "end_time": "2025-04-26T23:47:46.564177Z",
     "start_time": "2025-04-26T23:47:46.548818Z"
    }
   },
   "cell_type": "code",
   "source": [
    "@action(reads=[], writes=[\"formatted_trend_report_prompt\"])\n",
    "def format_trend_report_prompt(state: State, report: str, sources: str, prompts: dict, topic: str, focus: str) -> State:\n",
    "    formatted_prompt = prompts['trend_report_prompt'].format(topic=topic, focus=focus, report=report, sources=sources)\n",
    "    return state.update(formatted_trend_report_prompt=formatted_prompt)\n",
    "\n",
    "@action(reads=[\"formatted_trend_report_prompt\"], writes=[\"trend_report\"])\n",
    "def generate_trend_report(state: State) -> State:\n",
    "    # trend_report = call_llm(state['formatted_trend_report_prompt'], model=\"gemma-3-12b-it-qat\")\n",
    "    trend_report = call_llm_flash(state['formatted_trend_report_prompt'])\n",
    "    return state.update(trend_report=trend_report)\n",
    "\n",
    "@action(reads=[\"trend_report\"], writes=[\"follow_ups\"])\n",
    "def create_follow_up_context(state: State, prompts: dict, topic: str, focus: str, report: str) -> State:\n",
    "    follow_up_prompt = prompts['follow_up_context_prompt'].format(topic=topic, focus=focus,\n",
    "                                                                  report=report, trend_analysis=state['trend_report'])\n",
    "    # follow_ups = call_llm(follow_up_prompt, model=\"gemma-3-12b-it-qat\")\n",
    "    follow_ups = call_llm_flash(follow_up_prompt)\n",
    "    return state.update(follow_ups=follow_ups)\n",
    "\n",
    "@action(reads=[\"follow_ups\"], writes=[\"follow_up_groups\"])\n",
    "def create_follow_up_queries(state: State) -> State:\n",
    "    different_followups = re.findall(r'#+\\s+(.*?)(?:$|#)', state['follow_ups'], flags=re.DOTALL)\n",
    "    follow_up_groups = dict()\n",
    "    for group in different_followups:\n",
    "        group_name = group.split('\\n')[0]\n",
    "        followups = re.findall(r'[\\*-]\\s*(.+?)(?:\\n|$)', group, flags=re.DOTALL)\n",
    "        followups = [x.strip() for x in followups]\n",
    "        follow_up_groups[group_name.strip()] = followups\n",
    "    return state.update(follow_up_groups=follow_up_groups)\n",
    "\n",
    "@action(reads=[\"follow_up_groups\"], writes=['follow_up_results'])\n",
    "def search_follow_ups(state: State, index_locations: dict, num_results: int, search_depth: int) -> State:\n",
    "    index = lancedb.connect(index_locations['index_path'])\n",
    "    table = index.open_table(index_locations['index_table'])\n",
    "\n",
    "    follow_up_documents = list()\n",
    "    for follow_up_area, followup_group in state['follow_up_groups'].items():\n",
    "        area_documents = list()\n",
    "        for follow_up in followup_group:\n",
    "            follow_up_vector = encoder.encode(follow_up).tolist()\n",
    "            torch.mps.empty_cache()\n",
    "\n",
    "            follow_up_search_vector = table.search(follow_up_vector).distance_type('cosine').limit(search_depth).to_list()\n",
    "            _fts_query = re.findall(r'(\\w+)', follow_up)\n",
    "            _fts_query = ' '.join(_fts_query)\n",
    "            follow_up_search_fts = table.search(_fts_query).limit(search_depth).to_list()\n",
    "\n",
    "            for _result in follow_up_search_vector:\n",
    "                _result['follow_up_area'] = follow_up_area\n",
    "                _result['follow_up_focus'] = follow_up\n",
    "\n",
    "            for _result in follow_up_search_fts:\n",
    "                _result['follow_up_area'] = follow_up_area\n",
    "                _result['follow_up_focus'] = follow_up\n",
    "\n",
    "            area_documents.extend(follow_up_search_vector)\n",
    "            area_documents.extend(follow_up_search_fts)\n",
    "        area_documents = pd.DataFrame(area_documents)\n",
    "        area_documents['_score'] = area_documents.groupby(['page_title','section_idx'])['_score'].transform('max')\n",
    "        area_documents['_distance'] = area_documents.groupby(['page_title','section_idx'])['_distance'].transform('max')\n",
    "\n",
    "        area_documents['norm_score'] = (area_documents['_score'] - area_documents['_score'].min()) / (area_documents['_score'].max() - area_documents['_score'].min())\n",
    "        area_documents['norm_distance'] = (area_documents['_distance'] - area_documents['_distance'].min()) / (area_documents['_distance'].max() - area_documents['_distance'].min())\n",
    "\n",
    "        area_documents['fusion_score'] = 0.5*area_documents['norm_distance'] + 0.5*area_documents['norm_score']\n",
    "        area_documents = area_documents.sort_values(by=['fusion_score'], ascending=False)\n",
    "        area_documents = area_documents.drop_duplicates(subset=['page_title','section_idx'], keep='first')\n",
    "        area_documents = area_documents.dropna(subset=['fusion_score'])\n",
    "        area_documents = area_documents.iloc[:num_results]\n",
    "\n",
    "        follow_up_documents.append(area_documents)\n",
    "\n",
    "\n",
    "    follow_up_results = pd.concat(follow_up_documents)\n",
    "    follow_up_results['norm_global_score'] = (follow_up_results['_distance'] - follow_up_results['_distance'].min()) / (follow_up_results['_distance'].max() - follow_up_results['_distance'].min())\n",
    "\n",
    "    follow_up_results = follow_up_results.sort_values(by=['norm_global_score'], ascending=False)\n",
    "    follow_up_results = follow_up_results.drop_duplicates(subset=['page_title','section_idx'], keep='first')\n",
    "    follow_up_results['section_start'] = follow_up_results.groupby(['page_title','hierarchy_string'])['section_idx'].transform('min')\n",
    "    follow_up_results = follow_up_results.sort_values(by=['page_title','section_start','section_idx'])\n",
    "    follow_up_results = follow_up_results.drop_duplicates(subset=['text'])\n",
    "    follow_up_results = follow_up_results[follow_up_results['text'].str.strip() != '']\n",
    "    follow_up_results = follow_up_results.drop('vector', axis=1)\n",
    "    print(follow_up_results.head())\n",
    "    print(follow_up_results['page_title'].nunique())\n",
    "    print(follow_up_results.shape)\n",
    "\n",
    "    return state.update(follow_up_results=follow_up_results.to_dict(orient='records'))\n",
    "\n",
    "# @action(reads=[], writes=[])\n",
    "# def clean_up_results(state: State) -> State:\n",
    "#     return state\n",
    "\n",
    "@action(reads=[\"follow_up_results\"], writes=[\"formatted_documents\"])\n",
    "def format_results(state: State) -> State:\n",
    "    formatted_documents = list()\n",
    "    context_documents_df = pd.DataFrame(state['follow_up_results'])\n",
    "    print(context_documents_df.head())\n",
    "    for _page_title, _group in context_documents_df.groupby(['page_title']):\n",
    "        # group_text = '\\n\\n'.join(_group['text'])\n",
    "        formatted_wiki_text = format_sections_w_citations(_group.to_dict(orient='records'), _page_title[0])\n",
    "        group_text = \"\"\n",
    "        for section in formatted_wiki_text:\n",
    "            _formatted_section = f\"\\n- {section['text']} ({section['citation']})\"\n",
    "            group_text += _formatted_section\n",
    "        group_text = group_text.strip()\n",
    "        formatted_documents.append({'title':_page_title[0], \"document\":f\"#### Title: {_page_title[0]}\\n\\n{group_text}\"})\n",
    "    return state.update(formatted_documents=formatted_documents)\n",
    "\n",
    "\n",
    "@action(reads=['formatted_documents','follow_ups'], writes=['extracted_page_data','formatted_extraction_prompt'])\n",
    "def extract_page_data(state: State, topic: str, focus: str, prompts: dict) -> State:\n",
    "    extracted_page_data = list()\n",
    "    print(len(state['formatted_documents']))\n",
    "    for i, page in enumerate(state['formatted_documents']):\n",
    "        print(f\"Extracting page {i}\")\n",
    "        formatted_extraction_prompt = prompts['extract_contextual_information_wikipedia'].format(topic=topic, focus=focus,\n",
    "                                                                                                 areas_of_interest=state['follow_ups'],\n",
    "                                                                                                 trend_analysis=state['trend_report'],\n",
    "                                                                                                 article=page['document'])\n",
    "        extracted_information = call_llm(formatted_extraction_prompt, model=\"gemma-3-4b-it-qat\", temperature=0.3)\n",
    "        extracted_page_data.append({'title':page['title'], 'extracted_information': extracted_information})\n",
    "\n",
    "    return state.update(extracted_page_data=extracted_page_data, formatted_extraction_prompt=formatted_extraction_prompt)\n",
    "\n",
    "@action(reads=['extracted_page_data','trend_report'], writes=['trend_report_wiki_context','formatted_trend_prompt'])\n",
    "def generate_trend_report_context(state: State, topic: str, focus: str, prompts: dict) -> State:\n",
    "    extracted_page_notes = list()\n",
    "    for page in state['extracted_page_data']:\n",
    "        if 'no relevant information' in page['extracted_information'].lower():\n",
    "            continue\n",
    "        extracted_page_notes.append(f\"Article Title: {page['title']}\\nArticle Text: {page['extracted_information']}\".strip())\n",
    "\n",
    "    formatted_trend_prompt = prompts['trend_interpolation_prompt'].format(topic=topic, focus=focus,\n",
    "                                                                             trend_analysis=state['trend_report'],\n",
    "                                                                             notes='\\n\\n'.join(extracted_page_notes))\n",
    "    # trend_report_wiki_context = call_llm(formatted_trend_prompt, model=\"gemma-3-12b-it-qat\")\n",
    "    trend_report_wiki_context = call_llm_flash(formatted_trend_prompt)\n",
    "    return state.update(trend_report_wiki_context=trend_report_wiki_context, formatted_trend_prompt=formatted_trend_prompt)"
   ],
   "id": "100e70c4583da98f",
   "outputs": [],
   "execution_count": 181
  },
  {
   "metadata": {
    "ExecuteTime": {
     "end_time": "2025-04-26T23:47:48.462176Z",
     "start_time": "2025-04-26T23:47:48.454471Z"
    }
   },
   "cell_type": "code",
   "source": [
    "\n",
    "trend_report_app = (\n",
    "    ApplicationBuilder()\n",
    "    .with_actions(\n",
    "        format_trend_report_prompt,\n",
    "        generate_trend_report,\n",
    "        create_follow_up_context,\n",
    "        create_follow_up_queries,\n",
    "        search_follow_ups,\n",
    "        format_results,\n",
    "        extract_page_data,\n",
    "        generate_trend_report_context\n",
    "    )\n",
    "    .with_transitions(\n",
    "        (\"format_trend_report_prompt\", \"generate_trend_report\"),\n",
    "        (\"generate_trend_report\", \"create_follow_up_context\"),\n",
    "        (\"create_follow_up_context\", \"create_follow_up_queries\"),\n",
    "        (\"create_follow_up_queries\", \"search_follow_ups\"),\n",
    "        (\"search_follow_ups\", \"format_results\"),\n",
    "        (\"format_results\", \"extract_page_data\"),\n",
    "        (\"extract_page_data\", \"generate_trend_report_context\"),\n",
    "    )\n",
    "    .with_entrypoint(\"format_trend_report_prompt\")\n",
    "    .with_tracker(\n",
    "        \"local\",\n",
    "        project=f\"research_batch-trend_analysis\",\n",
    "    )\n",
    "    .build()\n",
    ")"
   ],
   "id": "c090d4c866233b5",
   "outputs": [],
   "execution_count": 182
  },
  {
   "metadata": {
    "ExecuteTime": {
     "end_time": "2025-04-26T23:47:49.012713Z",
     "start_time": "2025-04-26T23:47:48.687121Z"
    }
   },
   "cell_type": "code",
   "source": "trend_report_app.visualize(\"./graph\", format=\"png\")",
   "id": "65f0bf93f516305c",
   "outputs": [
    {
     "name": "stderr",
     "output_type": "stream",
     "text": [
      "huggingface/tokenizers: The current process just got forked, after parallelism has already been used. Disabling parallelism to avoid deadlocks...\n",
      "To disable this warning, you can either:\n",
      "\t- Avoid using `tokenizers` before the fork if possible\n",
      "\t- Explicitly set the environment variable TOKENIZERS_PARALLELISM=(true | false)\n",
      "huggingface/tokenizers: The current process just got forked, after parallelism has already been used. Disabling parallelism to avoid deadlocks...\n",
      "To disable this warning, you can either:\n",
      "\t- Avoid using `tokenizers` before the fork if possible\n",
      "\t- Explicitly set the environment variable TOKENIZERS_PARALLELISM=(true | false)\n"
     ]
    },
    {
     "data": {
      "image/svg+xml": "<?xml version=\"1.0\" encoding=\"UTF-8\" standalone=\"no\"?>\n<!DOCTYPE svg PUBLIC \"-//W3C//DTD SVG 1.1//EN\"\n \"http://www.w3.org/Graphics/SVG/1.1/DTD/svg11.dtd\">\n<!-- Generated by graphviz version 12.2.1 (0)\n -->\n<!-- Pages: 1 -->\n<svg width=\"885pt\" height=\"569pt\"\n viewBox=\"0.00 0.00 884.92 569.40\" xmlns=\"http://www.w3.org/2000/svg\" xmlns:xlink=\"http://www.w3.org/1999/xlink\">\n<g id=\"graph0\" class=\"graph\" transform=\"scale(1 1) rotate(0) translate(4 565.4)\">\n<polygon fill=\"white\" stroke=\"none\" points=\"-4,4 -4,-565.4 880.92,-565.4 880.92,4 -4,4\"/>\n<!-- format_trend_report_prompt -->\n<g id=\"node1\" class=\"node\">\n<title>format_trend_report_prompt</title>\n<path fill=\"#b4d8e4\" stroke=\"black\" d=\"M591.92,-495.8C591.92,-495.8 424.07,-495.8 424.07,-495.8 418.07,-495.8 412.07,-489.8 412.07,-483.8 412.07,-483.8 412.07,-471.2 412.07,-471.2 412.07,-465.2 418.07,-459.2 424.07,-459.2 424.07,-459.2 591.92,-459.2 591.92,-459.2 597.92,-459.2 603.92,-465.2 603.92,-471.2 603.92,-471.2 603.92,-483.8 603.92,-483.8 603.92,-489.8 597.92,-495.8 591.92,-495.8\"/>\n<text text-anchor=\"middle\" x=\"508\" y=\"-471.7\" font-family=\"Helvetica,sans-Serif\" font-size=\"14.00\">format_trend_report_prompt</text>\n</g>\n<!-- generate_trend_report -->\n<g id=\"node7\" class=\"node\">\n<title>generate_trend_report</title>\n<path fill=\"#b4d8e4\" stroke=\"black\" d=\"M582.92,-430.2C582.92,-430.2 451.07,-430.2 451.07,-430.2 445.07,-430.2 439.07,-424.2 439.07,-418.2 439.07,-418.2 439.07,-405.6 439.07,-405.6 439.07,-399.6 445.07,-393.6 451.07,-393.6 451.07,-393.6 582.92,-393.6 582.92,-393.6 588.92,-393.6 594.92,-399.6 594.92,-405.6 594.92,-405.6 594.92,-418.2 594.92,-418.2 594.92,-424.2 588.92,-430.2 582.92,-430.2\"/>\n<text text-anchor=\"middle\" x=\"517\" y=\"-406.1\" font-family=\"Helvetica,sans-Serif\" font-size=\"14.00\">generate_trend_report</text>\n</g>\n<!-- format_trend_report_prompt&#45;&gt;generate_trend_report -->\n<g id=\"edge19\" class=\"edge\">\n<title>format_trend_report_prompt&#45;&gt;generate_trend_report</title>\n<path fill=\"none\" stroke=\"black\" d=\"M510.51,-458.78C511.25,-453.55 512.08,-447.67 512.89,-441.92\"/>\n<polygon fill=\"black\" stroke=\"black\" points=\"516.36,-442.41 514.29,-432.02 509.43,-441.43 516.36,-442.41\"/>\n</g>\n<!-- input__topic -->\n<g id=\"node2\" class=\"node\">\n<title>input__topic</title>\n<polygon fill=\"none\" stroke=\"black\" stroke-dasharray=\"5,2\" points=\"253.43,-561.4 166.57,-561.4 166.57,-524.8 253.43,-524.8 253.43,-561.4\"/>\n<text text-anchor=\"middle\" x=\"210\" y=\"-537.3\" font-family=\"Helvetica,sans-Serif\" font-size=\"14.00\">input: topic</text>\n</g>\n<!-- input__topic&#45;&gt;format_trend_report_prompt -->\n<g id=\"edge1\" class=\"edge\">\n<title>input__topic&#45;&gt;format_trend_report_prompt</title>\n<path fill=\"none\" stroke=\"black\" d=\"M253.65,-532.78C295.46,-523.86 359.92,-510.1 413.49,-498.67\"/>\n<polygon fill=\"black\" stroke=\"black\" points=\"414.21,-502.1 423.26,-496.59 412.75,-495.25 414.21,-502.1\"/>\n</g>\n<!-- create_follow_up_context -->\n<g id=\"node8\" class=\"node\">\n<title>create_follow_up_context</title>\n<path fill=\"#b4d8e4\" stroke=\"black\" d=\"M707.3,-364.6C707.3,-364.6 556.7,-364.6 556.7,-364.6 550.7,-364.6 544.7,-358.6 544.7,-352.6 544.7,-352.6 544.7,-340 544.7,-340 544.7,-334 550.7,-328 556.7,-328 556.7,-328 707.3,-328 707.3,-328 713.3,-328 719.3,-334 719.3,-340 719.3,-340 719.3,-352.6 719.3,-352.6 719.3,-358.6 713.3,-364.6 707.3,-364.6\"/>\n<text text-anchor=\"middle\" x=\"632\" y=\"-340.5\" font-family=\"Helvetica,sans-Serif\" font-size=\"14.00\">create_follow_up_context</text>\n</g>\n<!-- input__topic&#45;&gt;create_follow_up_context -->\n<g id=\"edge8\" class=\"edge\">\n<title>input__topic&#45;&gt;create_follow_up_context</title>\n<path fill=\"none\" stroke=\"black\" d=\"M230.31,-524.53C267.4,-493.38 349.69,-428.46 430,-393.6 462.32,-379.57 499.47,-369.5 533.03,-362.41\"/>\n<polygon fill=\"black\" stroke=\"black\" points=\"533.68,-365.85 542.78,-360.42 532.28,-358.99 533.68,-365.85\"/>\n</g>\n<!-- extract_page_data -->\n<g id=\"node15\" class=\"node\">\n<title>extract_page_data</title>\n<path fill=\"#b4d8e4\" stroke=\"black\" d=\"M744.67,-102.2C744.67,-102.2 635.33,-102.2 635.33,-102.2 629.33,-102.2 623.33,-96.2 623.33,-90.2 623.33,-90.2 623.33,-77.6 623.33,-77.6 623.33,-71.6 629.33,-65.6 635.33,-65.6 635.33,-65.6 744.67,-65.6 744.67,-65.6 750.67,-65.6 756.67,-71.6 756.67,-77.6 756.67,-77.6 756.67,-90.2 756.67,-90.2 756.67,-96.2 750.67,-102.2 744.67,-102.2\"/>\n<text text-anchor=\"middle\" x=\"690\" y=\"-78.1\" font-family=\"Helvetica,sans-Serif\" font-size=\"14.00\">extract_page_data</text>\n</g>\n<!-- input__topic&#45;&gt;extract_page_data -->\n<g id=\"edge14\" class=\"edge\">\n<title>input__topic&#45;&gt;extract_page_data</title>\n<path fill=\"none\" stroke=\"black\" d=\"M166.15,-530.1C115.19,-513.17 38,-476.95 38,-412.9 38,-412.9 38,-412.9 38,-214.1 38,-98.35 438.41,-84.67 611.66,-84.17\"/>\n<polygon fill=\"black\" stroke=\"black\" points=\"611.48,-87.67 621.47,-84.16 611.47,-80.67 611.48,-87.67\"/>\n</g>\n<!-- generate_trend_report_context -->\n<g id=\"node16\" class=\"node\">\n<title>generate_trend_report_context</title>\n<path fill=\"#b4d8e4\" stroke=\"black\" d=\"M828.42,-36.6C828.42,-36.6 645.58,-36.6 645.58,-36.6 639.58,-36.6 633.58,-30.6 633.58,-24.6 633.58,-24.6 633.58,-12 633.58,-12 633.58,-6 639.58,0 645.58,0 645.58,0 828.42,0 828.42,0 834.42,0 840.42,-6 840.42,-12 840.42,-12 840.42,-24.6 840.42,-24.6 840.42,-30.6 834.42,-36.6 828.42,-36.6\"/>\n<text text-anchor=\"middle\" x=\"737\" y=\"-12.5\" font-family=\"Helvetica,sans-Serif\" font-size=\"14.00\">generate_trend_report_context</text>\n</g>\n<!-- input__topic&#45;&gt;generate_trend_report_context -->\n<g id=\"edge17\" class=\"edge\">\n<title>input__topic&#45;&gt;generate_trend_report_context</title>\n<path fill=\"none\" stroke=\"black\" d=\"M166.34,-537.8C132.31,-532.58 85.39,-521.07 52,-495.8 17.32,-469.55 0,-456.39 0,-412.9 0,-412.9 0,-412.9 0,-148.5 0,-86.12 414.95,-44.61 622.14,-27.77\"/>\n<polygon fill=\"black\" stroke=\"black\" points=\"622.16,-31.28 631.85,-26.99 621.6,-24.3 622.16,-31.28\"/>\n</g>\n<!-- input__focus -->\n<g id=\"node3\" class=\"node\">\n<title>input__focus</title>\n<polygon fill=\"none\" stroke=\"black\" stroke-dasharray=\"5,2\" points=\"751.3,-561.4 660.7,-561.4 660.7,-524.8 751.3,-524.8 751.3,-561.4\"/>\n<text text-anchor=\"middle\" x=\"706\" y=\"-537.3\" font-family=\"Helvetica,sans-Serif\" font-size=\"14.00\">input: focus</text>\n</g>\n<!-- input__focus&#45;&gt;format_trend_report_prompt -->\n<g id=\"edge2\" class=\"edge\">\n<title>input__focus&#45;&gt;format_trend_report_prompt</title>\n<path fill=\"none\" stroke=\"black\" d=\"M660.57,-527.51C634.86,-519.25 602.24,-508.77 573.78,-499.63\"/>\n<polygon fill=\"black\" stroke=\"black\" points=\"575.12,-496.38 564.53,-496.66 572.98,-503.05 575.12,-496.38\"/>\n</g>\n<!-- input__focus&#45;&gt;create_follow_up_context -->\n<g id=\"edge6\" class=\"edge\">\n<title>input__focus&#45;&gt;create_follow_up_context</title>\n<path fill=\"none\" stroke=\"black\" d=\"M699.3,-524.47C686.46,-490.65 658.26,-416.43 642.75,-375.6\"/>\n<polygon fill=\"black\" stroke=\"black\" points=\"646.1,-374.55 639.27,-366.45 639.55,-377.04 646.1,-374.55\"/>\n</g>\n<!-- input__focus&#45;&gt;extract_page_data -->\n<g id=\"edge15\" class=\"edge\">\n<title>input__focus&#45;&gt;extract_page_data</title>\n<path fill=\"none\" stroke=\"black\" d=\"M710.7,-524.57C721.47,-482.83 747,-374.15 747,-281.7 747,-281.7 747,-281.7 747,-214.1 747,-176.22 726.24,-137.01 709.78,-111.87\"/>\n<polygon fill=\"black\" stroke=\"black\" points=\"712.87,-110.19 704.36,-103.89 707.08,-114.12 712.87,-110.19\"/>\n</g>\n<!-- input__focus&#45;&gt;generate_trend_report_context -->\n<g id=\"edge18\" class=\"edge\">\n<title>input__focus&#45;&gt;generate_trend_report_context</title>\n<path fill=\"none\" stroke=\"black\" d=\"M725.53,-524.51C748.92,-501.4 785,-458.38 785,-412.9 785,-412.9 785,-412.9 785,-148.5 785,-110.7 780.46,-100.53 766,-65.6 763.35,-59.2 759.85,-52.68 756.21,-46.64\"/>\n<polygon fill=\"black\" stroke=\"black\" points=\"759.2,-44.83 750.87,-38.29 753.31,-48.6 759.2,-44.83\"/>\n</g>\n<!-- input__report -->\n<g id=\"node4\" class=\"node\">\n<title>input__report</title>\n<polygon fill=\"none\" stroke=\"black\" stroke-dasharray=\"5,2\" points=\"642.8,-561.4 549.2,-561.4 549.2,-524.8 642.8,-524.8 642.8,-561.4\"/>\n<text text-anchor=\"middle\" x=\"596\" y=\"-537.3\" font-family=\"Helvetica,sans-Serif\" font-size=\"14.00\">input: report</text>\n</g>\n<!-- input__report&#45;&gt;format_trend_report_prompt -->\n<g id=\"edge3\" class=\"edge\">\n<title>input__report&#45;&gt;format_trend_report_prompt</title>\n<path fill=\"none\" stroke=\"black\" d=\"M571.49,-524.38C562.24,-517.7 551.55,-509.97 541.61,-502.79\"/>\n<polygon fill=\"black\" stroke=\"black\" points=\"543.76,-500.03 533.61,-497.01 539.66,-505.7 543.76,-500.03\"/>\n</g>\n<!-- input__report&#45;&gt;create_follow_up_context -->\n<g id=\"edge7\" class=\"edge\">\n<title>input__report&#45;&gt;create_follow_up_context</title>\n<path fill=\"none\" stroke=\"black\" d=\"M603.58,-524.36C606.93,-515.86 610.64,-505.45 613,-495.8 622.97,-454.97 627.93,-406.46 630.23,-376.27\"/>\n<polygon fill=\"black\" stroke=\"black\" points=\"633.71,-376.64 630.92,-366.42 626.73,-376.15 633.71,-376.64\"/>\n</g>\n<!-- input__sources -->\n<g id=\"node5\" class=\"node\">\n<title>input__sources</title>\n<polygon fill=\"none\" stroke=\"black\" stroke-dasharray=\"5,2\" points=\"530.8,-561.4 425.2,-561.4 425.2,-524.8 530.8,-524.8 530.8,-561.4\"/>\n<text text-anchor=\"middle\" x=\"478\" y=\"-537.3\" font-family=\"Helvetica,sans-Serif\" font-size=\"14.00\">input: sources</text>\n</g>\n<!-- input__sources&#45;&gt;format_trend_report_prompt -->\n<g id=\"edge4\" class=\"edge\">\n<title>input__sources&#45;&gt;format_trend_report_prompt</title>\n<path fill=\"none\" stroke=\"black\" d=\"M486.36,-524.38C489.02,-518.73 492.04,-512.34 494.95,-506.16\"/>\n<polygon fill=\"black\" stroke=\"black\" points=\"497.94,-508.03 499.04,-497.49 491.61,-505.04 497.94,-508.03\"/>\n</g>\n<!-- input__prompts -->\n<g id=\"node6\" class=\"node\">\n<title>input__prompts</title>\n<polygon fill=\"none\" stroke=\"black\" stroke-dasharray=\"5,2\" points=\"876.92,-561.4 769.08,-561.4 769.08,-524.8 876.92,-524.8 876.92,-561.4\"/>\n<text text-anchor=\"middle\" x=\"823\" y=\"-537.3\" font-family=\"Helvetica,sans-Serif\" font-size=\"14.00\">input: prompts</text>\n</g>\n<!-- input__prompts&#45;&gt;format_trend_report_prompt -->\n<g id=\"edge5\" class=\"edge\">\n<title>input__prompts&#45;&gt;format_trend_report_prompt</title>\n<path fill=\"none\" stroke=\"black\" d=\"M768.78,-526.89C765.82,-526.16 762.87,-525.46 760,-524.8 712.83,-514.01 660.25,-504.03 615.37,-496.12\"/>\n<polygon fill=\"black\" stroke=\"black\" points=\"616.07,-492.69 605.62,-494.42 614.87,-499.59 616.07,-492.69\"/>\n</g>\n<!-- input__prompts&#45;&gt;create_follow_up_context -->\n<g id=\"edge9\" class=\"edge\">\n<title>input__prompts&#45;&gt;create_follow_up_context</title>\n<path fill=\"none\" stroke=\"black\" d=\"M805.71,-524.47C771.85,-489.93 696.65,-413.24 657.23,-373.03\"/>\n<polygon fill=\"black\" stroke=\"black\" points=\"659.95,-370.8 650.45,-366.11 654.95,-375.7 659.95,-370.8\"/>\n</g>\n<!-- input__prompts&#45;&gt;extract_page_data -->\n<g id=\"edge13\" class=\"edge\">\n<title>input__prompts&#45;&gt;extract_page_data</title>\n<path fill=\"none\" stroke=\"black\" d=\"M823,-524.55C823,-499.69 823,-452.83 823,-412.9 823,-412.9 823,-412.9 823,-214.1 823,-165.78 777.28,-129.71 739.46,-108.14\"/>\n<polygon fill=\"black\" stroke=\"black\" points=\"741.32,-105.17 730.87,-103.43 737.96,-111.3 741.32,-105.17\"/>\n</g>\n<!-- input__prompts&#45;&gt;generate_trend_report_context -->\n<g id=\"edge16\" class=\"edge\">\n<title>input__prompts&#45;&gt;generate_trend_report_context</title>\n<path fill=\"none\" stroke=\"black\" d=\"M831.62,-524.61C842.83,-500.2 861,-454.28 861,-412.9 861,-412.9 861,-412.9 861,-148.5 861,-101.47 817.7,-64.91 782.27,-42.86\"/>\n<polygon fill=\"black\" stroke=\"black\" points=\"784.21,-39.94 773.83,-37.81 780.62,-45.95 784.21,-39.94\"/>\n</g>\n<!-- generate_trend_report&#45;&gt;create_follow_up_context -->\n<g id=\"edge20\" class=\"edge\">\n<title>generate_trend_report&#45;&gt;create_follow_up_context</title>\n<path fill=\"none\" stroke=\"black\" d=\"M549.03,-393.18C561.74,-386.15 576.54,-377.97 590.08,-370.48\"/>\n<polygon fill=\"black\" stroke=\"black\" points=\"591.76,-373.56 598.81,-365.65 588.37,-367.43 591.76,-373.56\"/>\n</g>\n<!-- create_follow_up_queries -->\n<g id=\"node9\" class=\"node\">\n<title>create_follow_up_queries</title>\n<path fill=\"#b4d8e4\" stroke=\"black\" d=\"M706.67,-299C706.67,-299 555.33,-299 555.33,-299 549.33,-299 543.33,-293 543.33,-287 543.33,-287 543.33,-274.4 543.33,-274.4 543.33,-268.4 549.33,-262.4 555.33,-262.4 555.33,-262.4 706.67,-262.4 706.67,-262.4 712.67,-262.4 718.67,-268.4 718.67,-274.4 718.67,-274.4 718.67,-287 718.67,-287 718.67,-293 712.67,-299 706.67,-299\"/>\n<text text-anchor=\"middle\" x=\"631\" y=\"-274.9\" font-family=\"Helvetica,sans-Serif\" font-size=\"14.00\">create_follow_up_queries</text>\n</g>\n<!-- create_follow_up_context&#45;&gt;create_follow_up_queries -->\n<g id=\"edge21\" class=\"edge\">\n<title>create_follow_up_context&#45;&gt;create_follow_up_queries</title>\n<path fill=\"none\" stroke=\"black\" d=\"M631.72,-327.58C631.64,-322.35 631.55,-316.47 631.46,-310.72\"/>\n<polygon fill=\"black\" stroke=\"black\" points=\"634.96,-310.78 631.3,-300.83 627.96,-310.89 634.96,-310.78\"/>\n</g>\n<!-- search_follow_ups -->\n<g id=\"node10\" class=\"node\">\n<title>search_follow_ups</title>\n<path fill=\"#b4d8e4\" stroke=\"black\" d=\"M504.67,-233.4C504.67,-233.4 395.32,-233.4 395.32,-233.4 389.32,-233.4 383.32,-227.4 383.32,-221.4 383.32,-221.4 383.32,-208.8 383.32,-208.8 383.32,-202.8 389.32,-196.8 395.32,-196.8 395.32,-196.8 504.67,-196.8 504.67,-196.8 510.67,-196.8 516.67,-202.8 516.67,-208.8 516.67,-208.8 516.67,-221.4 516.67,-221.4 516.67,-227.4 510.67,-233.4 504.67,-233.4\"/>\n<text text-anchor=\"middle\" x=\"450\" y=\"-209.3\" font-family=\"Helvetica,sans-Serif\" font-size=\"14.00\">search_follow_ups</text>\n</g>\n<!-- create_follow_up_queries&#45;&gt;search_follow_ups -->\n<g id=\"edge22\" class=\"edge\">\n<title>create_follow_up_queries&#45;&gt;search_follow_ups</title>\n<path fill=\"none\" stroke=\"black\" d=\"M580.58,-261.98C559.1,-254.43 533.84,-245.56 511.29,-237.63\"/>\n<polygon fill=\"black\" stroke=\"black\" points=\"512.48,-234.35 501.89,-234.33 510.16,-240.95 512.48,-234.35\"/>\n</g>\n<!-- format_results -->\n<g id=\"node14\" class=\"node\">\n<title>format_results</title>\n<path fill=\"#b4d8e4\" stroke=\"black\" d=\"M598.92,-167.8C598.92,-167.8 515.08,-167.8 515.08,-167.8 509.07,-167.8 503.07,-161.8 503.07,-155.8 503.07,-155.8 503.07,-143.2 503.07,-143.2 503.07,-137.2 509.07,-131.2 515.07,-131.2 515.07,-131.2 598.92,-131.2 598.92,-131.2 604.92,-131.2 610.92,-137.2 610.92,-143.2 610.92,-143.2 610.92,-155.8 610.92,-155.8 610.92,-161.8 604.92,-167.8 598.92,-167.8\"/>\n<text text-anchor=\"middle\" x=\"557\" y=\"-143.7\" font-family=\"Helvetica,sans-Serif\" font-size=\"14.00\">format_results</text>\n</g>\n<!-- search_follow_ups&#45;&gt;format_results -->\n<g id=\"edge23\" class=\"edge\">\n<title>search_follow_ups&#45;&gt;format_results</title>\n<path fill=\"none\" stroke=\"black\" d=\"M479.81,-196.38C491.52,-189.42 505.12,-181.33 517.62,-173.9\"/>\n<polygon fill=\"black\" stroke=\"black\" points=\"519.25,-177.01 526.05,-168.89 515.67,-171 519.25,-177.01\"/>\n</g>\n<!-- input__search_depth -->\n<g id=\"node11\" class=\"node\">\n<title>input__search_depth</title>\n<polygon fill=\"none\" stroke=\"black\" stroke-dasharray=\"5,2\" points=\"356.05,-299 215.95,-299 215.95,-262.4 356.05,-262.4 356.05,-299\"/>\n<text text-anchor=\"middle\" x=\"286\" y=\"-274.9\" font-family=\"Helvetica,sans-Serif\" font-size=\"14.00\">input: search_depth</text>\n</g>\n<!-- input__search_depth&#45;&gt;search_follow_ups -->\n<g id=\"edge10\" class=\"edge\">\n<title>input__search_depth&#45;&gt;search_follow_ups</title>\n<path fill=\"none\" stroke=\"black\" d=\"M331.68,-261.98C350.88,-254.54 373.41,-245.8 393.63,-237.96\"/>\n<polygon fill=\"black\" stroke=\"black\" points=\"394.81,-241.26 402.87,-234.38 392.28,-234.73 394.81,-241.26\"/>\n</g>\n<!-- input__index_locations -->\n<g id=\"node12\" class=\"node\">\n<title>input__index_locations</title>\n<polygon fill=\"none\" stroke=\"black\" stroke-dasharray=\"5,2\" points=\"525.67,-299 374.32,-299 374.32,-262.4 525.67,-262.4 525.67,-299\"/>\n<text text-anchor=\"middle\" x=\"450\" y=\"-274.9\" font-family=\"Helvetica,sans-Serif\" font-size=\"14.00\">input: index_locations</text>\n</g>\n<!-- input__index_locations&#45;&gt;search_follow_ups -->\n<g id=\"edge11\" class=\"edge\">\n<title>input__index_locations&#45;&gt;search_follow_ups</title>\n<path fill=\"none\" stroke=\"black\" d=\"M450,-261.98C450,-256.75 450,-250.87 450,-245.12\"/>\n<polygon fill=\"black\" stroke=\"black\" points=\"453.5,-245.23 450,-235.23 446.5,-245.23 453.5,-245.23\"/>\n</g>\n<!-- input__num_results -->\n<g id=\"node13\" class=\"node\">\n<title>input__num_results</title>\n<polygon fill=\"none\" stroke=\"black\" stroke-dasharray=\"5,2\" points=\"198.3,-299 65.7,-299 65.7,-262.4 198.3,-262.4 198.3,-299\"/>\n<text text-anchor=\"middle\" x=\"132\" y=\"-274.9\" font-family=\"Helvetica,sans-Serif\" font-size=\"14.00\">input: num_results</text>\n</g>\n<!-- input__num_results&#45;&gt;search_follow_ups -->\n<g id=\"edge12\" class=\"edge\">\n<title>input__num_results&#45;&gt;search_follow_ups</title>\n<path fill=\"none\" stroke=\"black\" d=\"M198.63,-264.19C201.45,-263.58 204.25,-262.98 207,-262.4 261.96,-250.83 324.17,-239 371.89,-230.19\"/>\n<polygon fill=\"black\" stroke=\"black\" points=\"372.39,-233.66 381.59,-228.41 371.12,-226.78 372.39,-233.66\"/>\n</g>\n<!-- format_results&#45;&gt;extract_page_data -->\n<g id=\"edge24\" class=\"edge\">\n<title>format_results&#45;&gt;extract_page_data</title>\n<path fill=\"none\" stroke=\"black\" d=\"M594.05,-130.78C609.18,-123.55 626.86,-115.09 642.9,-107.42\"/>\n<polygon fill=\"black\" stroke=\"black\" points=\"644.27,-110.65 651.79,-103.17 641.25,-104.33 644.27,-110.65\"/>\n</g>\n<!-- extract_page_data&#45;&gt;generate_trend_report_context -->\n<g id=\"edge25\" class=\"edge\">\n<title>extract_page_data&#45;&gt;generate_trend_report_context</title>\n<path fill=\"none\" stroke=\"black\" d=\"M703.09,-65.18C707.47,-59.26 712.46,-52.51 717.23,-46.05\"/>\n<polygon fill=\"black\" stroke=\"black\" points=\"719.95,-48.26 723.08,-38.14 714.32,-44.1 719.95,-48.26\"/>\n</g>\n</g>\n</svg>\n",
      "text/plain": [
       "<graphviz.graphs.Digraph at 0x43c75cd90>"
      ]
     },
     "execution_count": 183,
     "metadata": {},
     "output_type": "execute_result"
    }
   ],
   "execution_count": 183
  },
  {
   "metadata": {
    "ExecuteTime": {
     "end_time": "2025-04-26T23:47:51.814270Z",
     "start_time": "2025-04-26T23:47:51.810861Z"
    }
   },
   "cell_type": "code",
   "source": "report_data.keys()",
   "id": "42aa889c58862190",
   "outputs": [
    {
     "data": {
      "text/plain": [
       "dict_keys(['__SEQUENCE_ID', 'search_expansion_prompt', '__PRIOR_STEP', 'search_expansion', 'query_expansion', 'documents', 'extraction_prompt', 'extraction', 'report_grounding', 'relevant_citations', 'formatted_report_grounding', 'report_prompt', 'report', 'topic', 'focus'])"
      ]
     },
     "execution_count": 184,
     "metadata": {},
     "output_type": "execute_result"
    }
   ],
   "execution_count": 184
  },
  {
   "metadata": {
    "ExecuteTime": {
     "end_time": "2025-04-26T23:52:06.165625Z",
     "start_time": "2025-04-26T23:48:07.858967Z"
    }
   },
   "cell_type": "code",
   "source": [
    "trend_action, trend_result, trend_state = trend_report_app.run(\n",
    "    halt_after=[\"generate_trend_report_context\"],\n",
    "    inputs={\n",
    "        \"topic\": report_data['topic'],\n",
    "        \"focus\": report_data['focus'],\n",
    "        \"search_depth\":40,\n",
    "        \"num_results\": 10,\n",
    "        \"report\": report_data['report'],\n",
    "        \"sources\": report_data['formatted_report_grounding'],\n",
    "        \"prompts\": {\"trend_report_prompt\":trend_analysis_prompt,\n",
    "                    \"follow_up_context_prompt\":follow_up_context_prompt,\n",
    "                    \"extract_contextual_information_wikipedia\":extract_contextual_information_wikipedia,\n",
    "                    \"trend_interpolation_prompt\":trend_interpolation_prompt},\n",
    "        \"index_locations\": {'index_path': index_locations['index_path'],\n",
    "                           'index_table':'wiki_research'},\n",
    "\n",
    "\n",
    "    }\n",
    ")"
   ],
   "id": "4b97455526d5926",
   "outputs": [
    {
     "name": "stdout",
     "output_type": "stream",
     "text": [
      "     level                     title  \\\n",
      "247      0  Politics and controversy   \n",
      "56       1             United States   \n",
      "189      2            Funding system   \n",
      "94       1            Infrastructure   \n",
      "39       1                  Location   \n",
      "\n",
      "                                                  text  \\\n",
      "247  Politics influences the allocation of funds. T...   \n",
      "56   Based on a survey conducted by the United Stat...   \n",
      "189  One of the biggest concerns regarding universa...   \n",
      "94   The infrastructure by which individuals, house...   \n",
      "39   One can connect to the internet in a variety o...   \n",
      "\n",
      "                                             hierarchy  \\\n",
      "247  {'level_0': 'Politics and controversy', 'level...   \n",
      "56   {'level_0': 'Implementation', 'level_1': 'Unit...   \n",
      "189  {'level_0': 'Implementation', 'level_1': 'Unit...   \n",
      "94   {'level_0': 'Aspects', 'level_1': 'Infrastruct...   \n",
      "39   {'level_0': 'Aspects', 'level_1': 'Location', ...   \n",
      "\n",
      "                                hierarchy_string                       topic  \\\n",
      "247                     Politics and controversy  Rural Broadband in America   \n",
      "56                  Implementation|United States  Rural Broadband in America   \n",
      "189  Implementation|United States|Funding system  Rural Broadband in America   \n",
      "94                        Aspects|Infrastructure  Rural Broadband in America   \n",
      "39                              Aspects|Location  Rural Broadband in America   \n",
      "\n",
      "                                                 focus  \\\n",
      "247  Historical, current, and future challenges for...   \n",
      "56   Historical, current, and future challenges for...   \n",
      "189  Historical, current, and future challenges for...   \n",
      "94   Historical, current, and future challenges for...   \n",
      "39   Historical, current, and future challenges for...   \n",
      "\n",
      "                                query                              page_title  \\\n",
      "247   Broadband mapping rural America  Broadband mapping in the United States   \n",
      "56   \"Digital divide\" rural broadband             Broadband universal service   \n",
      "189  \"Digital divide\" rural broadband             Broadband universal service   \n",
      "94   \"Digital divide\" rural broadband                          Digital divide   \n",
      "39   \"Digital divide\" rural broadband                          Digital divide   \n",
      "\n",
      "     section_idx  _distance                                   follow_up_area  \\\n",
      "247            2   0.420900  Challenges faced historically and/or currently:   \n",
      "56            14   0.341309                                      Status Quo:   \n",
      "189           17   0.432376                               Drivers of Trends:   \n",
      "94             3   0.440064                                         Outlook:   \n",
      "39             5   0.336154                           Historical Conditions:   \n",
      "\n",
      "                                       follow_up_focus     _score  norm_score  \\\n",
      "247  Inaccurate broadband availability data and map...  15.599720    0.793338   \n",
      "56   Current broadband deployment rates in rural vs...  10.929375    0.222873   \n",
      "189  Federal and state policies and funding mechani...   9.245812    0.355128   \n",
      "94   The potential impact of new technologies, such...  14.576960    0.513238   \n",
      "39   Early telecommunications infrastructure develo...  10.707708    0.455397   \n",
      "\n",
      "     norm_distance  fusion_score  norm_global_score  section_start  \n",
      "247       0.805022      0.799180           0.606763              2  \n",
      "56        0.861544      0.542209           0.331239             14  \n",
      "189       0.980797      0.667962           0.646489             17  \n",
      "94        0.937285      0.725261           0.673103              3  \n",
      "39        0.824835      0.640116           0.313394              5  \n",
      "15\n",
      "(43, 19)\n",
      "   level                     title  \\\n",
      "0      0  Politics and controversy   \n",
      "1      1             United States   \n",
      "2      2            Funding system   \n",
      "3      1            Infrastructure   \n",
      "4      1                  Location   \n",
      "\n",
      "                                                text  \\\n",
      "0  Politics influences the allocation of funds. T...   \n",
      "1  Based on a survey conducted by the United Stat...   \n",
      "2  One of the biggest concerns regarding universa...   \n",
      "3  The infrastructure by which individuals, house...   \n",
      "4  One can connect to the internet in a variety o...   \n",
      "\n",
      "                                           hierarchy  \\\n",
      "0  {'level_0': 'Politics and controversy', 'level...   \n",
      "1  {'level_0': 'Implementation', 'level_1': 'Unit...   \n",
      "2  {'level_0': 'Implementation', 'level_1': 'Unit...   \n",
      "3  {'level_0': 'Aspects', 'level_1': 'Infrastruct...   \n",
      "4  {'level_0': 'Aspects', 'level_1': 'Location', ...   \n",
      "\n",
      "                              hierarchy_string                       topic  \\\n",
      "0                     Politics and controversy  Rural Broadband in America   \n",
      "1                 Implementation|United States  Rural Broadband in America   \n",
      "2  Implementation|United States|Funding system  Rural Broadband in America   \n",
      "3                       Aspects|Infrastructure  Rural Broadband in America   \n",
      "4                             Aspects|Location  Rural Broadband in America   \n",
      "\n",
      "                                               focus  \\\n",
      "0  Historical, current, and future challenges for...   \n",
      "1  Historical, current, and future challenges for...   \n",
      "2  Historical, current, and future challenges for...   \n",
      "3  Historical, current, and future challenges for...   \n",
      "4  Historical, current, and future challenges for...   \n",
      "\n",
      "                              query                              page_title  \\\n",
      "0   Broadband mapping rural America  Broadband mapping in the United States   \n",
      "1  \"Digital divide\" rural broadband             Broadband universal service   \n",
      "2  \"Digital divide\" rural broadband             Broadband universal service   \n",
      "3  \"Digital divide\" rural broadband                          Digital divide   \n",
      "4  \"Digital divide\" rural broadband                          Digital divide   \n",
      "\n",
      "   section_idx  _distance                                   follow_up_area  \\\n",
      "0            2   0.420900  Challenges faced historically and/or currently:   \n",
      "1           14   0.341309                                      Status Quo:   \n",
      "2           17   0.432376                               Drivers of Trends:   \n",
      "3            3   0.440064                                         Outlook:   \n",
      "4            5   0.336154                           Historical Conditions:   \n",
      "\n",
      "                                     follow_up_focus     _score  norm_score  \\\n",
      "0  Inaccurate broadband availability data and map...  15.599720    0.793338   \n",
      "1  Current broadband deployment rates in rural vs...  10.929375    0.222873   \n",
      "2  Federal and state policies and funding mechani...   9.245812    0.355128   \n",
      "3  The potential impact of new technologies, such...  14.576960    0.513238   \n",
      "4  Early telecommunications infrastructure develo...  10.707708    0.455397   \n",
      "\n",
      "   norm_distance  fusion_score  norm_global_score  section_start  \n",
      "0       0.805022      0.799180           0.606763              2  \n",
      "1       0.861544      0.542209           0.331239             14  \n",
      "2       0.980797      0.667962           0.646489             17  \n",
      "3       0.937285      0.725261           0.673103              3  \n",
      "4       0.824835      0.640116           0.313394              5  \n",
      "15\n",
      "Extracting page 0\n",
      "Extracting page 1\n",
      "Extracting page 2\n",
      "Extracting page 3\n",
      "Extracting page 4\n",
      "Extracting page 5\n",
      "Extracting page 6\n",
      "Extracting page 7\n",
      "Extracting page 8\n",
      "Extracting page 9\n",
      "Extracting page 10\n",
      "Extracting page 11\n",
      "Extracting page 12\n",
      "Extracting page 13\n",
      "Extracting page 14\n"
     ]
    }
   ],
   "execution_count": 185
  },
  {
   "metadata": {
    "ExecuteTime": {
     "end_time": "2025-04-26T23:52:51.658310Z",
     "start_time": "2025-04-26T23:52:51.656309Z"
    }
   },
   "cell_type": "code",
   "source": "trend_trace = trend_state.get_all()",
   "id": "244a7c1dcda8f6a1",
   "outputs": [],
   "execution_count": 186
  },
  {
   "metadata": {
    "ExecuteTime": {
     "end_time": "2025-04-26T23:52:51.844129Z",
     "start_time": "2025-04-26T23:52:51.842040Z"
    }
   },
   "cell_type": "code",
   "source": "trend_trace.keys()",
   "id": "61e03aa6a5cdd4ae",
   "outputs": [
    {
     "data": {
      "text/plain": [
       "dict_keys(['__SEQUENCE_ID', 'formatted_trend_report_prompt', '__PRIOR_STEP', 'trend_report', 'follow_ups', 'follow_up_groups', 'follow_up_results', 'formatted_documents', 'extracted_page_data', 'formatted_extraction_prompt', 'trend_report_wiki_context', 'formatted_trend_prompt'])"
      ]
     },
     "execution_count": 187,
     "metadata": {},
     "output_type": "execute_result"
    }
   ],
   "execution_count": 187
  },
  {
   "metadata": {
    "ExecuteTime": {
     "end_time": "2025-04-26T23:52:52.002273Z",
     "start_time": "2025-04-26T23:52:52.000671Z"
    }
   },
   "cell_type": "code",
   "source": "print(trend_trace['trend_report'])",
   "id": "b84426ddac7759d9",
   "outputs": [
    {
     "name": "stdout",
     "output_type": "stream",
     "text": [
      "## The Persistent Digital Divide\n",
      "\n",
      "1.  Rural areas lag behind urban and suburban areas in broadband deployment (RL33816(6)).\n",
      "2.  As of year-end 2017, 24% of Americans in rural areas and 32% of Americans in Tribal lands lacked coverage from fixed terrestrial 25 Mbps/3 Mbps broadband, compared to only 1.5% of Americans in urban areas (RL33816(6)).\n",
      "3.  Rural areas continue to lag behind urban areas in mobile broadband deployment (RL33816(6)).\n",
      "4.  In 2017, 58% of adults in rural areas said they have a high-speed broadband connection at home, as opposed to 67% of adults in urban areas and 70% of adults in suburban areas (RL33816(6)).\n",
      "5.  A 2017 Census Bureau survey reported 72.9% of rural residents reporting using the internet, versus 78.5% of urban residents (RL33816(6)).\n",
      "6.  Rural residents tend to have lower adoption rates for broadband than urban residents (R47017(2)).\n",
      "7.  The \"digital divide\" refers to the gap between Americans who have access to telecommunications and information technologies and those who do not (RL30719(5)).\n",
      "\n",
      "## Factors Hindering Rural Broadband Deployment\n",
      "\n",
      "1.  The comparatively lower population density of rural areas is likely the major reason why broadband is less deployed than in more highly populated suburban and urban areas (RL33816(6)).\n",
      "2.  For wireline broadband technologies, the greater the geographical distances among customers, the larger the cost to serve those customers (RL33816(6), R47017(2)).\n",
      "3.  The terrain of rural areas can also be a hindrance, in that it is more expensive to deploy broadband technologies in a mountainous or heavily forested area (RL33816(6), R47017(2)).\n",
      "4.  An additional added cost factor for remote areas can be the expense of \"backhaul\" (e.g., the \"middle mile\"), which refers to the installation of a dedicated line that transmits a signal to and from an internet backbone, which is typically located in or near an urban area (RL33816(6), R47506(10)).\n",
      "5.  Another important broadband availability issue is the extent to which there are multiple broadband providers offering competition and consumer choice (RL33816(6)). Typically, multiple providers are more prevalent in urban than in rural areas (RL33816(6)).\n",
      "\n",
      "## Federal Funding and Initiatives\n",
      "\n",
      "1.  The federal government has provided financial assistance to give telecommunications providers the capital to invest in rural telecommunications infrastructure and to maintain an adequate return on their investment (R42524(5)).\n",
      "2.  There are two primary ongoing federal vehicles that direct federal money to fund broadband infrastructure: the broadband and telecommunications programs at the Rural Utilities Service (RUS) of the U.S. Department of Agriculture and the Universal Service Fund (USF) programs under the Federal Communications Commission (FCC) (RL30719(5), R42524(5)).\n",
      "3.  Federal programs and policies play a significant role in the development of rural broadband markets, given their often-challenging economics (R46108(10)).\n",
      "4.  The FCC plans to commit \\$20.4 billion through the Rural Digital Opportunity Fund (RDOF) to bring high-speed fixed broadband service to rural homes and small businesses in two phases (R46501(3)).\n",
      "\n",
      "## State and Local Initiatives\n",
      "\n",
      "1.  State governments have taken action to ensure that all residents, regardless of where they live or socioeconomic factors that may inhibit adoption, have access to broadband (R46307(18)).\n",
      "2.  While many state broadband initiatives focus on broadband infrastructure deployment, some address other aspects, such as adoption, mapping, feasibility, digital equity and digital inclusion, gigabit broadband initiatives, and the homework gap (R46307(18)).\n",
      "3.  State efforts may provide models for any future federal initiatives (R46307(6)).\n",
      "4.  In some areas, states have sought out alternatives, such as entering into public-private partnerships, to help expand broadband to their communities (R46307(21)).\n",
      "\n",
      "## Challenges and Considerations for the Future\n",
      "\n",
      "1.  Smaller, rural, rate-of-return carriers are particularly dependent on USF subsidies and have expressed concern that the reforms that the USF Order will implement could place them under financial hardship (R42524(27)).\n",
      "2.  Improving the quality of broadband deployment data has become an issue of congressional interest, as policymakers recognize that more accurate broadband availability maps could help ensure that federal broadband programs target unserved areas of the country that are most in need of assistance (RL30719(13)).\n",
      "3.  One of the major criticisms of the FCC's Form 477 National Broadband Map is that broadband availability can be overstated because fixed broadband deployment data are collected at the census block level (RL30719(13)).\n",
      "4.  Although fiber may be the preferred technology by consumers and providers, other technologies may be best suited for particular areas (e.g., LEO satellites in remote areas) and each community has different challenges a particular technology might be able to address (R47506(10)).\n",
      "\n"
     ]
    }
   ],
   "execution_count": 188
  },
  {
   "metadata": {
    "ExecuteTime": {
     "end_time": "2025-04-26T23:52:52.298942Z",
     "start_time": "2025-04-26T23:52:52.296996Z"
    }
   },
   "cell_type": "code",
   "source": "print(trend_trace['trend_report_wiki_context'])",
   "id": "d74f0834ae6946d4",
   "outputs": [
    {
     "name": "stdout",
     "output_type": "stream",
     "text": [
      "## The Persistent Digital Divide\n",
      "\n",
      "In 2011, approximately one-third of American households lacked a broadband connection (NTIA, 2011). Broadband adoption rates differed significantly by race; White (68%) and Asian non-Hispanics (69%) had higher rates than Black non-Hispanics (50%) and Hispanics (45%) (NTIA, 2011). Rural America lagged behind urban areas in broadband access, with a 60% adoption rate compared to 70% in urban areas (NTIA, 2011). As of June 2020, approximately 4 out of 5 Americans have internet access, but disparities exist based on demographics like geography and socioeconomic status (Digital_divide_in_the_United_States(1)(1)). Approximately 23 million Americans do not have access to a broadband connection at home, representing 23% of the population (Digital_divide_in_the_United_States(1)(1)). In 2021, 77% of Americans had home broadband according to Pew Research Center (Rural_internet(1)(1)). In 2017, only 73.6% of the rural population had access to broadband services at 25 Mbps (Rural_internet(3)(1)). Only about two-thirds of rural Americans claimed to have a broadband internet connection at home in 2019 (Rural_internet(4)(1)).\n",
      "\n",
      "## Factors Hindering Rural Broadband Deployment\n",
      "\n",
      "High costs of infrastructure deployment in rural areas are a significant barrier (Broadband_universal_service(1)(1), Digital_divide(2)(1), Digital_divide_in_the_United_States(1)(2), Global_digital_divide(2)(1), Internet_access(1)(1), Internet_in_the_United_States(1)(1), Universal_Service_Fund(1)(1)). Low population density and geographic challenges complicate broadband expansion (Broadband_universal_service(1)(1), Digital_divide(1)(1), Digital_divide_in_the_United_States(1)(2), Global_digital_divide(2)(1), Internet_access(1)(1), Internet_in_the_United_States(1)(1), Universal_Service_Fund(1)(1)). Financial sustainability of rural broadband providers is a concern (Broadband_universal_service(1)(1), Digital_divide(2)(1), Digital_divide_in_the_United_States(1)(2), Global_digital_divide(2)(1), Internet_access(1)(1), Internet_in_the_United_States(1)(1), Universal_Service_Fund(1)(1)). Inaccurate broadband availability data and mapping contribute to misinformed decisions (Digital_divide(1)(1), Digital_divide_in_the_United_States(1)(2), Global_digital_divide(2)(1), Internet_access(1)(1), Internet_in_the_United_States(1)(1), Universal_Service_Fund(1)(1)). The “rural-rural divide” exists, with some rural areas lacking connectivity even within the same region (Broadband_universal_service(1)(1), Digital_divide(1)(1), Digital_divide_in_the_United_States(1)(2), Global_digital_divide(2)(1), Internet_access(1)(1), Internet_in_the_United_States(1)(1), Universal_Service_Fund(1)(1)). Affordability of broadband for rural residents is a major obstacle (Broadband_universal_service(1)(1), Digital_divide(2)(1), Digital_divide_in_the_United_States(1)(2), Global_digital_divide(2)(1), Internet_access(1)(1), Internet_in_the_United_States(1)(1), Universal_Service_Fund(1)(1)). The financial health of rate-of-return carriers is at risk due to limited profitability in rural markets (Digital_divide(2)(1), Digital_divide_in_the_United_States(1)(2), Internet_access(1)(1), Universal_Service_Fund(1)(1)). The Rural Broadband Association points to expensive permits and procedural delays as obstacles to universal broadband access (Internet_in_the_United_States(1)(1)).\n",
      "\n",
      "## Federal Funding and Initiatives\n",
      "\n",
      "The American Recovery and Reinvestment Act of 2009 (ARRA) required the FCC to draft a National Broadband Plan, aiming to ensure basic broadband connectivity at affordable prices (Broadband_universal_service(1)(1)). The Rural Digital Opportunity Fund (RDOF) is an initiative designed to provide funding for broadband expansion (Broadband_universal_service(1)(1), Digital_divide(2)(1), Digital_divide_in_the_United_States(1)(2), Global_digital_divide(2)(1), Internet_access(1)(1), Universal_Service_Fund(1)(1)). The Telecommunications Act of 1996 established a Universal Service Fund (USF) to support digital information age goals (Internet_in_the_United_States(1)(1)). The Rural Health Care Program (RHC) provides funding for telecommunications services, including broadband Internet access, to rural health care providers (Internet_in_the_United_States(2)(2)). Over $417 million has been allocated for the construction of 62 statewide or regional broadband telehealth networks in 42 states and three U.S. territories under the Rural Health Care Pilot Program (Internet_in_the_United_States(2)(2)). The Healthcare Connect Fund (HCF) offers a 65% discount on eligible expenses related to broadband Internet connectivity for rural health care providers (Internet_in_the_United_States(2)(3)). The American Rescue Plan Act of 2021 allocated $3.2 billion to subsidize broadband access for low-income households during the COVID-19 pandemic (Internet_in_the_United_States(2)(3)). Congress passed the Infrastructure Investment and Jobs Act in 2021, significantly increasing funding for rural broadband deployment (document_id(1)(6)).\n",
      "\n",
      "## State and Local Initiatives\n",
      "\n",
      "State broadband infrastructure deployment programs are underway (Broadband_universal_service(1)(1), Digital_divide(2)(1), Digital_divide_in_the_United_States(3)(1), Global_digital_divide(2)(1), Internet_access(1)(1), Universal_Service_Fund(1)(1)). Public-private partnerships are being explored for broadband expansion (Broadband_universal_service(1)(1), Digital_divide(2)(1), Digital_divide_in_the_United_States(3)(2), Global_digital_divide(2)(1), Internet_access(1)(1), Universal_Service_Fund(1)(1)). States developed initiatives before national-wide action aimed to actively develop an information infrastructure and catch up to other countries in respect to the number of households with broadband internet (Digital_divide_in_the_United_States(3)(1)). State and local broadband initiatives are currently in place, including Broadband Commissions, Task Force, or Authority established through legislation or executive order (Digital_divide_in_the_United_States(3)(1)). The FCC granted a preemption petition in North Carolina and Tennessee, allowing municipalities to enter the broadband market (Internet_in_the_United_States(1)(1)). The \"Dig Once\" policy requires cities to implement broadband conduits during road construction projects (Internet_in_the_United_States(1)(1)). Counties have issued ordinances or grants to waive fees associated with building infrastructure (Internet_in_the_United_States(1)(1)).\n",
      "\n",
      "## Challenges and Considerations for the Future\n",
      "\n",
      "The FCC planned to eliminate rate-of-return regulation in the Universal Service Fund (USF), potentially impacting the profits of ILECs and their incentives to provide broadband universal service (Broadband_universal_service(1)(1)). Private investors do not always have the strongest incentives to deploy broadband in rural and underserved communities at an affordable price (National_Broadband_Plan_United_States(1)(2)).\n",
      "\n",
      "## Case Studies:\n",
      "\n",
      "### Comcast Internet Essentials (Digital Inclusion Initiative)\n",
      "\n",
      "*   **Current Conditions/Situation:** Public-private partnerships are used to expand broadband access (Digital_divide_in_the_United_States(3)(2)).\n",
      "*   **Problem:** The digital divide persists, with many low-income households lacking affordable broadband access.\n",
      "*   **Solution:** Comcast Internet Essentials provides low-cost internet service, computer equipment, and digital literacy training to eligible low-income families.\n",
      "*   **Outcome:** Aims to bridge the digital divide by providing affordable access and digital skills to underserved communities.\n",
      "*   **Trend:** Initiatives and solutions to challenges.\n",
      "\n",
      "### EAS programs (Connectivity Improvement)\n",
      "\n",
      "*   **Current Conditions/Situation:** EAS programs create \"flat-rate calling zones\" to improve connectivity (Rural_internet(5)(1)).\n",
      "*   **Problem:** Rural areas often face higher telecommunication costs and limited connectivity options.\n",
      "*   **Solution:** EAS programs establish flat-rate calling zones to reduce long-distance charges and improve communication access.\n",
      "*   **Outcome:** Enhanced connectivity and reduced costs for rural residents, promoting social and economic inclusion.\n",
      "*   **Trend:** Initiatives and solutions to challenges.\n",
      "\n"
     ]
    }
   ],
   "execution_count": 189
  },
  {
   "metadata": {
    "ExecuteTime": {
     "end_time": "2025-04-26T23:53:00.163937Z",
     "start_time": "2025-04-26T23:53:00.157276Z"
    }
   },
   "cell_type": "code",
   "source": [
    "with open(trace_data.joinpath(short_name + '_trends.json'), 'w') as f:\n",
    "    json.dump(trend_trace, f)\n",
    "with open(document_data.joinpath(short_name + '_trend_report.md'), 'w') as f:\n",
    "    f.write(trend_trace['trend_report'])\n",
    "with open(document_data.joinpath(short_name + '_trend_report_wiki.md'), 'w') as f:\n",
    "    f.write(trend_trace['trend_report_wiki_context'])"
   ],
   "id": "6457252dfb0c4dc",
   "outputs": [],
   "execution_count": 190
  },
  {
   "metadata": {
    "ExecuteTime": {
     "end_time": "2025-04-26T23:53:00.470599Z",
     "start_time": "2025-04-26T23:53:00.468158Z"
    }
   },
   "cell_type": "code",
   "source": "trace_data",
   "id": "4b8e893b22df9bcf",
   "outputs": [
    {
     "data": {
      "text/plain": [
       "PosixPath('wonky_data/data/research_data')"
      ]
     },
     "execution_count": 191,
     "metadata": {},
     "output_type": "execute_result"
    }
   ],
   "execution_count": 191
  },
  {
   "metadata": {
    "ExecuteTime": {
     "end_time": "2025-04-26T23:53:02.088529Z",
     "start_time": "2025-04-26T23:53:02.085648Z"
    }
   },
   "cell_type": "code",
   "source": "document_data",
   "id": "ff599e130ccf69da",
   "outputs": [
    {
     "data": {
      "text/plain": [
       "PosixPath('wonky_data/documents')"
      ]
     },
     "execution_count": 192,
     "metadata": {},
     "output_type": "execute_result"
    }
   ],
   "execution_count": 192
  },
  {
   "metadata": {
    "ExecuteTime": {
     "end_time": "2025-04-26T23:53:02.272987Z",
     "start_time": "2025-04-26T23:53:02.270915Z"
    }
   },
   "cell_type": "code",
   "source": "print(trend_trace['formatted_extraction_prompt'])",
   "id": "f4ad5e4e77839c31",
   "outputs": [
    {
     "name": "stdout",
     "output_type": "stream",
     "text": [
      "Extract relevant information from the article that provides context and key details about the topic: Rural Broadband in America, that has  a primary focus driven by: Historical, current, and future challenges for rural broadband and connectivity in America, and areas of interest that provide useful context.\n",
      "\n",
      "Use the areas of interest for context on what is important for you to extract. It is absolutely critical that you do not introduce yourself, your response, or provide a conclusion or outro. Just respond with the extracted information.\n",
      "\n",
      "-----\n",
      "\n",
      "# Areas of Interest:\n",
      "## Historical Conditions:\n",
      "\n",
      "-   Early telecommunications infrastructure development in rural areas.\n",
      "-   Initial federal and state efforts to promote rural telephony.\n",
      "-   Evolution of broadband technologies and their availability in urban vs. rural areas.\n",
      "-   Historical funding mechanisms for rural telecommunications.\n",
      "\n",
      "## Status Quo:\n",
      "\n",
      "-   Current broadband deployment rates in rural vs. urban areas.\n",
      "-   Adoption rates of broadband among rural residents.\n",
      "-   The role of RUS and USF programs in current broadband deployment.\n",
      "-   State and local broadband initiatives currently in place.\n",
      "-   The impact of the COVID-19 pandemic on the need for rural broadband.\n",
      "\n",
      "## Drivers of Trends:\n",
      "\n",
      "-   Technological advancements in broadband technologies.\n",
      "-   Economic incentives and disincentives for private sector investment in rural broadband.\n",
      "-   Federal and state policies and funding mechanisms.\n",
      "-   Changing consumer demand for broadband services.\n",
      "-   Demographic shifts and population density in rural areas.\n",
      "\n",
      "## Challenges faced historically and/or currently:\n",
      "\n",
      "-   High costs of infrastructure deployment in rural areas.\n",
      "-   Low population density and geographic challenges.\n",
      "-   Financial sustainability of rural broadband providers.\n",
      "-   Inaccurate broadband availability data and mapping.\n",
      "-   The \"rural-rural divide\" in broadband access.\n",
      "-   Affordability of broadband for rural residents.\n",
      "-   The financial health of rate-of-return carriers.\n",
      "\n",
      "## Initiatives and solutions to challenges:\n",
      "\n",
      "-   RUS loan and grant programs.\n",
      "-   USF programs, including the High Cost Program and Connect America Fund.\n",
      "-   The Rural Digital Opportunity Fund (RDOF).\n",
      "-   State broadband infrastructure deployment programs.\n",
      "-   Public-private partnerships for broadband expansion.\n",
      "-   Digital inclusion initiatives.\n",
      "-   Leveraging existing infrastructure assets.\n",
      "\n",
      "## Outlook:\n",
      "\n",
      "-   Future funding and policy changes related to rural broadband.\n",
      "-   The potential impact of new technologies, such as LEO satellites.\n",
      "-   The role of state and local initiatives in bridging the digital divide.\n",
      "-   The long-term economic and social consequences of inadequate rural broadband.\n",
      "-   The future of rate-of-return carriers and their role in rural broadband.\n",
      "\n",
      "\n",
      "-----\n",
      "\n",
      "# Article:\n",
      "#### Title: Universal Service Fund\n",
      "\n",
      "- The Universal Service Fund was first codified in the Telecommunications Act of 1996, the first major rewrite of the Communications Act of 1934. The act addresses new challenges and opportunities of the digital information age, with the goal of promoting an economic environment conducive for the growth of new information technology. It also further developed the meaning and implementation of universal service. The act calls for the creation of a joint federal-state board to make recommendations to the FCC on defining federal universal services and set time tables. The act also set out immediate priorities of universal service. These include quality and reasonably priced services, access to advanced telecommunication services, access for rural, low-income and high-cost regions, equitable and nondiscriminatory service, specific and predictable price structure, access of advanced telecommunication services for schools and health care and libraries (Sec. 254(b)(1)-(7)). The act provided ability in the constantly changing telecommunication environment to periodically revisit and adjust universal service, while setting core principles (Sec. 254(c)). The 1996 act also \"mandated the creation of the universal service fund (USF) into which all telecommunications providers are required to contribute a percentage of their interstate and international end-user telecommunications revenues\".\n",
      "Increased competition and universal service were legislatively addressed and codified with the Telecommunications Act of 1996. The major goals of Universal Service as mandated by the 1996 Act are as follows:\n",
      "\n",
      "Promote the availability of quality services at just, reasonable and affordable rates for all consumers\n",
      "Increase nationwide access to advanced telecommunications services\n",
      "Advance the availability of such services to all consumers, including those in low income, rural, insular, and high cost areas, at rates that are reasonably comparable to those charged in urban areas\n",
      "Increase access to telecommunications and advanced services in schools, libraries and rural health care facilities\n",
      "Provide equitable and non-discriminatory contributions from all providers of telecommunications services to the fund supporting universal service programs\n",
      "The 1996 Act states that all providers of telecommunications services should contribute to federal universal service in an equitable and nondiscriminatory manner; there should be specific, predictable, and sufficient Federal and State mechanisms to preserve and advance universal service; all schools, classrooms, health care providers, and libraries should, generally, have access to advanced telecommunications services; and finally, that the Federal-State Joint Board and the FCC should determine those other principles that, consistent with the 1996 Act, are necessary to protect the public interest.\n",
      "In the past, only long-distance companies made contributions to support the federal Universal Service Fund. The Telecommunications Act of 1996 expanded the types of companies contributing to the Universal Service Fund. (Universal_Service_Fund(1)(1))\n",
      "- The largest and most complex of the four programs, the high cost program subsidizes telecommunications services in rural and remote areas which are more expensive to connect to networks. The program paid out $4.2 billion in subsidies to telecommunications companies in 2022,: 20  with a goal of making telecommunications affordable to rural and remote areas. The program has been criticized as wasteful, granting large sums of money to telecommunications companies while having little effect on access.\n",
      "To determine eligibility for the high-cost program, each US state is broken into geographically into one or more study areas. A study area is defined by each study area's incumbent local exchange carrier, the modern successor of the local telephone monopoly. Incumbent local exchange carriers are sub-classified into those that operate on rate-of-return (ROR) model, and those subject to price caps (PC).\n",
      "According to the 1996 Telecommunications Act, in order to be eligible for USF support, carriers must be legally designated as an Eligible Telecommunications Carrier (ETC) and take on a legal obligation to serve everyone in a particular area. State utility commissions are primarily responsible for defining both the number of eligible telecommunications carriers and the areas that they must serve.\n",
      "\n",
      "During the time of the Bell system and up through the 1980s, the traditional business model for an incumbent local exchange carrier was operating as a rate-of-return (ROR) carrier. These companies operated as regulated monopolies with profits limited to set percentage of total investment. As of 2019, companies that continue to operate as rate-of-return carriers are generally small, rural carriers serving 5% or less of households in the United States. About $2.5 billion in high-cost support goes to these rate-of-return carriers. Rate-of-return companies have two options for how to receive high-cost funds. First, they can opt for the traditional cost-accounting mechanism, under which the high cost will reimburse the company for their deployment costs plus an additional 10.25% return on investment. Alternatively, rate-of-return companies can choose model-based support, where costs are estimated in advance. The type of subsidy across rate-of-return study areas is split between the two support mechanisms, with about 40% of rate-of-return study areas operating under the traditional mechanism and 60% opting for model-based support.\n",
      "In response to the criticism of the rate-of-return model, the FCC made efforts to encourage carriers to voluntarily move to a price cap (PC) approach. Beginning in 1990, the FCC began applying a Price Cap approach under which local exchange carriers would be allowed to adjust rates within the price cap without lengthy regulatory filings and deliberation. (Universal_Service_Fund(2)(1))\n",
      "- From 1998 to 2009, the high-cost fund supported the programs detailed below, which are aimed at telephone service. With the advent of the Connect America Fund, most of these programs have been phased out.\n",
      "Legacy High cost programs:\n",
      "\n",
      "High Cost Loop Support (HCLS) - The longest running High Cost fund. According to the benchmark established in 1988, telephone companies with fixed costs of more than 115% of the national average would have 65% of excess costs covered, and fixed costs above 150% of the national average would receive a 75% subsidy. In dollar terms high cost loop support grew from $56 million in 1986 to $1.47 billion in 2010. Historically available to all telephone carriers, the fund's eligibility was later narrowed to rural telephone carriers. Safety Valve Support (SVS) is a supplement to HCLS. Safety Net Additive Support (SNAS) is another former supplement to HCLS.\n",
      "High Cost Model Support (HCMS) - Another former program.\n",
      "Local Switching Support (LSS) - Another former program.\n",
      "Long Term Support (LTS) - Another former program, ended in July 2004 and replaced by the ICLS.\n",
      "Interstate Common Line Support (ICLS) - Another former legacy High Cost fund going to rate-of-return carriers. For rate-of return carriers, costs to maintain infrastructure between the consumer and the local exchange are assumed to be 25% intrastate and 75% interstate. If federal subscriber line charges (SLC) and the bills paid by customers do not cover the companies' interstate common line costs, the ICLS will make up the difference. This original fund covered telephone service, but in practice covered infrastructure that could often also be used for broadband. As originally formulated, the fund could not be used for broadband-only service. Then in 2016 subsidies were expanded to also include broadband-only service, and renamed the Connect America Fund Broadband Loop Support (CAF BLS).\n",
      "Interstate Access Support (IAS) - Another former program, analogous to ICLS, but for Price Cap Carriers. (Universal_Service_Fund(2)(2))\n",
      "- As part of the National Broadband Plan proposed in March 2010, the FCC proposed reorganizing the High Cost program into a new \"Connect America Fund\", which will include both voice and 4 Mbit/s internet connectivity. On October 27, 2011, the FCC approved a six-year transfer process that would transition the money from the Universal Service Fund High-Cost Program into the new $4.5 billion a year Connect America Fund, effectively putting an end to the USF High-Cost Fund by 2018.\n",
      "Post-2010 High cost programs:\n",
      "\n",
      "Frozen High Cost Support (FHCS) - After the announcement of the Connect America Fund, the existing subsidies to Price Cap Carriers and to Competitive Local Exchange Carriers was frozen at 2011 levels.\n",
      "Intercarrier Compensation Recovery (ICC) - Another legacy High Cost fund. In 2011, the FCC announced its intention to gradually move intercarrier compensation to a Bill and keep model. Traditionally, local exchange carriers would charge other carriers for calls terminating through their network. The ICC was set up to partially replace the revenue that local exchange carriers previously collected from intercarrier compensation.\n",
      "Connect America Fund, Phase I Incremental Support - This program, also known simply as Incremental Support was a program aimed at accelerating broadband deployment active from 2012 to 2014. In 2012, during \"Phase I\" of the Connect America Fund, $115 million in subsidies were given out to build out broadband in 37 states, with $71.9 million going to Frontier Communications and $35 million to Century Link, with AT&T and Verizon declining to participate. In 2013, also during \"Phase I\", CenturyLink accepted another $54 million, and AT&T accepted $100 million.\n",
      "Connect America Fund Phase II Model - In March 2014, the FCC approved \"Connect America Fund Phase II Model\", moving $1.8 billion a year in funding from telephone subsidies to broadband, and clarifying the specifics of the funding process. Under the framework the FCC approved, incumbent carriers have priority access to subsidies, but if the funds are declined, the funds are allocated by a competitive bidding process. The FCC also proposed upping the minimum speed requirement from 4 Mbit/s to 10 Mbit/s. In May 2014, the 10th circuit court of appeals upheld the shift in funds in the face of a legal challenge by telephone companies.\n",
      "Connect America Fund Broadband Loop Support (CAF BLS) - Rate-of-return carriers that did elect to adopt ACAM II support were moved to the legacy mechanism CAF BLS.\n",
      "Connect America Fund Phase II Auction (CAFII Auc) - In 2018, the FCC conducted an auction awarding 103 companies a total of $1.49 billion over 10 years. This included all areas which were not covered by the previous Connect America Fund Phase II Model.\n",
      "Alternative Connect America Model (ACAM)/Revised Alternative Connect America Model (Revised ACAM) - In March 2016, the FCC unanimously voted to provide $20 billion over the next 10 years in \"support for small carriers.\" The FCC will be offering the fund $20 billion over the next 10 years to support service in \"high cost areas.\" This reform is a modernization of the program support of broadband in \"high cost areas.\" It will target communities that most need support. The reform is made up of three main elements: \"Modernizes Existing Universal Service Program for Rate-of-Return Carriers\", \"Create Two Paths to a 'Connect America Fund' for Rate-of Return Carriers\" and \"Increase Fiscal Responsibility in the Universal Service Fund.\"\n",
      "Alternative Connect America Model II (ACAM II)\n",
      "Enhanced Alternative Connect America Model (Enhanced ACAM) - In 2023 the FCC created this program for Rate-of-Return carriers to transition away from ACAM, Revised ACAM, ACAM II, and CAF BLS.\n",
      "Alaska Plan (AK Plan) - In 2016, the FCC established the Alaska plan, which offers fixed support of $150 million a year for 10 years (2017-2026), for $1.5 billion total to extend 10/1 Mbps broadband service to high cost areas in Alaska.\n",
      "Uniendo a Puerto Rico Fund/Connect USVI Fund consists of several programs specifically for the Puerto Rico and the Virgin Islands: Bringing Puerto Rico Together Fixed Support (PR Fixed), Bringing Puerto Rico Together Mobile Support (PR Mobile), United States Virgin Islands Fixed Support (USVI Fixed), and United States Virgin Islands Mobile Support (USVI Mobile).\n",
      "Rural Digital Opportunity Fund (RDOF) - In 2020, the FCC announced $9.2 billion in funding to build rural broadband networks. Recipients included LTD Broadband at $1.1 billion and SpaceX's Starlink at $885 million. LTD won bids to build broadband in 15 states, but was had its application to be designated an Eligible Telecommunications Carrier rejected in 6 of those states, due to doubts about its ability to complete the buildout. The FCC later withdrew the RDOF funding for both LTD and Starlink.\n",
      "Rural Broadband Experiments (RBE)\n",
      "Mobility Fund Phase I - The Connect America Fund also included the Mobility Fund, which is given to wireless carriers who expand service to underserved areas. \"Phase I\" of the Mobility Fund offered $300 million for a September 2012 round of auctions, and \"Phase II\" of the Mobility Fund plans to give out $500 million in annual support. (Universal_Service_Fund(2)(3))\n",
      "- Some programs have been proposed, but not yet implemented.\n",
      "\n",
      "Mobility Fund Phase II - In 2017, new FCC chairman Ajit Varadaraj Pai promoted this fund as a way to expand 4G broadband access to rural areas. He wanted to bridge \"the digital divide between rural and urban areas\" by working on \"expanding broadband options\". Pai believes that there is waste occurring between the private and public sectors as private capital is already being given to areas in order to build out networks. However, some of these areas are still being subsidized. Pai intends to make sure that broadband accessibility is included in an infrastructure bill to come. The proposed program for $4.53 billion over 10 years, but was canceled in favor of the 5G Fund for Rural America.\n",
      "5G Fund for Rural America (5G Fund) - A planned fund to build out 5G wireless service via a reverse auction. (Universal_Service_Fund(2)(4))\n",
      "- Following the Telecommunications Act of 1996 and the subsequent creation of the Universal Service Fund, the FCC designated the independent American nonprofit corporation named the \"Universal Service Administrative Company\" to manage the contribution of revenue to and distribution of funding from the Universal Service Fund. The Schools and Libraries Corporation and the Rural Health Care Corporation were merged into the USAC on January 1, 1999. The USAC is a fully owned legal subsidiary of the National Exchange Carrier Association, but is governed by a separate 20-person board of directors serving 3 year terms representing various stakeholder interests.\n",
      "USAC reports quarterly revenue projections detailing what contributions are expected and detailing what actions are taken in the expansion and bolstering of universal service. The USAC receives contributions from all companies providing interstate and international telephone and Voice over Internet Protocol (VoIP) service. Contributors send payments based on projected quarterly earnings. The FCC does not require companies to charge their customers for these contributions – this funding decision is left up to the individual companies. This revenue is deposited into a central fund, from which the USAC distributes money to the four central services at the core of the USF: High Cost, Low Income, Schools and Libraries, and Rural Health Care.\n",
      "\"The USAC collects revenue data from USF contributors on the FCC Form 499-A (Annual Telecommunications Reporting Worksheet) and FCC Form 499-Q (Quarterly Telecommunications Reporting Worksheet).\" The USAC is responsible for estimating how much money is needed for the USF program. The USAC provides a \"demand filing,\" to the Federal Communications Commission (FCC) each quarter in its FCC Filings.\n",
      "While the USAC cannot act without Congressional approval, it can make recommendations. USAC recommendations have resulted in expanding telecommunication resources, particularly broadband Internet and mobile access to schools and libraries, and recognizing VoIP as a form of interstate and international communication, which requires those companies providing VoIP services to contribute to the USF. (Universal_Service_Fund(3)(1))\n",
      "- The FCC oversees the USAC's administration of the Universal Service Fund, and institutes reforms as it sees fit. Although the fund is limited by the scope of US law, (mainly the 1996 Telecommunications Act)\n",
      "the FCC has played a part in making several changes to the fund, including shifting funds from the high cost program towards broadband expansion. Under the FCC, there is an Enforcement Bureau that investigates and pursues the violators of the Act of 1996 and any Commissions rules. (Universal_Service_Fund(3)(2))\n",
      "- Currently, all telecommunications companies that provide service between states, including long-distance companies, local telephone companies, wireless telephone companies, paging companies, and payphone providers, are legally required to contribute to the federal Universal Service Fund. Carriers providing international services also must contribute to the Universal Service Fund. These providers contribute to the fund \"based on their interstate and international end-user telecommunications revenues.\" On a quarterly basis, the Universal Service Administrative Company submits projected demand for Universal Service funding and projected contribution base to the Federal Communications Commission Office of Managing Director (OMD). There is then a 14-day public review, after which the rate is finalized. As of the third quarter of 2024, telecommunication companies were required to contribute 34.4% of their interstate revenue to the fund.\n",
      "While many providers bundle phone calls within a state (intrastate), calls between states (interstate), and calls to between countries (international) into a single monthly fee, the USF fee does not apply to revenue generated from calls within a single state. Therefore, phone companies apply the USF fee only to the interstate and international revenue. To accomplish this, they can opt to apply the USF fee to the \"safe-harbor percentage\" of assumed interstate revenue (64.9% for VoIP, 37.1% for cellular service). Alternatively, companies can conduct a traffic study demonstrating the percentage of interstate usage (PIU) and submit it to the Universal Service Administrative Company.\n",
      "While not required to do so, most telephone companies bill their customers with a separate line item for the USF fee. The contributions are collected by the Universal Service Administrative Company and disbursed towards four programs that the federal USF supports, as directed by the FCC. Universal Service charges should not be confused with what are sometimes referred to in telephone company bills as \"Federal Subscriber Line\" charges, which are access fees charged by telecommunications companies, not the local or federal government. (Universal_Service_Fund(4)(1))\n",
      "- Many US States have their own universal service funds, with budget and administration independent of the much larger federal fund. States with their own programs may have their own eligibility guidelines. As of 2019, 42 states had universal service funds in addition to the federal program, totaling $1.7 billion in disbursements in 2017. Those without state funds consisted of Alabama, Delaware, Florida, Hawaii, Massachusetts, New Jersey, New Hampshire, Tennessee, and Virginia.\n",
      "To support the state programs, many states impose a fee on intrasate calling revenue (the portion not falling under the federal USF fee). (Universal_Service_Fund(5)(1))\n",
      "- Proposals have been made to increase the number of sources from which universal service fund is collected. Suggestions include requiring additional companies pay into the USF such internet service providers, large technology companies, including intrastate telephone services (calls within single states), or increasing contribution requirements from wireless communication providers.\n",
      "Alternatively, there have also been suggestions to move all funding to regular congressional appropriations. (Universal_Service_Fund(6)(1))\n",
      "\n",
      "-----\n",
      "\n",
      "The sections of the article may not have relevant information to anything in the area of interest. If no relevant information is in the article, only respond with \"No relevant information\".\n",
      "\n",
      "Only use what is available to extract the necessary context. Extract the key details that provide relevant context and information in the scope of the areas of interest or are relevant context to the trend analysis. At the end of each section, you will find the citation for that section in the form of (document_id(section_number)(subsection_number)). For each piece of information you extract, provide the source citation for it. This is an absolute must.\n",
      "\n",
      "When extracting multiple pieces of information from the same section, condense them into a single bullet point unless they relate to distinct areas in areas of interest.\n",
      "\n",
      "Do not include any introductory phrases (e.g., 'Okay,' 'Sure,' 'Here's').\n",
      "Do not include any concluding remarks or follow-up questions.\n",
      "Respond only with the requested information.\n",
      "Avoid any conversational filler.\n",
      "Do not engage in dialogue. Only provide the response.\n",
      "Focus solely on fulfilling the request.\n",
      "\n",
      "ONLY use the information from the Article for your response. Only information from the Article is intended to be extracted.\n",
      "\n",
      "For all information you extract, organize it under the appropriate header provided below. If no information is available for that header, then do not provide that header.\n",
      "\n",
      "## Historical Conditions:\n",
      "\n",
      "## Status Quo:\n",
      "\n",
      "## Drivers of Trends:\n",
      "\n",
      "## Challenges faced historically and/or currently:\n",
      "\n",
      "## Initiatives and solutions to challenges:\n",
      "\n",
      "## Outlook:\n",
      "\n"
     ]
    }
   ],
   "execution_count": 193
  },
  {
   "metadata": {},
   "cell_type": "code",
   "outputs": [],
   "execution_count": null,
   "source": "",
   "id": "f549e241c4aab58"
  }
 ],
 "metadata": {
  "kernelspec": {
   "display_name": "Python 3",
   "language": "python",
   "name": "python3"
  },
  "language_info": {
   "codemirror_mode": {
    "name": "ipython",
    "version": 2
   },
   "file_extension": ".py",
   "mimetype": "text/x-python",
   "name": "python",
   "nbconvert_exporter": "python",
   "pygments_lexer": "ipython2",
   "version": "2.7.6"
  }
 },
 "nbformat": 4,
 "nbformat_minor": 5
}
