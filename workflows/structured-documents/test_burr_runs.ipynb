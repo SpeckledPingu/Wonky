{
 "cells": [
  {
   "cell_type": "code",
   "id": "initial_id",
   "metadata": {
    "collapsed": true,
    "ExecuteTime": {
     "end_time": "2025-06-08T13:48:20.257831Z",
     "start_time": "2025-06-08T13:48:14.364685Z"
    }
   },
   "source": [
    "from structured_crs_report_analysis_burr import structured_csr_report_build, analysis_types\n",
    "from structured_wikipedia_report_analysis_wikipedia_burr import structured_wikipedia_report_build\n",
    "from uuid import uuid4\n",
    "import lancedb\n",
    "from datetime import datetime\n",
    "import sqlite3\n",
    "from pathlib import Path\n",
    "from sentence_transformers import SentenceTransformer"
   ],
   "outputs": [
    {
     "name": "stderr",
     "output_type": "stream",
     "text": [
      "/opt/anaconda3/envs/wonk/lib/python3.11/site-packages/sentence_transformers/cross_encoder/CrossEncoder.py:13: TqdmExperimentalWarning: Using `tqdm.autonotebook.tqdm` in notebook mode. Use `tqdm.tqdm` instead to force console mode (e.g. in jupyter console)\n",
      "  from tqdm.autonotebook import tqdm, trange\n",
      "<All keys matched successfully>\n",
      "<All keys matched successfully>\n"
     ]
    }
   ],
   "execution_count": 1
  },
  {
   "metadata": {
    "ExecuteTime": {
     "end_time": "2025-06-08T13:48:22.133472Z",
     "start_time": "2025-06-08T13:48:20.313105Z"
    }
   },
   "cell_type": "code",
   "source": [
    "run_timestamp = datetime.now().strftime('%Y-%m-%d_%H-%M-%S')\n",
    "run_id = str(uuid4())\n",
    "# project_id = str(uuid4())\n",
    "project_id = 'rural broadband'\n",
    "crs_source_dataset = 'CRSReports'\n",
    "wikipedia_source_dataset = 'Wikipedia'\n",
    "subject_matter = \"Rural Broadband in America.\"\n",
    "focus = \"Historical, current, and future challenges for rural broadband and connectivity in America.\"\n",
    "analysis_type = 'domestic_policy'\n",
    "analysis_prompts = analysis_types[analysis_type]\n",
    "\n",
    "project_folder = Path('project_research')\n",
    "project_folder.mkdir(parents=True, exist_ok=True)\n",
    "research_json_folder = project_folder.joinpath('json_data')\n",
    "research_json_folder.mkdir(parents=True, exist_ok=True)\n",
    "database_location = project_folder.joinpath('research.sqlite')\n",
    "\n",
    "conn = sqlite3.connect(database_location)\n",
    "cursor = conn.cursor()\n",
    "index = lancedb.connect('../wonky_data/indexes/')\n",
    "table = index.open_table('sections_hybrid')\n",
    "encoder = SentenceTransformer('nomic-ai/nomic-embed-text-v1.5', device='mps', trust_remote_code=True)\n",
    "\n",
    "temperature = 0.2\n",
    "crs_num_results = 3\n",
    "wikipedia_num_results = 2"
   ],
   "id": "4f5930fdd9cad5d0",
   "outputs": [
    {
     "name": "stderr",
     "output_type": "stream",
     "text": [
      "<All keys matched successfully>\n"
     ]
    }
   ],
   "execution_count": 2
  },
  {
   "metadata": {},
   "cell_type": "markdown",
   "source": [
    "ui_folder = Path('working_folder/nicegui')\n",
    "ui_database_location = ui_folder.joinpath('ui_data.sqlite')\n",
    "ui_conn = sqlite3.connect(ui_database_location)\n",
    "ui_cursor = ui_conn.cursor()"
   ],
   "id": "3c19099355ce8964"
  },
  {
   "metadata": {
    "ExecuteTime": {
     "end_time": "2025-06-08T15:55:28.422068Z",
     "start_time": "2025-06-08T15:55:28.416564Z"
    }
   },
   "cell_type": "code",
   "source": "crs_extraction_app = structured_csr_report_build()",
   "id": "c95d89a20251b987",
   "outputs": [],
   "execution_count": 78
  },
  {
   "metadata": {
    "ExecuteTime": {
     "end_time": "2025-06-08T15:56:17.270012Z",
     "start_time": "2025-06-08T15:55:28.571831Z"
    }
   },
   "cell_type": "code",
   "source": [
    "crs_extraction_action, crs_extraction_result, crs_extraction_state = crs_extraction_app.run(\n",
    "    halt_after=[\"save_research_to_json\"],\n",
    "    inputs={\n",
    "        \"subject_matter\": subject_matter,\n",
    "        \"focus\": focus,\n",
    "        \"analysis_type\": analysis_type,\n",
    "        \"analysis_prompts\": analysis_prompts,\n",
    "        \"table\": table,\n",
    "        \"temperature\":temperature,\n",
    "        \"run_id\": run_id,\n",
    "        \"project_id\": project_id,\n",
    "        \"run_timestamp\": run_timestamp,\n",
    "        \"conn\": conn,\n",
    "        \"cursor\": cursor,\n",
    "        \"research_json_folder\": research_json_folder,\n",
    "        \"num_results\": crs_num_results,\n",
    "        \"source_dataset\": crs_source_dataset\n",
    "    }\n",
    ")"
   ],
   "id": "cfaaf2eec684b9f",
   "outputs": [
    {
     "name": "stdout",
     "output_type": "stream",
     "text": [
      "['RL33816' 'R47017']\n"
     ]
    },
    {
     "data": {
      "text/plain": [
       "  0%|          | 0/2 [00:00<?, ?it/s]"
      ],
      "application/vnd.jupyter.widget-view+json": {
       "version_major": 2,
       "version_minor": 0,
       "model_id": "a4a4cfe94a884bf3afc7f0780e5ef637"
      }
     },
     "metadata": {},
     "output_type": "display_data"
    },
    {
     "data": {
      "text/plain": [
       "  0%|          | 0/2 [00:00<?, ?it/s]"
      ],
      "application/vnd.jupyter.widget-view+json": {
       "version_major": 2,
       "version_minor": 0,
       "model_id": "dad34832269b4be688a555f72a82f25e"
      }
     },
     "metadata": {},
     "output_type": "display_data"
    },
    {
     "name": "stdout",
     "output_type": "stream",
     "text": [
      "RL33816\n",
      "RL33816__5___1\n",
      "RL33816__6___1\n",
      "RL33816__7___1\n",
      "RL33816__8___1\n",
      "RL33816__10___1\n",
      "RL33816__16___1\n",
      "RL33816__17___1\n",
      "RL33816__18___1\n",
      "RL33816__21___1\n",
      "RL33816__24___1\n",
      "10\n",
      "R47017\n",
      "R47017__1___1\n",
      "R47017__2___1\n",
      "R47017__3___1\n",
      "R47017__4___1\n",
      "R47017__5___1\n",
      "R47017__7___1\n",
      "R47017__8___1\n",
      "R47017__9___1\n",
      "R47017__11___1\n",
      "R47017__16___1\n",
      "R47017__17___1\n",
      "R47017__18___1\n",
      "R47017__22___1\n",
      "R47017__23___1\n",
      "14\n"
     ]
    }
   ],
   "execution_count": 79
  },
  {
   "metadata": {
    "ExecuteTime": {
     "end_time": "2025-06-08T16:02:48.263848Z",
     "start_time": "2025-06-08T16:02:48.262190Z"
    }
   },
   "cell_type": "code",
   "source": "crs_data = crs_extraction_state.get_all()",
   "id": "9f8cbe70ba99a49f",
   "outputs": [],
   "execution_count": 97
  },
  {
   "metadata": {
    "ExecuteTime": {
     "end_time": "2025-06-08T15:56:17.367982Z",
     "start_time": "2025-06-08T15:56:17.366696Z"
    }
   },
   "cell_type": "code",
   "source": "",
   "id": "4f3d821e8a225244",
   "outputs": [],
   "execution_count": null
  },
  {
   "metadata": {
    "ExecuteTime": {
     "end_time": "2025-06-08T15:56:17.389210Z",
     "start_time": "2025-06-08T15:56:17.385559Z"
    }
   },
   "cell_type": "code",
   "source": "wikipedia_extraction_app = structured_wikipedia_report_build()",
   "id": "bee22a4e6bc11f00",
   "outputs": [],
   "execution_count": 81
  },
  {
   "metadata": {
    "ExecuteTime": {
     "end_time": "2025-06-08T15:58:24.261326Z",
     "start_time": "2025-06-08T15:56:17.411320Z"
    }
   },
   "cell_type": "code",
   "source": [
    "wikipedia_extraction_action, wikipedia_extraction_result, wikipedia_extraction_state = wikipedia_extraction_app.run(\n",
    "    halt_after=[\"save_research_to_json\"],\n",
    "    inputs={\n",
    "        \"subject_matter\": subject_matter,\n",
    "        \"focus\": focus,\n",
    "        \"analysis_type\": analysis_type,\n",
    "        \"analysis_prompts\": analysis_prompts,\n",
    "        \"table\": table,\n",
    "        \"temperature\":temperature,\n",
    "        \"run_id\": run_id,\n",
    "        \"project_id\": project_id,\n",
    "        \"run_timestamp\": run_timestamp,\n",
    "        \"conn\": conn,\n",
    "        \"cursor\": cursor,\n",
    "        \"research_json_folder\": research_json_folder,\n",
    "        \"num_results\": wikipedia_num_results,\n",
    "        \"source_dataset\": wikipedia_source_dataset\n",
    "    }\n",
    ")"
   ],
   "id": "25daf13070d883e6",
   "outputs": [
    {
     "name": "stdout",
     "output_type": "stream",
     "text": [
      "['Universal Service Fund', 'Infrastructure Investment and Jobs Act', 'Internet in the United States', 'Rural Utilities Service']\n"
     ]
    },
    {
     "data": {
      "text/plain": [
       "  0%|          | 0/4 [00:00<?, ?it/s]"
      ],
      "application/vnd.jupyter.widget-view+json": {
       "version_major": 2,
       "version_minor": 0,
       "model_id": "5eb6e36c056545c6b3deccb8c971f379"
      }
     },
     "metadata": {},
     "output_type": "display_data"
    },
    {
     "data": {
      "text/plain": [
       "  0%|          | 0/4 [00:00<?, ?it/s]"
      ],
      "application/vnd.jupyter.widget-view+json": {
       "version_major": 2,
       "version_minor": 0,
       "model_id": "95b1b1ff0a2f4ffbaccfc9290a7ecde5"
      }
     },
     "metadata": {},
     "output_type": "display_data"
    },
    {
     "name": "stdout",
     "output_type": "stream",
     "text": [
      "WIKI49281\n",
      "4\n",
      "dict_keys(['title', 'filename', 'number', 'source_file', 'typeId', 'sections', 'full_text', 'summary', 'citation', 'id', 'type', 'doc_id', 'source_document', 'source_dataset', 'topics', 'active', 'date', 'text'])\n",
      "<class 'pandas.core.frame.DataFrame'>\n",
      "                    title                                           filename  \\\n",
      "0  Universal Service Fund  https://en.wikipedia.org/wiki/Universal_Servic...   \n",
      "1  Universal Service Fund  https://en.wikipedia.org/wiki/Universal_Servic...   \n",
      "2  Universal Service Fund  https://en.wikipedia.org/wiki/Universal_Servic...   \n",
      "3  Universal Service Fund  https://en.wikipedia.org/wiki/Universal_Servic...   \n",
      "4  Universal Service Fund  https://en.wikipedia.org/wiki/Universal_Servic...   \n",
      "\n",
      "  number                                        source_file     typeId  \\\n",
      "0  49281  https://en.wikipedia.org/wiki/Universal_Servic...  WIKIPEDIA   \n",
      "1  49281  https://en.wikipedia.org/wiki/Universal_Servic...  WIKIPEDIA   \n",
      "2  49281  https://en.wikipedia.org/wiki/Universal_Servic...  WIKIPEDIA   \n",
      "3  49281  https://en.wikipedia.org/wiki/Universal_Servic...  WIKIPEDIA   \n",
      "4  49281  https://en.wikipedia.org/wiki/Universal_Servic...  WIKIPEDIA   \n",
      "\n",
      "                                            sections  \\\n",
      "0  {'level': 0, 'title': 'Background', 'text': 'I...   \n",
      "1  {'level': 1, 'title': 'Implicit subsidies for ...   \n",
      "2  {'level': 1, 'title': 'Breakup of the Bell sys...   \n",
      "3  {'level': 0, 'title': 'History', 'text': '', '...   \n",
      "4  {'level': 1, 'title': 'Telecommunications Act ...   \n",
      "\n",
      "                                           full_text  \\\n",
      "0  The Universal Service Fund (USF) is a system o...   \n",
      "1  The Universal Service Fund (USF) is a system o...   \n",
      "2  The Universal Service Fund (USF) is a system o...   \n",
      "3  The Universal Service Fund (USF) is a system o...   \n",
      "4  The Universal Service Fund (USF) is a system o...   \n",
      "\n",
      "                                             summary   citation         id  \\\n",
      "0  The Universal Service Fund (USF) is a system o...  WIKI49281  WIKI49281   \n",
      "1  The Universal Service Fund (USF) is a system o...  WIKI49281  WIKI49281   \n",
      "2  The Universal Service Fund (USF) is a system o...  WIKI49281  WIKI49281   \n",
      "3  The Universal Service Fund (USF) is a system o...  WIKI49281  WIKI49281   \n",
      "4  The Universal Service Fund (USF) is a system o...  WIKI49281  WIKI49281   \n",
      "\n",
      "        type doc_id                                    source_document  \\\n",
      "0  Wikipedia  49281  https://en.wikipedia.org/wiki/Universal_Servic...   \n",
      "1  Wikipedia  49281  https://en.wikipedia.org/wiki/Universal_Servic...   \n",
      "2  Wikipedia  49281  https://en.wikipedia.org/wiki/Universal_Servic...   \n",
      "3  Wikipedia  49281  https://en.wikipedia.org/wiki/Universal_Servic...   \n",
      "4  Wikipedia  49281  https://en.wikipedia.org/wiki/Universal_Servic...   \n",
      "\n",
      "  source_dataset topics  active        date  \\\n",
      "0      Wikipedia           True  2025-06-08   \n",
      "1      Wikipedia           True  2025-06-08   \n",
      "2      Wikipedia           True  2025-06-08   \n",
      "3      Wikipedia           True  2025-06-08   \n",
      "4      Wikipedia           True  2025-06-08   \n",
      "\n",
      "                                                text  \n",
      "0  **Title**: Universal Service Fund\\n\\n**Report ...  \n",
      "1  **Title**: Universal Service Fund\\n\\n**Report ...  \n",
      "2  **Title**: Universal Service Fund\\n\\n**Report ...  \n",
      "3  **Title**: Universal Service Fund\\n\\n**Report ...  \n",
      "4  **Title**: Universal Service Fund\\n\\n**Report ...  \n",
      "WIKI49281__1___1\n",
      "WIKI49281__1___2\n",
      "WIKI49281__1___3\n",
      "WIKI49281__2___2\n",
      "WIKI49281__2___3\n",
      "WIKI49281__2___4\n",
      "WIKI49281__2___5\n",
      "WIKI49281__3___2\n",
      "WIKI49281__3___4\n",
      "WIKI49281__3___7\n",
      "WIKI49281__3___8\n",
      "WIKI49281__3___9\n",
      "WIKI49281__4___2\n",
      "WIKI49281__4___3\n",
      "WIKI49281__4___4\n",
      "WIKI49281__5___1\n",
      "WIKI49281__5___2\n",
      "WIKI49281__7___1\n",
      "WIKI49281__8___2\n",
      "WIKI49281__9___1\n",
      "20\n",
      "WIKI58094\n",
      "4\n",
      "dict_keys(['title', 'filename', 'number', 'source_file', 'typeId', 'sections', 'full_text', 'summary', 'citation', 'id', 'type', 'doc_id', 'source_document', 'source_dataset', 'topics', 'active', 'date', 'text'])\n",
      "<class 'pandas.core.frame.DataFrame'>\n",
      "                                    title  \\\n",
      "0  Infrastructure Investment and Jobs Act   \n",
      "1  Infrastructure Investment and Jobs Act   \n",
      "2  Infrastructure Investment and Jobs Act   \n",
      "3  Infrastructure Investment and Jobs Act   \n",
      "4  Infrastructure Investment and Jobs Act   \n",
      "\n",
      "                                            filename number  \\\n",
      "0  https://en.wikipedia.org/wiki/Infrastructure_I...  58094   \n",
      "1  https://en.wikipedia.org/wiki/Infrastructure_I...  58094   \n",
      "2  https://en.wikipedia.org/wiki/Infrastructure_I...  58094   \n",
      "3  https://en.wikipedia.org/wiki/Infrastructure_I...  58094   \n",
      "4  https://en.wikipedia.org/wiki/Infrastructure_I...  58094   \n",
      "\n",
      "                                         source_file     typeId  \\\n",
      "0  https://en.wikipedia.org/wiki/Infrastructure_I...  WIKIPEDIA   \n",
      "1  https://en.wikipedia.org/wiki/Infrastructure_I...  WIKIPEDIA   \n",
      "2  https://en.wikipedia.org/wiki/Infrastructure_I...  WIKIPEDIA   \n",
      "3  https://en.wikipedia.org/wiki/Infrastructure_I...  WIKIPEDIA   \n",
      "4  https://en.wikipedia.org/wiki/Infrastructure_I...  WIKIPEDIA   \n",
      "\n",
      "                                            sections  \\\n",
      "0  {'level': 0, 'title': 'Background', 'text': 'O...   \n",
      "1  {'level': 0, 'title': 'Legislative history', '...   \n",
      "2  {'level': 1, 'title': 'Senate passage', 'text'...   \n",
      "3  {'level': 1, 'title': 'House passage', 'text':...   \n",
      "4  {'level': 0, 'title': 'Original version of the...   \n",
      "\n",
      "                                           full_text  \\\n",
      "0  The Infrastructure Investment and Jobs Act (II...   \n",
      "1  The Infrastructure Investment and Jobs Act (II...   \n",
      "2  The Infrastructure Investment and Jobs Act (II...   \n",
      "3  The Infrastructure Investment and Jobs Act (II...   \n",
      "4  The Infrastructure Investment and Jobs Act (II...   \n",
      "\n",
      "                                             summary   citation         id  \\\n",
      "0  The Infrastructure Investment and Jobs Act (II...  WIKI58094  WIKI58094   \n",
      "1  The Infrastructure Investment and Jobs Act (II...  WIKI58094  WIKI58094   \n",
      "2  The Infrastructure Investment and Jobs Act (II...  WIKI58094  WIKI58094   \n",
      "3  The Infrastructure Investment and Jobs Act (II...  WIKI58094  WIKI58094   \n",
      "4  The Infrastructure Investment and Jobs Act (II...  WIKI58094  WIKI58094   \n",
      "\n",
      "        type doc_id                                    source_document  \\\n",
      "0  Wikipedia  58094  https://en.wikipedia.org/wiki/Infrastructure_I...   \n",
      "1  Wikipedia  58094  https://en.wikipedia.org/wiki/Infrastructure_I...   \n",
      "2  Wikipedia  58094  https://en.wikipedia.org/wiki/Infrastructure_I...   \n",
      "3  Wikipedia  58094  https://en.wikipedia.org/wiki/Infrastructure_I...   \n",
      "4  Wikipedia  58094  https://en.wikipedia.org/wiki/Infrastructure_I...   \n",
      "\n",
      "  source_dataset topics  active        date  \\\n",
      "0      Wikipedia           True  2025-06-08   \n",
      "1      Wikipedia           True  2025-06-08   \n",
      "2      Wikipedia           True  2025-06-08   \n",
      "3      Wikipedia           True  2025-06-08   \n",
      "4      Wikipedia           True  2025-06-08   \n",
      "\n",
      "                                                text  \n",
      "0  **Title**: Infrastructure Investment and Jobs ...  \n",
      "1  **Title**: Infrastructure Investment and Jobs ...  \n",
      "2  **Title**: Infrastructure Investment and Jobs ...  \n",
      "3  **Title**: Infrastructure Investment and Jobs ...  \n",
      "4  **Title**: Infrastructure Investment and Jobs ...  \n",
      "WIKI58094__1___1\n",
      "WIKI58094__2___2\n",
      "WIKI58094__2___3\n",
      "WIKI58094__3___1\n",
      "WIKI58094__4___1\n",
      "WIKI58094__4___2\n",
      "WIKI58094__4___3\n",
      "WIKI58094__4___4\n",
      "WIKI58094__4___5\n",
      "WIKI58094__4___6\n",
      "WIKI58094__4___7\n",
      "WIKI58094__4___9\n",
      "WIKI58094__4___11\n",
      "WIKI58094__4___12\n",
      "WIKI58094__4___13\n",
      "WIKI58094__4___14\n",
      "WIKI58094__4___15\n",
      "WIKI58094__5___1\n",
      "WIKI58094__5___3\n",
      "WIKI58094__5___5\n",
      "WIKI58094__5___10\n",
      "WIKI58094__5___11\n",
      "WIKI58094__5___13\n",
      "WIKI58094__5___14\n",
      "WIKI58094__6___2\n",
      "WIKI58094__6___3\n",
      "WIKI58094__10___1\n",
      "27\n",
      "WIKI27275\n",
      "4\n",
      "dict_keys(['title', 'filename', 'number', 'source_file', 'typeId', 'sections', 'full_text', 'summary', 'citation', 'id', 'type', 'doc_id', 'source_document', 'source_dataset', 'topics', 'active', 'date', 'text'])\n",
      "<class 'pandas.core.frame.DataFrame'>\n",
      "                           title  \\\n",
      "0  Internet in the United States   \n",
      "1  Internet in the United States   \n",
      "2  Internet in the United States   \n",
      "3  Internet in the United States   \n",
      "4  Internet in the United States   \n",
      "\n",
      "                                            filename number  \\\n",
      "0  https://en.wikipedia.org/wiki/Internet_in_the_...  27275   \n",
      "1  https://en.wikipedia.org/wiki/Internet_in_the_...  27275   \n",
      "2  https://en.wikipedia.org/wiki/Internet_in_the_...  27275   \n",
      "3  https://en.wikipedia.org/wiki/Internet_in_the_...  27275   \n",
      "4  https://en.wikipedia.org/wiki/Internet_in_the_...  27275   \n",
      "\n",
      "                                         source_file     typeId  \\\n",
      "0  https://en.wikipedia.org/wiki/Internet_in_the_...  WIKIPEDIA   \n",
      "1  https://en.wikipedia.org/wiki/Internet_in_the_...  WIKIPEDIA   \n",
      "2  https://en.wikipedia.org/wiki/Internet_in_the_...  WIKIPEDIA   \n",
      "3  https://en.wikipedia.org/wiki/Internet_in_the_...  WIKIPEDIA   \n",
      "4  https://en.wikipedia.org/wiki/Internet_in_the_...  WIKIPEDIA   \n",
      "\n",
      "                                            sections  \\\n",
      "0  {'level': 0, 'title': 'Overview', 'text': '', ...   \n",
      "1  {'level': 1, 'title': 'Access and speed', 'tex...   \n",
      "2  {'level': 1, 'title': 'Ownership', 'text': 'Un...   \n",
      "3  {'level': 1, 'title': 'Competition', 'text': '...   \n",
      "4  {'level': 1, 'title': 'Internet taxes', 'text'...   \n",
      "\n",
      "                                           full_text  \\\n",
      "0  The Internet in the United States grew out of ...   \n",
      "1  The Internet in the United States grew out of ...   \n",
      "2  The Internet in the United States grew out of ...   \n",
      "3  The Internet in the United States grew out of ...   \n",
      "4  The Internet in the United States grew out of ...   \n",
      "\n",
      "                                             summary   citation         id  \\\n",
      "0  The Internet in the United States grew out of ...  WIKI27275  WIKI27275   \n",
      "1  The Internet in the United States grew out of ...  WIKI27275  WIKI27275   \n",
      "2  The Internet in the United States grew out of ...  WIKI27275  WIKI27275   \n",
      "3  The Internet in the United States grew out of ...  WIKI27275  WIKI27275   \n",
      "4  The Internet in the United States grew out of ...  WIKI27275  WIKI27275   \n",
      "\n",
      "        type doc_id                                    source_document  \\\n",
      "0  Wikipedia  27275  https://en.wikipedia.org/wiki/Internet_in_the_...   \n",
      "1  Wikipedia  27275  https://en.wikipedia.org/wiki/Internet_in_the_...   \n",
      "2  Wikipedia  27275  https://en.wikipedia.org/wiki/Internet_in_the_...   \n",
      "3  Wikipedia  27275  https://en.wikipedia.org/wiki/Internet_in_the_...   \n",
      "4  Wikipedia  27275  https://en.wikipedia.org/wiki/Internet_in_the_...   \n",
      "\n",
      "  source_dataset topics  active        date  \\\n",
      "0      Wikipedia           True  2025-06-08   \n",
      "1      Wikipedia           True  2025-06-08   \n",
      "2      Wikipedia           True  2025-06-08   \n",
      "3      Wikipedia           True  2025-06-08   \n",
      "4      Wikipedia           True  2025-06-08   \n",
      "\n",
      "                                                text  \n",
      "0  **Title**: Internet in the United States\\n\\n**...  \n",
      "1  **Title**: Internet in the United States\\n\\n**...  \n",
      "2  **Title**: Internet in the United States\\n\\n**...  \n",
      "3  **Title**: Internet in the United States\\n\\n**...  \n",
      "4  **Title**: Internet in the United States\\n\\n**...  \n",
      "WIKI27275__1___2\n",
      "WIKI27275__1___3\n",
      "WIKI27275__1___4\n",
      "WIKI27275__1___5\n",
      "WIKI27275__1___6\n",
      "WIKI27275__1___7\n",
      "WIKI27275__2___1\n",
      "WIKI27275__3___2\n",
      "WIKI27275__3___3\n",
      "WIKI27275__3___4\n",
      "WIKI27275__3___5\n",
      "WIKI27275__3___6\n",
      "WIKI27275__3___7\n",
      "WIKI27275__3___9\n",
      "14\n",
      "WIKI85747\n",
      "7\n",
      "dict_keys(['title', 'filename', 'number', 'source_file', 'typeId', 'sections', 'full_text', 'summary', 'citation', 'id', 'type', 'doc_id', 'source_document', 'source_dataset', 'topics', 'active', 'date', 'text'])\n",
      "<class 'pandas.core.frame.DataFrame'>\n",
      "                     title                                           filename  \\\n",
      "0  Rural Utilities Service  https://en.wikipedia.org/wiki/Rural_Utilities_...   \n",
      "1  Rural Utilities Service  https://en.wikipedia.org/wiki/Rural_Utilities_...   \n",
      "2  Rural Utilities Service  https://en.wikipedia.org/wiki/Rural_Utilities_...   \n",
      "3  Rural Utilities Service  https://en.wikipedia.org/wiki/Rural_Utilities_...   \n",
      "4  Rural Utilities Service  https://en.wikipedia.org/wiki/Rural_Utilities_...   \n",
      "\n",
      "  number                                        source_file     typeId  \\\n",
      "0  85747  https://en.wikipedia.org/wiki/Rural_Utilities_...  WIKIPEDIA   \n",
      "1  85747  https://en.wikipedia.org/wiki/Rural_Utilities_...  WIKIPEDIA   \n",
      "2  85747  https://en.wikipedia.org/wiki/Rural_Utilities_...  WIKIPEDIA   \n",
      "3  85747  https://en.wikipedia.org/wiki/Rural_Utilities_...  WIKIPEDIA   \n",
      "4  85747  https://en.wikipedia.org/wiki/Rural_Utilities_...  WIKIPEDIA   \n",
      "\n",
      "                                            sections  \\\n",
      "0  {'level': 0, 'title': 'Overview', 'text': 'The...   \n",
      "1  {'level': 0, 'title': 'Financial assistance', ...   \n",
      "2  {'level': 0, 'title': 'Rural Electrification A...   \n",
      "3  {'level': 0, 'title': 'See also', 'text': 'Dis...   \n",
      "4  {'level': 0, 'title': 'References', 'text': ''...   \n",
      "\n",
      "                                           full_text  \\\n",
      "0  The United States Rural Utilities Service (RUS...   \n",
      "1  The United States Rural Utilities Service (RUS...   \n",
      "2  The United States Rural Utilities Service (RUS...   \n",
      "3  The United States Rural Utilities Service (RUS...   \n",
      "4  The United States Rural Utilities Service (RUS...   \n",
      "\n",
      "                                             summary   citation         id  \\\n",
      "0  The United States Rural Utilities Service (RUS...  WIKI85747  WIKI85747   \n",
      "1  The United States Rural Utilities Service (RUS...  WIKI85747  WIKI85747   \n",
      "2  The United States Rural Utilities Service (RUS...  WIKI85747  WIKI85747   \n",
      "3  The United States Rural Utilities Service (RUS...  WIKI85747  WIKI85747   \n",
      "4  The United States Rural Utilities Service (RUS...  WIKI85747  WIKI85747   \n",
      "\n",
      "        type doc_id                                    source_document  \\\n",
      "0  Wikipedia  85747  https://en.wikipedia.org/wiki/Rural_Utilities_...   \n",
      "1  Wikipedia  85747  https://en.wikipedia.org/wiki/Rural_Utilities_...   \n",
      "2  Wikipedia  85747  https://en.wikipedia.org/wiki/Rural_Utilities_...   \n",
      "3  Wikipedia  85747  https://en.wikipedia.org/wiki/Rural_Utilities_...   \n",
      "4  Wikipedia  85747  https://en.wikipedia.org/wiki/Rural_Utilities_...   \n",
      "\n",
      "  source_dataset topics  active        date  \\\n",
      "0      Wikipedia           True  2025-06-08   \n",
      "1      Wikipedia           True  2025-06-08   \n",
      "2      Wikipedia           True  2025-06-08   \n",
      "3      Wikipedia           True  2025-06-08   \n",
      "4      Wikipedia           True  2025-06-08   \n",
      "\n",
      "                                                text  \n",
      "0  **Title**: Rural Utilities Service\\n\\n**Report...  \n",
      "1  **Title**: Rural Utilities Service\\n\\n**Report...  \n",
      "2  **Title**: Rural Utilities Service\\n\\n**Report...  \n",
      "3  **Title**: Rural Utilities Service\\n\\n**Report...  \n",
      "4  **Title**: Rural Utilities Service\\n\\n**Report...  \n",
      "WIKI85747__1___1\n",
      "WIKI85747__2___1\n",
      "WIKI85747__3___1\n",
      "3\n"
     ]
    }
   ],
   "execution_count": 82
  },
  {
   "metadata": {
    "ExecuteTime": {
     "end_time": "2025-06-08T15:58:24.295468Z",
     "start_time": "2025-06-08T15:58:24.293684Z"
    }
   },
   "cell_type": "code",
   "source": "wikipedia_data = wikipedia_extraction_state.get_all()",
   "id": "6870ad070212c14d",
   "outputs": [],
   "execution_count": 83
  },
  {
   "metadata": {
    "ExecuteTime": {
     "end_time": "2025-06-08T15:58:24.317883Z",
     "start_time": "2025-06-08T15:58:24.315930Z"
    }
   },
   "cell_type": "code",
   "source": "wikipedia_data['extractions'].keys()",
   "id": "937bff0141b65e4",
   "outputs": [
    {
     "data": {
      "text/plain": [
       "dict_keys(['WIKI49281', 'WIKI58094', 'WIKI27275', 'WIKI85747'])"
      ]
     },
     "execution_count": 84,
     "metadata": {},
     "output_type": "execute_result"
    }
   ],
   "execution_count": 84
  },
  {
   "metadata": {
    "ExecuteTime": {
     "end_time": "2025-06-08T15:58:24.341477Z",
     "start_time": "2025-06-08T15:58:24.339686Z"
    }
   },
   "cell_type": "code",
   "source": "print(wikipedia_data['extractions']['WIKI27275'].keys())",
   "id": "92b3499e0446e120",
   "outputs": [
    {
     "name": "stdout",
     "output_type": "stream",
     "text": [
      "dict_keys(['title', 'filename', 'number', 'source_file', 'typeId', 'sections', 'full_text', 'summary', 'citation', 'id', 'type', 'doc_id', 'source_document', 'source_dataset', 'topics', 'active', 'date', 'text', 'overview', 'overview_type', 'overview_pages', 'overview_citations', 'overview_cite_sources'])\n"
     ]
    }
   ],
   "execution_count": 85
  },
  {
   "metadata": {
    "ExecuteTime": {
     "end_time": "2025-06-08T15:58:24.361261Z",
     "start_time": "2025-06-08T15:58:24.359755Z"
    }
   },
   "cell_type": "code",
   "source": "print(wikipedia_data['extractions']['WIKI27275']['date'])",
   "id": "cfca3c77dc90c69b",
   "outputs": [
    {
     "name": "stdout",
     "output_type": "stream",
     "text": [
      "2025-06-08\n"
     ]
    }
   ],
   "execution_count": 86
  },
  {
   "metadata": {
    "ExecuteTime": {
     "end_time": "2025-06-08T15:58:24.382051Z",
     "start_time": "2025-06-08T15:58:24.380375Z"
    }
   },
   "cell_type": "code",
   "source": "print(wikipedia_data['extractions']['WIKI27275']['title'])",
   "id": "2e105303aa9fc6ea",
   "outputs": [
    {
     "name": "stdout",
     "output_type": "stream",
     "text": [
      "Internet in the United States\n"
     ]
    }
   ],
   "execution_count": 87
  },
  {
   "metadata": {
    "ExecuteTime": {
     "end_time": "2025-06-08T15:58:24.403668Z",
     "start_time": "2025-06-08T15:58:24.400989Z"
    }
   },
   "cell_type": "code",
   "source": "len(wikipedia_data['extractions']['WIKI27275']['overview'].split(' '))",
   "id": "7900f97ff622b820",
   "outputs": [
    {
     "data": {
      "text/plain": [
       "5030"
      ]
     },
     "execution_count": 88,
     "metadata": {},
     "output_type": "execute_result"
    }
   ],
   "execution_count": 88
  },
  {
   "metadata": {
    "ExecuteTime": {
     "end_time": "2025-06-08T15:58:24.427685Z",
     "start_time": "2025-06-08T15:58:24.425204Z"
    }
   },
   "cell_type": "code",
   "source": "len(wikipedia_data['extractions']['WIKI27275']['full_text'].split(' '))",
   "id": "e2321218076c8955",
   "outputs": [
    {
     "data": {
      "text/plain": [
       "4646"
      ]
     },
     "execution_count": 89,
     "metadata": {},
     "output_type": "execute_result"
    }
   ],
   "execution_count": 89
  },
  {
   "metadata": {
    "ExecuteTime": {
     "end_time": "2025-06-08T15:59:02.330290Z",
     "start_time": "2025-06-08T15:59:02.328170Z"
    }
   },
   "cell_type": "code",
   "source": [
    "ui_folder = Path('working_folder/nicegui')\n",
    "ui_database_location = ui_folder.joinpath('ui_data.sqlite')\n",
    "ui_conn = sqlite3.connect(ui_database_location)\n",
    "ui_cursor = ui_conn.cursor()"
   ],
   "id": "a46ade3bbfa7eec4",
   "outputs": [],
   "execution_count": 91
  },
  {
   "metadata": {
    "ExecuteTime": {
     "end_time": "2025-06-08T15:59:06.666846Z",
     "start_time": "2025-06-08T15:59:06.664101Z"
    }
   },
   "cell_type": "code",
   "source": "ui_cursor.execute(\"\"\"select * from papers\"\"\").fetchone()",
   "id": "d753f465e2018357",
   "outputs": [
    {
     "data": {
      "text/plain": [
       "('paper_a01_s01_001',\n",
       " 'proj_alpha_01',\n",
       " 'general',\n",
       " 'The Landscape of Algorithmic Bias',\n",
       " '# Understanding Bias\\\\nAn overview of different types of bias in machine learning systems and their societal impact.',\n",
       " '2025-06-07 20:03:22',\n",
       " 0)"
      ]
     },
     "execution_count": 92,
     "metadata": {},
     "output_type": "execute_result"
    }
   ],
   "execution_count": 92
  },
  {
   "metadata": {
    "ExecuteTime": {
     "end_time": "2025-06-08T15:59:07.931360Z",
     "start_time": "2025-06-08T15:59:07.929952Z"
    }
   },
   "cell_type": "code",
   "source": "",
   "id": "c1698043f34043e6",
   "outputs": [],
   "execution_count": null
  },
  {
   "metadata": {
    "ExecuteTime": {
     "end_time": "2025-06-08T15:59:08.538635Z",
     "start_time": "2025-06-08T15:59:08.535903Z"
    }
   },
   "cell_type": "code",
   "source": [
    "def insert_new_research_paper(document_id, title, content, document_type, project_id, stream_id, cursor, conn):\n",
    "    added_at = datetime.now().strftime('%Y-%m-%d %H:%M:%S')\n",
    "    cursor.execute(\"\"\"\n",
    "                    INSERT OR REPLACE INTO papers (id, project_id, stream_id, title, content, added_at, is_new)\n",
    "                    VALUES (?, ?, ?, ?, ?, ?, ?)\n",
    "                    RETURNING id, project_id, title, added_at;\n",
    "                    \"\"\", (document_id, project_id, stream_id, title, content, added_at, is_new))\n",
    "    row = cursor.fetchone()\n",
    "    conn.commit()\n",
    "    return row\n",
    "\n",
    "## Alter the table to add document_type"
   ],
   "id": "432006c2da9c2369",
   "outputs": [],
   "execution_count": 93
  },
  {
   "metadata": {
    "ExecuteTime": {
     "end_time": "2025-06-08T15:59:09.790363Z",
     "start_time": "2025-06-08T15:59:09.787744Z"
    }
   },
   "cell_type": "code",
   "source": [
    "def insert_into_research_stream(id, project_id, subject, focus, project_created_at, cursor, conn):\n",
    "    row = ui_cursor.execute(\"\"\"SELECT * from research_streams\n",
    "                     WHERE project_id = ? AND id = ? AND subject = ? AND focus = ?\"\"\",\n",
    "                  (project_id, id, subject, focus)).fetchone()\n",
    "    if len(row) == 0:\n",
    "        cursor.execute(\"\"\"\n",
    "                      INSERT OR REPLACE INTO research_streams (id, project_id, subject, focus, created_at)\n",
    "                      VALUES (?, ?, ?, ?, ?)\n",
    "                      RETURNING id, project_id, subject, focus, created_at;\n",
    "                      \"\"\",\n",
    "                      (id, project_id, subject, focus, project_created_at)\n",
    "                      )\n",
    "        row = cursor.fetchone()\n",
    "        conn.commit()\n",
    "    return row"
   ],
   "id": "e732e7c91c735ed7",
   "outputs": [],
   "execution_count": 94
  },
  {
   "metadata": {
    "ExecuteTime": {
     "end_time": "2025-06-08T15:59:10.128231Z",
     "start_time": "2025-06-08T15:59:10.125720Z"
    }
   },
   "cell_type": "code",
   "source": "stream_id",
   "id": "a4f9328261d3ddc4",
   "outputs": [
    {
     "data": {
      "text/plain": [
       "'rural broadband'"
      ]
     },
     "execution_count": 95,
     "metadata": {},
     "output_type": "execute_result"
    }
   ],
   "execution_count": 95
  },
  {
   "metadata": {
    "ExecuteTime": {
     "end_time": "2025-06-08T15:59:11.432421Z",
     "start_time": "2025-06-08T15:59:11.425793Z"
    }
   },
   "cell_type": "code",
   "source": [
    "id = wikipedia_data['extractions']['WIKI27275']['id'] + run_timestamp\n",
    "title = 'EXT_' + wikipedia_data['extractions']['WIKI27275']['title']\n",
    "content = wikipedia_data['extractions']['WIKI27275']['overview']\n",
    "project_id = \"proj_alpha_01\"\n",
    "project_created_at = datetime.now().strftime('%Y-%m-%d %H:%M:%S')\n",
    "added_at = project_created_at\n",
    "stream_id = 'rural broadband'\n",
    "stream_subject_id = 'rural broadband'\n",
    "is_new = 1\n",
    "subject = subject_matter\n",
    "focus = focus\n",
    "\n",
    "for _document_id, _extractions in wikipedia_data['extractions'].items():\n",
    "    title = 'EXT_' + _extractions['title']\n",
    "    content = _extractions['overview']\n",
    "    added_at = datetime.now().strftime('%Y-%m-%d %H:%M:%S')\n",
    "    insert_new_research_paper(_document_id, title, content, 'extraction', project_id, stream_id, ui_cursor, ui_conn)\n"
   ],
   "id": "7e0d32379e646a06",
   "outputs": [],
   "execution_count": 96
  },
  {
   "metadata": {
    "ExecuteTime": {
     "end_time": "2025-06-08T16:02:57.612472Z",
     "start_time": "2025-06-08T16:02:57.609173Z"
    }
   },
   "cell_type": "code",
   "source": [
    "for _document_id, _extractions in crs_data['extractions'].items():\n",
    "    title = 'EXT_' + _extractions['title']\n",
    "    content = _extractions['overview']\n",
    "    added_at = datetime.now().strftime('%Y-%m-%d %H:%M:%S')\n",
    "    insert_new_research_paper(_document_id, title, content, 'extraction', project_id, stream_id, ui_cursor, ui_conn)"
   ],
   "id": "91c668b6f03a8724",
   "outputs": [],
   "execution_count": 98
  },
  {
   "metadata": {
    "ExecuteTime": {
     "end_time": "2025-06-08T16:06:41.322669Z",
     "start_time": "2025-06-08T16:06:41.317989Z"
    }
   },
   "cell_type": "code",
   "source": [
    "ui_cursor.execute(\"\"\"\n",
    "                  INSERT INTO research_streams (id, project_id, subject, focus, created_at)\n",
    "                  VALUES (?, ?, ?, ?, ?)\n",
    "                  RETURNING id, project_id, subject, focus, created_at;\n",
    "                  \"\"\",\n",
    "                  (stream_id, project_id, subject, focus, project_created_at)\n",
    "                  )\n",
    "row = ui_cursor.fetchone()\n",
    "ui_conn.commit()"
   ],
   "id": "8c604b2e71cfee4b",
   "outputs": [],
   "execution_count": 99
  },
  {
   "metadata": {},
   "cell_type": "code",
   "outputs": [],
   "execution_count": 53,
   "source": [
    "ui_cursor.execute(\"\"\"\n",
    "    INSERT OR REPLACE INTO papers (id, project_id, stream_id, title, content, added_at, is_new)\n",
    "    VALUES (?, ?, ?, ?, ?, ?, ?)\n",
    "    RETURNING id, project_id, title, added_at;\n",
    "\"\"\", (id, project_id, stream_id, title, content, added_at, is_new))\n",
    "row = ui_cursor.fetchone()\n",
    "ui_conn.commit()"
   ],
   "id": "1ab8680916d79722"
  },
  {
   "metadata": {
    "ExecuteTime": {
     "end_time": "2025-06-08T14:49:48.457851Z",
     "start_time": "2025-06-08T14:49:48.454308Z"
    }
   },
   "cell_type": "code",
   "source": "",
   "id": "b4b1aa2dd2f0bdfe",
   "outputs": [],
   "execution_count": 51
  },
  {
   "metadata": {},
   "cell_type": "code",
   "outputs": [],
   "execution_count": null,
   "source": "",
   "id": "58783a5770c28493"
  }
 ],
 "metadata": {
  "kernelspec": {
   "display_name": "Python 3",
   "language": "python",
   "name": "python3"
  },
  "language_info": {
   "codemirror_mode": {
    "name": "ipython",
    "version": 2
   },
   "file_extension": ".py",
   "mimetype": "text/x-python",
   "name": "python",
   "nbconvert_exporter": "python",
   "pygments_lexer": "ipython2",
   "version": "2.7.6"
  }
 },
 "nbformat": 4,
 "nbformat_minor": 5
}
