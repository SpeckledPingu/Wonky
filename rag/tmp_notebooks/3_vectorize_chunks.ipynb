{
 "cells": [
  {
   "cell_type": "code",
   "id": "initial_id",
   "metadata": {
    "collapsed": true
   },
   "source": [
    "from sentence_transformers import SentenceTransformer\n",
    "from pathlib import Path\n",
    "import torch\n",
    "from copy import deepcopy\n",
    "import json\n",
    "import gzip\n",
    "import re"
   ],
   "outputs": [],
   "execution_count": null
  },
  {
   "metadata": {},
   "cell_type": "code",
   "source": "from tqdm.notebook import tqdm",
   "id": "c006fccd60af498d",
   "outputs": [],
   "execution_count": null
  },
  {
   "metadata": {},
   "cell_type": "code",
   "source": "model = 'nomic-ai/nomic-embed-text-v1.5'",
   "id": "b720a47ee8c937d0",
   "outputs": [],
   "execution_count": null
  },
  {
   "metadata": {},
   "cell_type": "code",
   "source": "encoder = SentenceTransformer(model, device='mps',trust_remote_code=True)",
   "id": "7b81153528e75448",
   "outputs": [],
   "execution_count": null
  },
  {
   "metadata": {},
   "cell_type": "code",
   "source": [
    "parsed_folder = Path('/Users/jameslittiebrant/Data/crs_reports/parsed')\n",
    "run_time = \"20250723_1319\"\n",
    "chunk_data_path = parsed_folder.joinpath(f\"{run_time}_chunks.json\")\n",
    "vector_data_path = parsed_folder.joinpath(f\"{run_time}_vectors.json\")"
   ],
   "id": "61907ecaee8d958b",
   "outputs": [],
   "execution_count": null
  },
  {
   "metadata": {},
   "cell_type": "code",
   "source": [
    "with open(chunk_data_path,'r') as f:\n",
    "    data = json.load(f)"
   ],
   "id": "e1b8b6b2effd8f51",
   "outputs": [],
   "execution_count": null
  },
  {
   "metadata": {},
   "cell_type": "code",
   "source": "print(\"Number of chunks: \", len(data))",
   "id": "59e0b3a11e574601",
   "outputs": [],
   "execution_count": null
  },
  {
   "metadata": {},
   "cell_type": "code",
   "source": [
    "vectorized_chunks = list()\n",
    "for chunk in tqdm(data):\n",
    "    chunk['vector'] = encoder.encode(chunk['content'])\n",
    "    torch.mps.empty_cache()\n",
    "    vectorized_chunks.append(chunk)"
   ],
   "id": "80976d2ee1d670bf",
   "outputs": [],
   "execution_count": null
  },
  {
   "metadata": {},
   "cell_type": "code",
   "source": [
    "extended_name = source_files[0].name.replace('parsed','vectorized')\n",
    "with gzip.open(vector_file.joinpath(extended_name + '.gz'), 'wt') as f:\n",
    "    json.dump(vectorized_chunks, f)"
   ],
   "id": "ebd225453bbbf97c",
   "outputs": [],
   "execution_count": null
  }
 ],
 "metadata": {
  "kernelspec": {
   "display_name": "Python 3",
   "language": "python",
   "name": "python3"
  },
  "language_info": {
   "codemirror_mode": {
    "name": "ipython",
    "version": 2
   },
   "file_extension": ".py",
   "mimetype": "text/x-python",
   "name": "python",
   "nbconvert_exporter": "python",
   "pygments_lexer": "ipython2",
   "version": "2.7.6"
  }
 },
 "nbformat": 4,
 "nbformat_minor": 5
}
