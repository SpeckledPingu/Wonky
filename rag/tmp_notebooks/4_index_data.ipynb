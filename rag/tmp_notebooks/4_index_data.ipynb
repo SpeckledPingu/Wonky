{
 "cells": [
  {
   "cell_type": "code",
   "id": "initial_id",
   "metadata": {
    "collapsed": true
   },
   "source": [
    "import gzip\n",
    "import json\n",
    "import lancedb\n",
    "import pandas as pd\n",
    "from lancedb.pydantic import Vector, LanceModel, List\n",
    "from pathlib import Path\n",
    "\n",
    "from pydantic import BaseModel\n",
    "# from typing import List\n",
    "import pydantic\n",
    "\n",
    "from tqdm.notebook import tqdm"
   ],
   "outputs": [],
   "execution_count": null
  },
  {
   "metadata": {},
   "cell_type": "code",
   "source": [
    "import hashlib\n",
    "def hash_text_to_id(source_string: str, n_digits: int = 10) -> str:\n",
    "    hash_object = hashlib.sha256(source_string.encode())\n",
    "    hex_digest = hash_object.hexdigest()\n",
    "    hash_int = int(hex_digest, 16)\n",
    "    numeric_id = hash_int % (10**n_digits)\n",
    "    return f\"{numeric_id:0{n_digits}d}\""
   ],
   "id": "cc62285e2ffdaf40",
   "outputs": [],
   "execution_count": null
  },
  {
   "metadata": {},
   "cell_type": "code",
   "source": [
    "vector_folder = Path('/Users/jameslittiebrant/Data/crs_reports/vectors')\n",
    "parsed_folder = Path('/Users/jameslittiebrant/Data/crs_reports/parsed')\n",
    "\n",
    "run_time = \"20250723_1319\"\n",
    "vector_data_path = vector_folder.joinpath(f\"{run_time}_vectors.json.gz\")\n",
    "metadata_file = parsed_folder.joinpath(f\"{run_time}_files.json\")\n",
    "\n",
    "index_folder = Path('/Users/jameslittiebrant/Data/Mycroft/indexes')\n",
    "index_table_name = 'crs_reports'"
   ],
   "id": "ba3dbd18cdf7890c",
   "outputs": [],
   "execution_count": null
  },
  {
   "metadata": {},
   "cell_type": "code",
   "source": "metadata = pd.read_json(metadata_file, convert_dates=False)",
   "id": "d489cd2802664953",
   "outputs": [],
   "execution_count": null
  },
  {
   "metadata": {},
   "cell_type": "code",
   "source": [
    "with gzip.open(vector_data_path,'rt') as f:\n",
    "    data = json.load(f)"
   ],
   "id": "5c605be477491a26",
   "outputs": [],
   "execution_count": null
  },
  {
   "metadata": {},
   "cell_type": "code",
   "source": "metadata",
   "id": "9169ab42f06004c0",
   "outputs": [],
   "execution_count": null
  },
  {
   "metadata": {},
   "cell_type": "code",
   "source": "metadata['summary'] = metadata['summary'].fillna('')",
   "id": "7c58d9478b4d293e",
   "outputs": [],
   "execution_count": null
  },
  {
   "metadata": {},
   "cell_type": "code",
   "source": [
    "def look_up_metadata(document_citation, metadata):\n",
    "    document = metadata[metadata['id'] == document_citation].drop('id', axis=1)\n",
    "    return document.to_dict(orient='records')[0]"
   ],
   "id": "9b1f16c11cdf6f4",
   "outputs": [],
   "execution_count": null
  },
  {
   "metadata": {},
   "cell_type": "code",
   "source": [
    "for _record in tqdm(data):\n",
    "    document_metadata = look_up_metadata(_record['document_citation'], metadata)\n",
    "    _record.update(document_metadata)"
   ],
   "id": "ac39dba6e5c7978",
   "outputs": [],
   "execution_count": null
  },
  {
   "metadata": {},
   "cell_type": "code",
   "source": [
    "for key, value in data[0].items():\n",
    "    if isinstance(value, str):\n",
    "        value_str = 'str'\n",
    "    elif isinstance(value, int):\n",
    "        value_str = 'int'\n",
    "    elif isinstance(value, list):\n",
    "        value_str = 'List[str]'\n",
    "    elif isinstance(value, float):\n",
    "        value_str = 'float'\n",
    "    else:\n",
    "        value_str = str(type(value))\n",
    "    print(f\"{key}: {value_str}\")"
   ],
   "id": "ccdead5a9f20245",
   "outputs": [],
   "execution_count": null
  },
  {
   "metadata": {},
   "cell_type": "code",
   "source": [
    "class ChunkLanceModel(BaseModel):\n",
    "    content: str\n",
    "    type: str\n",
    "    document_citation: str\n",
    "    chunk_position: int\n",
    "    element_ids: List[str]\n",
    "    chunk_start: int\n",
    "    chunk_end: int\n",
    "    vector: Vector(768)\n",
    "    id: str\n",
    "    document_id: str\n",
    "    number: str\n",
    "    active: int\n",
    "    source: str\n",
    "    topics: List[str]\n",
    "    version_id: str\n",
    "    date: str\n",
    "    retrieved_date: str\n",
    "    title: str\n",
    "    summary: str\n",
    "    source_file: str\n",
    "    type_id: str"
   ],
   "id": "f5ec8fec15087216",
   "outputs": [],
   "execution_count": null
  },
  {
   "metadata": {},
   "cell_type": "code",
   "source": "index = lancedb.connect(index_folder)",
   "id": "cd9367b533676f4e",
   "outputs": [],
   "execution_count": null
  },
  {
   "metadata": {},
   "cell_type": "code",
   "source": [
    "table = index.create_table(index_table_name,\n",
    "                           data=data,\n",
    "                           schema=lancedb.pydantic.pydantic_to_schema(ChunkLanceModel),\n",
    "                           mode='overwrite')"
   ],
   "id": "1e139d265b56a64c",
   "outputs": [],
   "execution_count": null
  },
  {
   "metadata": {},
   "cell_type": "code",
   "source": "",
   "id": "87263f18cd85ac7b",
   "outputs": [],
   "execution_count": null
  }
 ],
 "metadata": {
  "kernelspec": {
   "display_name": "Python 3",
   "language": "python",
   "name": "python3"
  },
  "language_info": {
   "codemirror_mode": {
    "name": "ipython",
    "version": 2
   },
   "file_extension": ".py",
   "mimetype": "text/x-python",
   "name": "python",
   "nbconvert_exporter": "python",
   "pygments_lexer": "ipython2",
   "version": "2.7.6"
  }
 },
 "nbformat": 4,
 "nbformat_minor": 5
}
