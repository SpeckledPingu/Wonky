{
 "cells": [
  {
   "cell_type": "code",
   "id": "initial_id",
   "metadata": {
    "collapsed": true
   },
   "source": [
    "from sqlmodel import Field, Session, SQLModel, create_engine, select\n",
    "from sqlalchemy.orm import declarative_base, sessionmaker\n",
    "\n",
    "from pathlib import Path\n",
    "import json\n",
    "import sqlite3"
   ],
   "outputs": [],
   "execution_count": null
  },
  {
   "metadata": {},
   "cell_type": "code",
   "source": "import pandas as pd",
   "id": "df66e3c32e2965c4",
   "outputs": [],
   "execution_count": null
  },
  {
   "metadata": {},
   "cell_type": "code",
   "source": [
    "parsed_folder = Path('/Users/jameslittiebrant/Data/crs_reports/parsed')\n",
    "run_time = \"20250723_1319\"\n",
    "section_data_path = parsed_folder.joinpath(f\"{run_time}_sections.json\")\n",
    "chunk_data_path = parsed_folder.joinpath(f\"{run_time}_chunks.json\")\n",
    "metadata_path = parsed_folder.joinpath(f\"{run_time}_files.json\")"
   ],
   "id": "f59c7d7143ade41c",
   "outputs": [],
   "execution_count": null
  },
  {
   "metadata": {},
   "cell_type": "code",
   "source": "database_location = Path('/Users/jameslittiebrant/Data/Mycroft/databases')",
   "id": "ffebe2bbd088c752",
   "outputs": [],
   "execution_count": null
  },
  {
   "metadata": {},
   "cell_type": "code",
   "source": [
    "db_path = database_location.joinpath('documents.sqlite').absolute()\n",
    "# engine = sqlite3.connect(db_path)\n",
    "engine = create_engine(f'sqlite:///{db_path}')"
   ],
   "id": "e798c51b783c97e3",
   "outputs": [],
   "execution_count": null
  },
  {
   "metadata": {},
   "cell_type": "markdown",
   "source": [
    "from sqlalchemy import (\n",
    "    inspect\n",
    ")\n",
    "Base = declarative_base()"
   ],
   "id": "b1661df7d43284ba"
  },
  {
   "metadata": {},
   "cell_type": "markdown",
   "source": [
    "inspector = inspect(engine)\n",
    "table_names = inspector.get_table_names()\n",
    "table_names"
   ],
   "id": "a1374d5948ba1081"
  },
  {
   "metadata": {},
   "cell_type": "code",
   "source": [
    "# class DocumentDBModel(Base):\n",
    "#     __tablename__ = \"documents\"\n",
    "#     pkey = Column(Integer, primary_key=True, autoincrement=True)\n",
    "#     id = Column(String)\n",
    "#     type = Column(String)\n",
    "#     number = Column(String)\n",
    "#     active = Column(Boolean)\n",
    "#     source = Column(String)\n",
    "#     topics = Column(String)\n",
    "#     version_id = Column(String)\n",
    "#     date = Column(String)\n",
    "#     retrieved_date = Column(String)\n",
    "#     title = Column(String)\n",
    "\n",
    "\n",
    "# from sqlmodel import Field, Session, SQLModel, create_engine, select\n",
    "# from typing import Optional\n",
    "#\n",
    "# class DocumentDBModel(SQLModel, table=True):\n",
    "#     __tablename__ = \"documents\"\n",
    "#     p_key: Optional[int] = Field(default=None, primary_key=True)\n",
    "#     id: str #| None = Field(default=None, primary_key=True)\n",
    "#     type: str\n",
    "#     number: str\n",
    "#     active: bool\n",
    "#     source: str\n",
    "#     topics: int\n",
    "#     version_id: int\n",
    "#     date: str\n",
    "#     retrieved_date: str\n",
    "#     title: str\n"
   ],
   "id": "bcddd9fb5622808f",
   "outputs": [],
   "execution_count": null
  },
  {
   "metadata": {},
   "cell_type": "code",
   "source": [
    "Session = sessionmaker(bind=engine)\n",
    "session = Session()"
   ],
   "id": "1538a473690bda08",
   "outputs": [],
   "execution_count": null
  },
  {
   "metadata": {},
   "cell_type": "code",
   "source": "from datamodels import *",
   "id": "13281ad333da1854",
   "outputs": [],
   "execution_count": null
  },
  {
   "metadata": {},
   "cell_type": "markdown",
   "source": "SQLModel.metadata.create_all(engine)",
   "id": "6c28b2e17540fcc4"
  },
  {
   "metadata": {},
   "cell_type": "markdown",
   "source": "Base.metadata.create_all(engine)",
   "id": "d7e9b535148ab056"
  },
  {
   "metadata": {},
   "cell_type": "code",
   "source": "section_data = pd.read_json(section_data_path)",
   "id": "9075773ee873a89c",
   "outputs": [],
   "execution_count": null
  },
  {
   "metadata": {},
   "cell_type": "code",
   "source": "section_data.head()",
   "id": "ba60955db1de7eb3",
   "outputs": [],
   "execution_count": null
  },
  {
   "metadata": {},
   "cell_type": "code",
   "source": "section_data_dict = section_data.to_dict(orient='records')",
   "id": "27e094b81e3ec236",
   "outputs": [],
   "execution_count": null
  },
  {
   "metadata": {},
   "cell_type": "code",
   "source": "",
   "id": "4f4eeb2b896eb201",
   "outputs": [],
   "execution_count": null
  },
  {
   "metadata": {},
   "cell_type": "code",
   "source": "session.bulk_insert_mappings(SectionDBModel, section_data_dict)",
   "id": "a515f2e26284add6",
   "outputs": [],
   "execution_count": null
  },
  {
   "metadata": {},
   "cell_type": "code",
   "source": "# section_data.to_sql('sections', engine, if_exists='replace', index=False)",
   "id": "9743fa0e8434795",
   "outputs": [],
   "execution_count": null
  },
  {
   "metadata": {},
   "cell_type": "code",
   "source": "chunk_data = pd.read_json(chunk_data_path)",
   "id": "b7e845ae1cd4afe3",
   "outputs": [],
   "execution_count": null
  },
  {
   "metadata": {},
   "cell_type": "code",
   "source": "chunk_data.head()",
   "id": "ef830645a878ad91",
   "outputs": [],
   "execution_count": null
  },
  {
   "metadata": {},
   "cell_type": "code",
   "source": "chunk_data['element_ids'] = chunk_data['element_ids'].str.join(',')",
   "id": "fa6a62e3beec15e0",
   "outputs": [],
   "execution_count": null
  },
  {
   "metadata": {},
   "cell_type": "code",
   "source": "chunk_data.dtypes",
   "id": "31364be5756343e6",
   "outputs": [],
   "execution_count": null
  },
  {
   "metadata": {},
   "cell_type": "code",
   "source": "chunk_data_dict = chunk_data.to_dict(orient='records')",
   "id": "d2d905f5d0679628",
   "outputs": [],
   "execution_count": null
  },
  {
   "metadata": {},
   "cell_type": "code",
   "source": "session.bulk_insert_mappings(ChunkDBModel, chunk_data_dict)",
   "id": "12213a0b259be47a",
   "outputs": [],
   "execution_count": null
  },
  {
   "metadata": {},
   "cell_type": "code",
   "source": "",
   "id": "266d8dd9cc1475e4",
   "outputs": [],
   "execution_count": null
  },
  {
   "metadata": {},
   "cell_type": "code",
   "source": "metadata_data = pd.read_json(metadata_path, convert_dates=False)",
   "id": "3938d1a02ee412db",
   "outputs": [],
   "execution_count": null
  },
  {
   "metadata": {},
   "cell_type": "code",
   "source": "metadata_data.head()",
   "id": "7cf75b6afb061f38",
   "outputs": [],
   "execution_count": null
  },
  {
   "metadata": {},
   "cell_type": "code",
   "source": "metadata_data['topics'] = metadata_data['topics'].str.join('|')",
   "id": "2f2c2cf1cfb1fd35",
   "outputs": [],
   "execution_count": null
  },
  {
   "metadata": {},
   "cell_type": "code",
   "source": "metadata_data.dtypes",
   "id": "82f642ae5d9c07a1",
   "outputs": [],
   "execution_count": null
  },
  {
   "metadata": {},
   "cell_type": "code",
   "source": "metadata_data_dict = metadata_data.to_dict(orient='records')",
   "id": "c734a62909eec811",
   "outputs": [],
   "execution_count": null
  },
  {
   "metadata": {},
   "cell_type": "code",
   "source": "session.bulk_insert_mappings(DocumentDBModel, metadata_data_dict)",
   "id": "c858f7f3ebdb755e",
   "outputs": [],
   "execution_count": null
  },
  {
   "metadata": {},
   "cell_type": "code",
   "source": "session.commit()",
   "id": "c1c7879c7bccafba",
   "outputs": [],
   "execution_count": null
  },
  {
   "metadata": {},
   "cell_type": "code",
   "source": "session.close()",
   "id": "570da7a5cfded42e",
   "outputs": [],
   "execution_count": null
  },
  {
   "metadata": {},
   "cell_type": "code",
   "source": "engine.dispose()",
   "id": "310ad6c5ce39119b",
   "outputs": [],
   "execution_count": null
  },
  {
   "metadata": {},
   "cell_type": "code",
   "source": "",
   "id": "a236329a77701365",
   "outputs": [],
   "execution_count": null
  }
 ],
 "metadata": {
  "kernelspec": {
   "display_name": "Python 3",
   "language": "python",
   "name": "python3"
  },
  "language_info": {
   "codemirror_mode": {
    "name": "ipython",
    "version": 2
   },
   "file_extension": ".py",
   "mimetype": "text/x-python",
   "name": "python",
   "nbconvert_exporter": "python",
   "pygments_lexer": "ipython2",
   "version": "2.7.6"
  }
 },
 "nbformat": 4,
 "nbformat_minor": 5
}
