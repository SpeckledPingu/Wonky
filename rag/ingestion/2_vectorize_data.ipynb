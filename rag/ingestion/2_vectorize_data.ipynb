{
 "cells": [
  {
   "cell_type": "code",
   "id": "initial_id",
   "metadata": {},
   "source": [
    "from sentence_transformers import SentenceTransformer\n",
    "import lancedb\n",
    "from pathlib import Path\n",
    "import torch\n",
    "from copy import deepcopy\n",
    "import json\n",
    "import gzip\n",
    "import re"
   ],
   "outputs": [],
   "execution_count": null
  },
  {
   "cell_type": "code",
   "id": "7646b6bdd9e7ac42",
   "metadata": {},
   "source": [
    "from tqdm.notebook import tqdm"
   ],
   "outputs": [],
   "execution_count": null
  },
  {
   "cell_type": "code",
   "id": "d1119cfe375fe3f5",
   "metadata": {},
   "source": [
    "encoder = SentenceTransformer('nomic-ai/nomic-embed-text-v1.5', device='mps',trust_remote_code=True)"
   ],
   "outputs": [],
   "execution_count": null
  },
  {
   "metadata": {},
   "cell_type": "code",
   "source": [
    "def format_chunks(chunks):\n",
    "    markdown_text = list()\n",
    "    for chunk in chunks:\n",
    "        if 'heading' in chunk['type']:\n",
    "            heading_strength = int(chunk['type'].split('_')[1])\n",
    "            markdown_text.append(\"#\"* heading_strength + ' ' + chunk['content'].strip() + '\\n')\n",
    "        if 'table' in chunk['type']:\n",
    "            continue\n",
    "        else:\n",
    "            # Remove any trailing footnote numbers\n",
    "            # markdown_text.append(f\"[{chunk['citation']}]\\n\" + chunk['content'].rstrip('0123456789').strip() + f\"\\n[/{chunk['citation']}]\\n\")\n",
    "            # Only vectorized_text\n",
    "            raw_text = chunk['content'].strip()\n",
    "            if '#_Toc' in raw_text:\n",
    "                continue\n",
    "            raw_text = re.sub(r'(http:[\\w\\W]+?)\\)','',raw_text.strip())\n",
    "            raw_text = re.sub(r'(\\[|\\])',' ', raw_text)\n",
    "            raw_text = re.sub(r'(\\(\\))',' ', raw_text)\n",
    "            raw_text = re.sub(r'(\\s+)',' ',raw_text.strip())\n",
    "            markdown_text.append(f\"{raw_text.strip()}\")\n",
    "    return '\\n'.join(markdown_text)"
   ],
   "id": "de458e750bf97ee3",
   "outputs": [],
   "execution_count": null
  },
  {
   "metadata": {},
   "cell_type": "code",
   "source": "",
   "id": "910559e0583bfba8",
   "outputs": [],
   "execution_count": null
  },
  {
   "metadata": {},
   "cell_type": "code",
   "source": "",
   "id": "ed55114832f72025",
   "outputs": [],
   "execution_count": null
  },
  {
   "cell_type": "code",
   "id": "7b977602200df9dd",
   "metadata": {},
   "source": [
    "source_folder = Path('reports/parsed')\n",
    "vector_file = Path('reports/vectors')"
   ],
   "outputs": [],
   "execution_count": null
  },
  {
   "cell_type": "code",
   "id": "ee34839625ac040d",
   "metadata": {},
   "source": [
    "source_files = list(source_folder.glob('*.*'))\n",
    "source_files[0]"
   ],
   "outputs": [],
   "execution_count": null
  },
  {
   "metadata": {},
   "cell_type": "code",
   "source": "source_files[0].name",
   "id": "ccb46edc56a3b298",
   "outputs": [],
   "execution_count": null
  },
  {
   "cell_type": "code",
   "id": "e48eb57357e0453a",
   "metadata": {},
   "source": [
    "with open(source_files[0], 'r') as f:\n",
    "    data = json.load(f)"
   ],
   "outputs": [],
   "execution_count": null
  },
  {
   "metadata": {},
   "cell_type": "code",
   "source": "len(data)",
   "id": "7fcf059148cd5160",
   "outputs": [],
   "execution_count": null
  },
  {
   "metadata": {},
   "cell_type": "code",
   "source": "data[0]",
   "id": "1c7bbf9f750eff72",
   "outputs": [],
   "execution_count": null
  },
  {
   "metadata": {},
   "cell_type": "code",
   "source": "metadata_fields = ['id', 'type', 'typeId', 'number', 'active', 'source', 'topics', 'version_id', 'date', 'retrieved_date', 'title', 'summary', 'source_file']",
   "id": "6d1445f48daf45ae",
   "outputs": [],
   "execution_count": null
  },
  {
   "metadata": {},
   "cell_type": "code",
   "source": [
    "def split_chunks(document, metadata_fields):\n",
    "    passages = list()\n",
    "    metadata = {k:v for k, v in document.items() if k in metadata_fields}\n",
    "    for _chunk in document['chunks']:\n",
    "        start_index = min([x['doc_index'] for x in _chunk])\n",
    "        end_index = max([x['doc_index'] for x in _chunk])\n",
    "        formatted_chunk = format_chunks(_chunk)\n",
    "        passage_metadata = deepcopy(metadata)\n",
    "        passage_metadata['passage_text'] = formatted_chunk\n",
    "        passage_metadata['sections'] = deepcopy(_chunk)\n",
    "        passage_metadata['start_index'] = start_index\n",
    "        passage_metadata['end_index'] = end_index\n",
    "        passages.append(passage_metadata)\n",
    "    return passages"
   ],
   "id": "de85dad245feac3b",
   "outputs": [],
   "execution_count": null
  },
  {
   "metadata": {},
   "cell_type": "code",
   "source": "split_chunks(data[-100], metadata_fields)[1]",
   "id": "19ab29e0a7c8de11",
   "outputs": [],
   "execution_count": null
  },
  {
   "metadata": {},
   "cell_type": "code",
   "source": [
    "all_chunks = list()\n",
    "for document in tqdm(data):\n",
    "    passages = split_chunks(document, metadata_fields)\n",
    "    all_chunks.extend(passages)"
   ],
   "id": "344bc1b6c6b5eba4",
   "outputs": [],
   "execution_count": null
  },
  {
   "metadata": {},
   "cell_type": "code",
   "source": [
    "extended_name = source_files[0].name.replace('parsed','expanded')\n",
    "with gzip.open(source_folder.joinpath(extended_name + '.gz'), 'wt') as f:\n",
    "    json.dump(all_chunks, f)"
   ],
   "id": "791394aa005d3bfe",
   "outputs": [],
   "execution_count": null
  },
  {
   "metadata": {},
   "cell_type": "code",
   "source": "extended_name",
   "id": "3e63d3fe3357e9ca",
   "outputs": [],
   "execution_count": null
  },
  {
   "cell_type": "code",
   "id": "4edf0941-f306-413d-9336-32fda1a6e9cf",
   "metadata": {},
   "source": [
    "vectorized_chunks = list()\n",
    "for document in tqdm(data):\n",
    "    passages = split_chunks(document, metadata_fields)\n",
    "    # print(len(passages))\n",
    "    for passage in passages:\n",
    "        passage['vector'] = encoder.encode(passage['passage_text'])\n",
    "        torch.mps.empty_cache()\n",
    "    vectorized_chunks.extend(passages)"
   ],
   "outputs": [],
   "execution_count": null
  },
  {
   "metadata": {},
   "cell_type": "code",
   "source": "passage",
   "id": "826a75e5c2c7f2ee",
   "outputs": [],
   "execution_count": null
  },
  {
   "metadata": {},
   "cell_type": "code",
   "source": "",
   "id": "f378dee2d6ec18c9",
   "outputs": [],
   "execution_count": null
  },
  {
   "metadata": {},
   "cell_type": "code",
   "source": "",
   "id": "da06c9abecdd9a4c",
   "outputs": [],
   "execution_count": null
  },
  {
   "metadata": {},
   "cell_type": "code",
   "source": "",
   "id": "2424dfd0e98a16cb",
   "outputs": [],
   "execution_count": null
  }
 ],
 "metadata": {
  "kernelspec": {
   "display_name": "Python 3 (ipykernel)",
   "language": "python",
   "name": "python3"
  },
  "language_info": {
   "codemirror_mode": {
    "name": "ipython",
    "version": 3
   },
   "file_extension": ".py",
   "mimetype": "text/x-python",
   "name": "python",
   "nbconvert_exporter": "python",
   "pygments_lexer": "ipython3",
   "version": "3.12.9"
  }
 },
 "nbformat": 4,
 "nbformat_minor": 5
}
