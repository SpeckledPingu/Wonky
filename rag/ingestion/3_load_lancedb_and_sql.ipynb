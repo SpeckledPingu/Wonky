{
 "cells": [
  {
   "cell_type": "code",
   "id": "initial_id",
   "metadata": {},
   "source": [
    "import lancedb\n",
    "from pathlib import Path\n",
    "import pandas as pd\n",
    "from copy import deepcopy\n",
    "import json\n",
    "import gzip\n",
    "import re\n",
    "import sqlite3\n",
    "from sentence_transformers import SentenceTransformer"
   ],
   "outputs": [],
   "execution_count": null
  },
  {
   "cell_type": "code",
   "id": "7646b6bdd9e7ac42",
   "metadata": {},
   "source": [
    "from tqdm.notebook import tqdm"
   ],
   "outputs": [],
   "execution_count": null
  },
  {
   "metadata": {},
   "cell_type": "code",
   "source": [
    "data_folderpath = Path('reports/vectors')\n",
    "data_filename = \"20250702_0720_expanded.json.gz\"\n",
    "\n",
    "\n",
    "index_name = 'crs_reports'\n",
    "table_name = 'sections'\n",
    "index_path = Path(f'../wonky_data/{index_name}')\n",
    "\n",
    "db = 'documents.sqlite'\n",
    "sql_folder_path = Path(f'../wonky_data/databases/')\n",
    "sql_folder_path.mkdir(parents=True, exist_ok=True)\n",
    "sql_path = sql_folder_path.joinpath(db)\n",
    "\n",
    "table_name_metadata = 'metadata'\n",
    "table_name_text = 'text'\n",
    "table_name_sections = 'sections'"
   ],
   "id": "874eae3dc1c77335",
   "outputs": [],
   "execution_count": null
  },
  {
   "metadata": {},
   "cell_type": "code",
   "source": [
    "with gzip.open(data_folderpath.joinpath(data_filename),'rt') as f:\n",
    "    data = json.load(f)"
   ],
   "id": "123b5acfd9c6c397",
   "outputs": [],
   "execution_count": null
  },
  {
   "metadata": {},
   "cell_type": "code",
   "source": "data = pd.DataFrame(data)",
   "id": "e5ceceae66741b67",
   "outputs": [],
   "execution_count": null
  },
  {
   "metadata": {},
   "cell_type": "code",
   "source": "data['version_id'] = data['version_id'].astype(str)",
   "id": "f43085d390cf26c0",
   "outputs": [],
   "execution_count": null
  },
  {
   "metadata": {},
   "cell_type": "code",
   "source": "data.head()",
   "id": "4ccfe83228fceada",
   "outputs": [],
   "execution_count": null
  },
  {
   "metadata": {},
   "cell_type": "code",
   "source": "data['chunk_id'] = data.apply(lambda row: f\"{row['id']}_{row['start_index']}_{row['end_index']}\", axis=1)",
   "id": "568676dde8a2cf0b",
   "outputs": [],
   "execution_count": null
  },
  {
   "metadata": {},
   "cell_type": "code",
   "source": "data.head()",
   "id": "551ad07f65089755",
   "outputs": [],
   "execution_count": null
  },
  {
   "metadata": {},
   "cell_type": "code",
   "source": "data = data.drop_duplicates(subset=['chunk_id'])",
   "id": "a72df124b64da56c",
   "outputs": [],
   "execution_count": null
  },
  {
   "metadata": {},
   "cell_type": "code",
   "source": "data.shape",
   "id": "40de23cf7a694f1e",
   "outputs": [],
   "execution_count": null
  },
  {
   "metadata": {},
   "cell_type": "code",
   "source": [
    "metadata_df = data[['id','type','typeId','number','active','source','topics','version_id','date','title','summary','source_file']]\n",
    "metadata_df['topics'] = metadata_df['topics'].str.join(',')\n",
    "print(metadata_df.shape)\n",
    "metadata_df = metadata_df.drop_duplicates()\n",
    "print(metadata_df.shape)\n",
    "\n",
    "text_df = data[['id','title','passage_text','start_index','end_index','chunk_id','vector']].copy()\n",
    "text_df['vector'] = text_df['vector'].apply(lambda vector: ','.join([str(x) for x in vector]))\n",
    "sections_df = data[['sections','start_index','end_index','chunk_id','id']].copy()"
   ],
   "id": "aae3ad32adf2779",
   "outputs": [],
   "execution_count": null
  },
  {
   "metadata": {},
   "cell_type": "code",
   "source": "sections_df.head()",
   "id": "ddeb6203c26ed069",
   "outputs": [],
   "execution_count": null
  },
  {
   "metadata": {},
   "cell_type": "code",
   "source": "sections_df = sections_df.explode('sections').to_dict(orient='records')",
   "id": "e979e938277d99ff",
   "outputs": [],
   "execution_count": null
  },
  {
   "metadata": {},
   "cell_type": "code",
   "source": "len(sections_df)",
   "id": "a35b276765910366",
   "outputs": [],
   "execution_count": null
  },
  {
   "metadata": {},
   "cell_type": "code",
   "source": [
    "sections = list()\n",
    "for _section in sections_df:\n",
    "    _section_data = _section['sections']\n",
    "    _section_data['start_index'] = _section['start_index']\n",
    "    _section_data['end_index'] = _section['end_index']\n",
    "    _section_data['chunk_id'] = _section['chunk_id']\n",
    "    _section_data['id'] = _section['id']\n",
    "    sections.append(_section_data)"
   ],
   "id": "bc0ceb978fe98d55",
   "outputs": [],
   "execution_count": null
  },
  {
   "metadata": {},
   "cell_type": "code",
   "source": "_section",
   "id": "9496bfd46dbe0533",
   "outputs": [],
   "execution_count": null
  },
  {
   "metadata": {},
   "cell_type": "code",
   "source": "sections_df = pd.DataFrame(sections)",
   "id": "241e94c29f998c33",
   "outputs": [],
   "execution_count": null
  },
  {
   "metadata": {},
   "cell_type": "code",
   "source": "sections_df.head()",
   "id": "40f33a762d0f2435",
   "outputs": [],
   "execution_count": null
  },
  {
   "metadata": {},
   "cell_type": "code",
   "source": "conn = sqlite3.connect(sql_path)",
   "id": "24445b31f057ff11",
   "outputs": [],
   "execution_count": null
  },
  {
   "metadata": {},
   "cell_type": "code",
   "source": "metadata_df.to_sql(table_name_metadata, conn, if_exists='replace')",
   "id": "c17f0d8927df26fd",
   "outputs": [],
   "execution_count": null
  },
  {
   "metadata": {},
   "cell_type": "code",
   "source": "sections_df.to_sql(table_name_sections, conn, if_exists='replace')",
   "id": "4ca5d563dedcb2c4",
   "outputs": [],
   "execution_count": null
  },
  {
   "metadata": {},
   "cell_type": "code",
   "source": "text_df.to_sql(table_name_text, conn, if_exists='replace')",
   "id": "c0c9111405ce8c27",
   "outputs": [],
   "execution_count": null
  },
  {
   "metadata": {},
   "cell_type": "code",
   "source": "",
   "id": "cbdd2cbce6e0c1f8",
   "outputs": [],
   "execution_count": null
  },
  {
   "metadata": {},
   "cell_type": "code",
   "source": "",
   "id": "ac7005d0d8462e1c",
   "outputs": [],
   "execution_count": null
  },
  {
   "metadata": {},
   "cell_type": "code",
   "source": [
    "index = lancedb.connect(index_path)\n",
    "if table_name in index.table_names():\n",
    "    index.drop_table(table_name)\n",
    "table = index.create_table(table_name, data=data)\n",
    "table.create_index(metric='cosine')\n",
    "table.create_fts_index(['id', 'typeId', 'title', 'summary', 'passage_text','chunk_id'], replace=True)"
   ],
   "id": "e1215c754d173f30",
   "outputs": [],
   "execution_count": null
  },
  {
   "metadata": {},
   "cell_type": "code",
   "source": "",
   "id": "12327e7b3cb96e28",
   "outputs": [],
   "execution_count": null
  },
  {
   "metadata": {},
   "cell_type": "code",
   "source": "encoder = SentenceTransformer('nomic-ai/nomic-embed-text-v1.5', device='mps',trust_remote_code=True)",
   "id": "9c1d5623f7b63983",
   "outputs": [],
   "execution_count": null
  },
  {
   "metadata": {},
   "cell_type": "code",
   "source": [
    "query = 'federal interest rates'\n",
    "query_vector = encoder.encode(query)"
   ],
   "id": "97ae543380fa5aac",
   "outputs": [],
   "execution_count": null
  },
  {
   "metadata": {},
   "cell_type": "code",
   "source": "results = table.search(query_vector).limit(10).to_pandas()",
   "id": "42fd840f940ef12",
   "outputs": [],
   "execution_count": null
  },
  {
   "metadata": {},
   "cell_type": "code",
   "source": "results.head()",
   "id": "883d4e11195865a4",
   "outputs": [],
   "execution_count": null
  },
  {
   "metadata": {},
   "cell_type": "code",
   "source": [
    "row = results.iloc[1]\n",
    "chunk_id = row['chunk_id']\n",
    "report_id = row['id']\n",
    "start_idx = row['start_index']\n",
    "end_idx = row['end_index']"
   ],
   "id": "18c52b97e833ec9c",
   "outputs": [],
   "execution_count": null
  },
  {
   "metadata": {},
   "cell_type": "code",
   "source": [
    "def get_sections_by_id(id: str, conn: sqlite3.Connection):\n",
    "    lookup_df = pd.read_sql(f\"\"\"\n",
    "SELECT * FROM sections\n",
    "WHERE id='{id}'\"\"\", conn)\n",
    "    return lookup_df\n",
    "\n",
    "def get_sections_by_chunk(chunk_id: str, conn: sqlite3.Connection):\n",
    "    lookup_df = pd.read_sql(f\"\"\"\n",
    "SELECT * FROM sections\n",
    "WHERE chunk_id='{chunk_id}'\"\"\", conn)\n",
    "    return lookup_df\n",
    "\n",
    "def get_sections_by_indexes(id: str, start_index: int, end_index: int, conn: sqlite3.Connection):\n",
    "    lookup_df = pd.read_sql(f\"\"\"\n",
    "        SELECT * FROM sections\n",
    "        WHERE doc_index >= {start_index} AND doc_index <= {end_index} and id = '{id}'\"\"\", conn)\n",
    "    return lookup_df"
   ],
   "id": "f923a49bf239a392",
   "outputs": [],
   "execution_count": null
  },
  {
   "metadata": {},
   "cell_type": "code",
   "source": "get_sections_by_chunk(chunk_id, conn)",
   "id": "66f42da0f290d371",
   "outputs": [],
   "execution_count": null
  },
  {
   "metadata": {},
   "cell_type": "code",
   "source": "get_sections_by_id(report_id, conn)",
   "id": "87d08ba483131e47",
   "outputs": [],
   "execution_count": null
  },
  {
   "metadata": {},
   "cell_type": "code",
   "source": "get_sections_by_indexes(report_id, start_idx, end_idx, conn)",
   "id": "e93bbe7a2f32cddd",
   "outputs": [],
   "execution_count": null
  },
  {
   "metadata": {},
   "cell_type": "code",
   "source": "get_sections_by_indexes(report_id, 10, end_idx, conn)",
   "id": "cd30624209196fd1",
   "outputs": [],
   "execution_count": null
  },
  {
   "metadata": {},
   "cell_type": "code",
   "source": "",
   "id": "d6d9344befe2ced9",
   "outputs": [],
   "execution_count": null
  },
  {
   "metadata": {},
   "cell_type": "code",
   "source": [
    "def get_text_by_id(id: str, conn: sqlite3.Connection):\n",
    "    lookup_df = pd.read_sql(f\"\"\"\n",
    "    SELECT * FROM text\n",
    "    WHERE id='{id}'\"\"\", conn)\n",
    "    return lookup_df\n",
    "\n",
    "def get_text_by_chunk_id(chunk_id: str, conn: sqlite3.Connection):\n",
    "    lookup_df = pd.read_sql(f\"\"\"\n",
    "    SELECT * FROM text\n",
    "    WHERE chunk_id='{chunk_id}'\"\"\", conn)\n",
    "    return lookup_df\n",
    "\n",
    "def get_text_by_indexes(id: str, start_index: int, end_index: int, conn: sqlite3.Connection):\n",
    "    lookup_df = pd.read_sql(f\"\"\"\n",
    "    SELECT * FROM text\n",
    "    WHERE id='{id}' AND start_index >= {start_index} AND end_index <= {end_index}\"\"\", conn)\n",
    "    return lookup_df\n",
    "\n",
    "def get_text_by_indexes_expansion(id: str, start_index: int, end_index: int, conn: sqlite3.Connection):\n",
    "    lookup_df = pd.read_sql(f\"\"\"\n",
    "    SELECT * FROM text\n",
    "    WHERE id='{id}'\n",
    "    AND\n",
    "    (\n",
    "        (start_index <= {start_index} AND end_index >= {start_index})\n",
    "        OR\n",
    "        (start_index <= {end_index} AND end_index >= {end_index})\n",
    "        OR\n",
    "        (start_index >= {start_index} AND end_index <= {end_index})\n",
    "    )\n",
    "    \"\"\", conn)\n",
    "    return lookup_df\n",
    "\n",
    "def get_text_by_indexes_sections(id: str, start_index: int, end_index: int, conn: sqlite3.Connection):\n",
    "    lookup_df = pd.read_sql(f\"\"\"\n",
    "    SELECT * from sections\n",
    "    WHERE\n",
    "    id='{id}'\n",
    "    AND\n",
    "    doc_index >= {start_index} AND doc_index <= {end_index}\"\"\", conn)\n",
    "    return lookup_df\n",
    "\n",
    "def get_full_article_text(id: str, conn: sqlite3.Connection):\n",
    "    df = get_text_by_id(id, conn)\n",
    "    text = CitationFormatter().formatter_xml_tag_article(df['passage_text'].to_list(), df['chunk_id'].to_list())\n",
    "    return text\n",
    "\n",
    "def get_chunk_text_by_indexes(id: str, start_index: int, end_index: int, conn: sqlite3.Connection):\n",
    "    df = get_text_by_indexes(id, start_index, end_index, conn)\n",
    "    text = CitationFormatter().formatter_xml_tag_article(df['passage_text'].to_list(), df['chunk_id'].to_list())\n",
    "    return text\n",
    "\n",
    "def get_chunk_text_by_indexes_expansion(id: str, start_index: int, end_index: int, conn: sqlite3.Connection):\n",
    "    df = get_text_by_indexes_expansion(id, start_index, end_index, conn)\n",
    "    text = CitationFormatter().formatter_xml_tag_article(df['passage_text'].to_list(), df['chunk_id'].to_list())\n",
    "    return text\n",
    "\n",
    "def get_section_text_by_indexes(id: str, start_index, end_index, conn: sqlite3.Connection):\n",
    "    df = get_text_by_indexes_sections(id, start_index, end_index, conn)\n",
    "    print(df.columns)\n",
    "    text = CitationFormatter().formatter_xml_tag_article(df['content'].to_list(), df['citation'].to_list())\n",
    "    return text\n",
    "\n",
    "def make_on_the_fly_citations(base_citation: str, start_index: int, number_of_records: int, connector='_'):\n",
    "    return [f\"\"\"{base_citation}{connector}{_idx}\"\"\" for _idx in range(start_index, start_index+number_of_records)]\n",
    "\n",
    "def get_section_text_by_indexes_otf_citation(id: str, start_index: int, end_index, conn: sqlite3.Connection, otf_connector='_', reset_index=True):\n",
    "    df = get_text_by_indexes_sections(id, start_index, end_index, conn)\n",
    "    if reset_index:\n",
    "        otf_citations = make_on_the_fly_citations(base_citation=id, start_index=0, number_of_records=len(df), connector=otf_connector)\n",
    "    else:\n",
    "        otf_citations = make_on_the_fly_citations(base_citation=id, start_index=start_index, number_of_records=len(df), connector=otf_connector)\n",
    "    text = CitationFormatter().formatter_xml_tag_article(df['content'].to_list(), otf_citations)\n",
    "    return text\n",
    "\n",
    "def get_section_text_by_indexes_otf_citation_reset(id: str, start_index: int, end_index, conn: sqlite3.Connection, otf_connector='_'):\n",
    "    df = get_text_by_indexes_sections(id, start_index, end_index, conn)\n",
    "    otf_citations = make_on_the_fly_citations(base_citation=id, start_index=0, number_of_records=len(df), connector=otf_connector)\n",
    "    text = CitationFormatter().formatter_xml_tag_article(df['content'].to_list(), otf_citations)\n",
    "    return text\n",
    "\n",
    "class CitationFormatter():\n",
    "    def formatter_boxend_section(self, text: str, citation: str):\n",
    "        return f\"\"\"{text.strip()} [{citation}]\"\"\"\n",
    "\n",
    "    def formatter_enclosed_box_section(self, text: str, citation: str):\n",
    "        return f\"\"\"[{citation}]\\n{text.strip()}\\n[/{citation}]\"\"\"\n",
    "\n",
    "    def formatter_xml_tag_section(self, text: str, citation: str):\n",
    "        return f\"\"\"<{citation}>\\n{text.strip()}\\n</{citation}>\"\"\"\n",
    "\n",
    "    def formatter_boxend_article(self, sections, citations):\n",
    "        formatted_sections = list()\n",
    "        for section, citation in zip(sections, citations):\n",
    "            formatted_sections.append(self.formatter_boxend_section(section, citation))\n",
    "        return '\\n\\n'.join(formatted_sections)\n",
    "\n",
    "    def formatter_enclosed_box_article(self, sections, citations):\n",
    "        formatted_sections = list()\n",
    "        for section, citation in zip(sections, citations):\n",
    "            formatted_sections.append(self.formatter_enclosed_box_section(section, citation))\n",
    "        return '\\n\\n-----\\n\\n'.join(formatted_sections)\n",
    "\n",
    "    def formatter_xml_tag_article(self, sections, citations):\n",
    "        formatted_sections = list()\n",
    "        for section, citation in zip(sections, citations):\n",
    "            formatted_sections.append(self.formatter_xml_tag_section(section, citation))\n",
    "        return '\\n\\n'.join(formatted_sections)"
   ],
   "id": "c5ba8ead829fd119",
   "outputs": [],
   "execution_count": null
  },
  {
   "metadata": {},
   "cell_type": "code",
   "source": "_ = get_section_text_by_indexes_otf_citation(report_id, 8, end_idx+11, conn=conn, otf_connector='_1__', reset_index=True)",
   "id": "4d83c9ffa43536ae",
   "outputs": [],
   "execution_count": null
  },
  {
   "metadata": {},
   "cell_type": "code",
   "source": "print(_)",
   "id": "f4e0a6706f78d8eb",
   "outputs": [],
   "execution_count": null
  },
  {
   "metadata": {},
   "cell_type": "code",
   "source": "",
   "id": "a2b70148682c40ba",
   "outputs": [],
   "execution_count": null
  },
  {
   "metadata": {},
   "cell_type": "code",
   "source": "",
   "id": "ae5e6e9e59a6ddab",
   "outputs": [],
   "execution_count": null
  }
 ],
 "metadata": {
  "kernelspec": {
   "display_name": "Python 3 (ipykernel)",
   "language": "python",
   "name": "python3"
  },
  "language_info": {
   "codemirror_mode": {
    "name": "ipython",
    "version": 3
   },
   "file_extension": ".py",
   "mimetype": "text/x-python",
   "name": "python",
   "nbconvert_exporter": "python",
   "pygments_lexer": "ipython3",
   "version": "3.12.9"
  }
 },
 "nbformat": 4,
 "nbformat_minor": 5
}
